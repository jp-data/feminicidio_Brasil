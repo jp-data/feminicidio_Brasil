{
  "nbformat": 4,
  "nbformat_minor": 0,
  "metadata": {
    "colab": {
      "name": "Feminicidios no Brasil",
      "provenance": [],
      "collapsed_sections": [],
      "authorship_tag": "ABX9TyMwnoiP9TQNG/ByhYq0oDbj",
      "include_colab_link": true
    },
    "kernelspec": {
      "name": "python3",
      "display_name": "Python 3"
    }
  },
  "cells": [
    {
      "cell_type": "markdown",
      "metadata": {
        "id": "view-in-github",
        "colab_type": "text"
      },
      "source": [
        "<a href=\"https://colab.research.google.com/github/jp-data/feminicidio_Brasil/blob/master/Feminicidios_no_Brasil.ipynb\" target=\"_parent\"><img src=\"https://colab.research.google.com/assets/colab-badge.svg\" alt=\"Open In Colab\"/></a>"
      ]
    },
    {
      "cell_type": "markdown",
      "metadata": {
        "id": "Bze6b67_uEj1",
        "colab_type": "text"
      },
      "source": [
        "**As taxas de feminicidio no Brasil estão entre as 10 maiores do mundo. Há \n",
        "anos, as autoridades brasileiras vem implementando diversas leis, politicas e programas na área de assistência social \n",
        "para diminuir esses números. Inclusive fora decretado, junto com a Lei Maria da Penha, a obrigatoriedade das autoridades em dispor para a sociedade dados abertos a respeito dos casos de homicídio de mulheres no Brasil. Orgãos como o Ministério da Justiça, o Ministério da Saúde, dentre outros, publicam periodicamente estes dados, muitas vezes discriminados por raça, idade, estado civil e outras caracteristicas das vítimas.**\n",
        "\n",
        "**A possibilidade do presente estudo é possível justamente a isso. Através do Sistema de Informação sobre Mortalidade, pertencente ao Ministério da Saúde, orgão que dispõe anualmente dados sobre homicidios de mulheres por agressão através do site do DATASUS, o projeto tem o objetivo de explorar alguns desses dados em nosso país ao longo de uma série de dez anos, que vai de 2008 a 2018. Os dados gerados, - não é novidade - colaboram com os tomadores de decisões a medida que identifica traços sociais desse tipo de crime.**\n",
        "\n"
      ]
    },
    {
      "cell_type": "markdown",
      "metadata": {
        "id": "oEtLN3UpW-hp",
        "colab_type": "text"
      },
      "source": [
        "A primeira etapa é importar as principais bibliotecas para o tratamento desses dados."
      ]
    },
    {
      "cell_type": "code",
      "metadata": {
        "id": "nvieV3_agwyj",
        "colab_type": "code",
        "colab": {}
      },
      "source": [
        "#geração de gráficos na interface do G.colab\n",
        "%matplotlib inline \n",
        "#bibliotecas principais\n",
        "import pandas as pd \n",
        "import numpy as np \n",
        "import seaborn as sb\n",
        "import matplotlib.pyplot as plt"
      ],
      "execution_count": 100,
      "outputs": []
    },
    {
      "cell_type": "code",
      "metadata": {
        "id": "sbxqAnnubbN2",
        "colab_type": "code",
        "colab": {
          "base_uri": "https://localhost:8080/",
          "height": 191
        },
        "outputId": "30d52ddc-1136-483b-819e-7208caa8d96a"
      },
      "source": [
        "#Leitura dos arquivos (disponíveis nos uploads da própria interface do G.Coolab), definido como versão latino americana e atribuido como separador ';'\n",
        "dados_brasil = pd.read_csv('/content/fem_tx_nacional.csv',encoding='latin-1',sep=';')\n",
        "dados_ufs=pd.read_csv('/content/fem_txlocal.csv',encoding='latin-1',sep=';')\n",
        "dados_brasil.head()"
      ],
      "execution_count": 101,
      "outputs": [
        {
          "output_type": "execute_result",
          "data": {
            "text/html": [
              "<div>\n",
              "<style scoped>\n",
              "    .dataframe tbody tr th:only-of-type {\n",
              "        vertical-align: middle;\n",
              "    }\n",
              "\n",
              "    .dataframe tbody tr th {\n",
              "        vertical-align: top;\n",
              "    }\n",
              "\n",
              "    .dataframe thead th {\n",
              "        text-align: right;\n",
              "    }\n",
              "</style>\n",
              "<table border=\"1\" class=\"dataframe\">\n",
              "  <thead>\n",
              "    <tr style=\"text-align: right;\">\n",
              "      <th></th>\n",
              "      <th>ano</th>\n",
              "      <th>mortes</th>\n",
              "      <th>população</th>\n",
              "    </tr>\n",
              "  </thead>\n",
              "  <tbody>\n",
              "    <tr>\n",
              "      <th>0</th>\n",
              "      <td>2008</td>\n",
              "      <td>4023</td>\n",
              "      <td>96.715.476</td>\n",
              "    </tr>\n",
              "    <tr>\n",
              "      <th>1</th>\n",
              "      <td>2009</td>\n",
              "      <td>4260</td>\n",
              "      <td>97.767.914</td>\n",
              "    </tr>\n",
              "    <tr>\n",
              "      <th>2</th>\n",
              "      <td>2010</td>\n",
              "      <td>4465</td>\n",
              "      <td>98.791.094</td>\n",
              "    </tr>\n",
              "    <tr>\n",
              "      <th>3</th>\n",
              "      <td>2011</td>\n",
              "      <td>4512</td>\n",
              "      <td>99.786.721</td>\n",
              "    </tr>\n",
              "    <tr>\n",
              "      <th>4</th>\n",
              "      <td>2012</td>\n",
              "      <td>4719</td>\n",
              "      <td>100.755.204</td>\n",
              "    </tr>\n",
              "  </tbody>\n",
              "</table>\n",
              "</div>"
            ],
            "text/plain": [
              "    ano  mortes    população\n",
              "0  2008    4023   96.715.476\n",
              "1  2009    4260   97.767.914\n",
              "2  2010    4465   98.791.094\n",
              "3  2011    4512   99.786.721\n",
              "4  2012    4719  100.755.204"
            ]
          },
          "metadata": {
            "tags": []
          },
          "execution_count": 101
        }
      ]
    },
    {
      "cell_type": "markdown",
      "metadata": {
        "id": "ug1YH4W-EUIs",
        "colab_type": "text"
      },
      "source": [
        "**O DataSet traz os dados referentes aos honicídios de mulheres ocorridos no Brasil ano a ano, no período que vai de 2008 a 2018.**\n",
        "\n",
        "**-Na primeira coluna encontramos os anos dos registros.**\n",
        "\n",
        "**-Na segunda coluna o numero de homícidios por agressão e na terceira coluna a estimativa da população feminina em nosso território.**\n",
        "\n",
        "**-Usaremos essa coluna para criarmos uma taxa de feminicídio, uma vez que não dispomos de tal dado.**"
      ]
    },
    {
      "cell_type": "code",
      "metadata": {
        "id": "TSeworeWADjE",
        "colab_type": "code",
        "colab": {
          "base_uri": "https://localhost:8080/",
          "height": 82
        },
        "outputId": "200304e8-df59-47eb-c862-2db1e0618c58"
      },
      "source": [
        "#conhecendo o formato dos dados de cada variável\n",
        "dados_brasil.dtypes"
      ],
      "execution_count": 102,
      "outputs": [
        {
          "output_type": "execute_result",
          "data": {
            "text/plain": [
              "ano           int64\n",
              "mortes        int64\n",
              "população    object\n",
              "dtype: object"
            ]
          },
          "metadata": {
            "tags": []
          },
          "execution_count": 102
        }
      ]
    },
    {
      "cell_type": "markdown",
      "metadata": {
        "id": "AgOvuphLFZeF",
        "colab_type": "text"
      },
      "source": [
        "**-Observamos que a coluna que traz a estimativa populacional feminina fora tratada como dados de strings.**\n",
        "\n",
        "**-Vamos então transformar esses dados em uma série de numeros inteiros, de forma a viabilizar a construção das taxas de feminicídio.**"
      ]
    },
    {
      "cell_type": "code",
      "metadata": {
        "id": "OFfF3CzHZFxZ",
        "colab_type": "code",
        "colab": {
          "base_uri": "https://localhost:8080/",
          "height": 191
        },
        "outputId": "4e246c16-e5c3-431c-b2a9-5192006b7f7a"
      },
      "source": [
        "#acessando a coluna tratada como strings, substituindo os pontos entre os números para que depois seja possível tranformar seus formatos. \n",
        "dados_brasil.população=dados_brasil.população.str.replace('.','').astype(int)\n",
        "\n",
        "#criando uma lista que resulta da razão entre os homicidios de mulheres e a estimativa da população feminina (ambas variáveis acessadas por dot notation no Dataset),\n",
        "# multiplicada por 100000, o que nos fornece a taxa de homicidios de mulheres a cada 100 mil mulheres no território.\n",
        "lista=(dados_brasil.mortes/dados_brasil.população)*100000\n",
        "\n",
        "#arredondando os valores para uma casa decimal com a função round e logo então adicionando essa lista ao Dataset\n",
        "lista=round(lista,1)\n",
        "dados_brasil['tx_nacional_homicidios']=pd.Series(lista)\n",
        "\n",
        "#visualizando o DataSet com a nova variável\n",
        "dados_brasil.head()"
      ],
      "execution_count": 103,
      "outputs": [
        {
          "output_type": "execute_result",
          "data": {
            "text/html": [
              "<div>\n",
              "<style scoped>\n",
              "    .dataframe tbody tr th:only-of-type {\n",
              "        vertical-align: middle;\n",
              "    }\n",
              "\n",
              "    .dataframe tbody tr th {\n",
              "        vertical-align: top;\n",
              "    }\n",
              "\n",
              "    .dataframe thead th {\n",
              "        text-align: right;\n",
              "    }\n",
              "</style>\n",
              "<table border=\"1\" class=\"dataframe\">\n",
              "  <thead>\n",
              "    <tr style=\"text-align: right;\">\n",
              "      <th></th>\n",
              "      <th>ano</th>\n",
              "      <th>mortes</th>\n",
              "      <th>população</th>\n",
              "      <th>tx_nacional_homicidios</th>\n",
              "    </tr>\n",
              "  </thead>\n",
              "  <tbody>\n",
              "    <tr>\n",
              "      <th>0</th>\n",
              "      <td>2008</td>\n",
              "      <td>4023</td>\n",
              "      <td>96715476</td>\n",
              "      <td>4.2</td>\n",
              "    </tr>\n",
              "    <tr>\n",
              "      <th>1</th>\n",
              "      <td>2009</td>\n",
              "      <td>4260</td>\n",
              "      <td>97767914</td>\n",
              "      <td>4.4</td>\n",
              "    </tr>\n",
              "    <tr>\n",
              "      <th>2</th>\n",
              "      <td>2010</td>\n",
              "      <td>4465</td>\n",
              "      <td>98791094</td>\n",
              "      <td>4.5</td>\n",
              "    </tr>\n",
              "    <tr>\n",
              "      <th>3</th>\n",
              "      <td>2011</td>\n",
              "      <td>4512</td>\n",
              "      <td>99786721</td>\n",
              "      <td>4.5</td>\n",
              "    </tr>\n",
              "    <tr>\n",
              "      <th>4</th>\n",
              "      <td>2012</td>\n",
              "      <td>4719</td>\n",
              "      <td>100755204</td>\n",
              "      <td>4.7</td>\n",
              "    </tr>\n",
              "  </tbody>\n",
              "</table>\n",
              "</div>"
            ],
            "text/plain": [
              "    ano  mortes  população  tx_nacional_homicidios\n",
              "0  2008    4023   96715476                     4.2\n",
              "1  2009    4260   97767914                     4.4\n",
              "2  2010    4465   98791094                     4.5\n",
              "3  2011    4512   99786721                     4.5\n",
              "4  2012    4719  100755204                     4.7"
            ]
          },
          "metadata": {
            "tags": []
          },
          "execution_count": 103
        }
      ]
    },
    {
      "cell_type": "code",
      "metadata": {
        "id": "JxPfX1ZWgjvo",
        "colab_type": "code",
        "colab": {
          "base_uri": "https://localhost:8080/",
          "height": 98
        },
        "outputId": "e657bf35-8e7f-4deb-8f16-c5ed9a212df0"
      },
      "source": [
        "#verificando novamente o formato dos dados\n",
        "dados_brasil.dtypes"
      ],
      "execution_count": 104,
      "outputs": [
        {
          "output_type": "execute_result",
          "data": {
            "text/plain": [
              "ano                         int64\n",
              "mortes                      int64\n",
              "população                   int64\n",
              "tx_nacional_homicidios    float64\n",
              "dtype: object"
            ]
          },
          "metadata": {
            "tags": []
          },
          "execution_count": 104
        }
      ]
    },
    {
      "cell_type": "markdown",
      "metadata": {
        "id": "VwpRjuQBZlhC",
        "colab_type": "text"
      },
      "source": [
        "**- Pelo código abaixo, podemos observar que a taxa de feminicidio no Brasil, segundo estes dados do DATASUS, se situou em uma média de 4.5 mortes de mulheres a cada 100mil mulheres nesses ultimos dez anos.**\n",
        "\n",
        "**- O menor valor da série foi de 4.2 mortes a cada 100 mil mulheres; o maior valor fora de 4.7 homicidios violentos a cada 100 mil mulheres.**"
      ]
    },
    {
      "cell_type": "code",
      "metadata": {
        "id": "iD2J21ATJlza",
        "colab_type": "code",
        "colab": {
          "base_uri": "https://localhost:8080/",
          "height": 82
        },
        "outputId": "2472f01b-8bf5-45b0-ca1e-c7d23250df57"
      },
      "source": [
        "#verificando a média e os valores máximo e mínimo das taxas de homicidios criadas. \n",
        "dados_brasil.tx_nacional_homicidios.agg(['min','max','mean'])"
      ],
      "execution_count": 105,
      "outputs": [
        {
          "output_type": "execute_result",
          "data": {
            "text/plain": [
              "min     4.200000\n",
              "max     4.700000\n",
              "mean    4.509091\n",
              "Name: tx_nacional_homicidios, dtype: float64"
            ]
          },
          "metadata": {
            "tags": []
          },
          "execution_count": 105
        }
      ]
    },
    {
      "cell_type": "markdown",
      "metadata": {
        "id": "LlkeZcyb2b1U",
        "colab_type": "text"
      },
      "source": [
        "#**Observando dados brutos.**\n",
        "\n",
        "**O código abaixo mostra que o DataFrame possui 11 observações.**\n",
        "\n",
        "**Então vamos acessar as mortes ocorridas no indice 0, que corresponde a primeira observação, no ano de 2008, bem como acessar as mortes registradas no indice 10, correspondente a ultima observação, no ano de 2018, para dessa forma verificar a variação desses dados.**"
      ]
    },
    {
      "cell_type": "code",
      "metadata": {
        "id": "TK4e2QDw2h9g",
        "colab_type": "code",
        "colab": {
          "base_uri": "https://localhost:8080/",
          "height": 66
        },
        "outputId": "b29d8458-71f6-4e3b-94a7-8f3beca12319"
      },
      "source": [
        "#visualizando o número de observações do DATASET.\n",
        "print('O DataSet possui',(len(dados_brasil)),'observações.')\n",
        "#Acessando as mortes ocorridas no primeiro e no último ano da série analisada.\n",
        "print('Homicidios violentos de mulheres ocorridos em 2008:', (dados_brasil.mortes.loc[0]))\n",
        "print('Homicidios violentos de mulheres ocorridos em 2018:', (dados_brasil.mortes.loc[10]))"
      ],
      "execution_count": 106,
      "outputs": [
        {
          "output_type": "stream",
          "text": [
            "O DataSet possui 11 observações.\n",
            "Homicidios violentos de mulheres ocorridos em 2008: 4023\n",
            "Homicidios violentos de mulheres ocorridos em 2018: 4512\n"
          ],
          "name": "stdout"
        }
      ]
    },
    {
      "cell_type": "markdown",
      "metadata": {
        "id": "LIug_hQMEjdJ",
        "colab_type": "text"
      },
      "source": [
        "#**Observando a trajetória desses dados graficamente.**\n",
        "\n",
        "**Abaixo um código para visualizar a tendência de elevação da taxa de homicídios de mulheres por agressão ao longo dos últimos anos.**"
      ]
    },
    {
      "cell_type": "code",
      "metadata": {
        "id": "v1ykORt9nMQs",
        "colab_type": "code",
        "colab": {
          "base_uri": "https://localhost:8080/",
          "height": 322
        },
        "outputId": "71405e5f-1dd5-4b56-af45-4e60e4e7075e"
      },
      "source": [
        "#Definindo os eixos X e Y do gráfico por Dot Notation.\n",
        "x=dados_brasil.ano\n",
        "y=dados_brasil.tx_nacional_homicidios\n",
        "\n",
        "#plotando o gráfico definindo o marcador, sua cor e tamanho.\n",
        "plt.plot(x,y,c='blue',ls='-',lw=3)\n",
        "\n",
        "#criando variáveis de escala para os eixos X e Y.\n",
        "eixoY=[0,2.0,4.0,6.0]\n",
        "eixoX=[2008,2010,2012,2014,2016,2018]\n",
        "\n",
        "#definindo a escala visual dos eixos\n",
        "plt.yticks([0,1,4,7],eixoY)\n",
        "plt.xticks([2008,2010,2012,2014,2016,2018],eixoX)\n",
        "\n",
        "#incluindo as legendas dos eixos\n",
        "plt.xlabel('Ano',color='black',fontsize=12)\n",
        "plt.ylabel('taxa de homicidios por 100mil mulheres',color='black',fontsize=13)"
      ],
      "execution_count": 107,
      "outputs": [
        {
          "output_type": "execute_result",
          "data": {
            "text/plain": [
              "Text(0, 0.5, 'taxa de homicidios por 100mil mulheres')"
            ]
          },
          "metadata": {
            "tags": []
          },
          "execution_count": 107
        },
        {
          "output_type": "display_data",
          "data": {
            "image/png": "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\n",
            "text/plain": [
              "<Figure size 432x288 with 1 Axes>"
            ]
          },
          "metadata": {
            "tags": [],
            "needs_background": "light"
          }
        }
      ]
    },
    {
      "cell_type": "markdown",
      "metadata": {
        "id": "FVz_QwTMrO8m",
        "colab_type": "text"
      },
      "source": [
        "**Podemos claramente observar essa elevação no inicio da série, que vai de 2008 a 2014; logo após, até o ano de 2016, houve uma leve tendência de queda. Os casos aumentam em 2017 e atinge o maior número da série - 4.7 mortes a cada 100 mil mulheres -  e diminuem novamente em 2018.**"
      ]
    },
    {
      "cell_type": "markdown",
      "metadata": {
        "id": "PQEyoQ3543AJ",
        "colab_type": "text"
      },
      "source": [
        "#**Observando as taxas regionais de feminicídio.**\n",
        "\n",
        "---\n",
        "\n"
      ]
    },
    {
      "cell_type": "code",
      "metadata": {
        "id": "1fuBA40s8glu",
        "colab_type": "code",
        "colab": {
          "base_uri": "https://localhost:8080/",
          "height": 191
        },
        "outputId": "406b28b4-f814-47de-e98d-aad771091af0"
      },
      "source": [
        "dados_ufs.head()"
      ],
      "execution_count": 108,
      "outputs": [
        {
          "output_type": "execute_result",
          "data": {
            "text/html": [
              "<div>\n",
              "<style scoped>\n",
              "    .dataframe tbody tr th:only-of-type {\n",
              "        vertical-align: middle;\n",
              "    }\n",
              "\n",
              "    .dataframe tbody tr th {\n",
              "        vertical-align: top;\n",
              "    }\n",
              "\n",
              "    .dataframe thead th {\n",
              "        text-align: right;\n",
              "    }\n",
              "</style>\n",
              "<table border=\"1\" class=\"dataframe\">\n",
              "  <thead>\n",
              "    <tr style=\"text-align: right;\">\n",
              "      <th></th>\n",
              "      <th>ufs</th>\n",
              "      <th>ano</th>\n",
              "      <th>mortes</th>\n",
              "      <th>população</th>\n",
              "    </tr>\n",
              "  </thead>\n",
              "  <tbody>\n",
              "    <tr>\n",
              "      <th>0</th>\n",
              "      <td>Rondonia</td>\n",
              "      <td>2008</td>\n",
              "      <td>39</td>\n",
              "      <td>788669</td>\n",
              "    </tr>\n",
              "    <tr>\n",
              "      <th>1</th>\n",
              "      <td>Rondonia</td>\n",
              "      <td>2009</td>\n",
              "      <td>52</td>\n",
              "      <td>800782</td>\n",
              "    </tr>\n",
              "    <tr>\n",
              "      <th>2</th>\n",
              "      <td>Rondonia</td>\n",
              "      <td>2010</td>\n",
              "      <td>37</td>\n",
              "      <td>812517</td>\n",
              "    </tr>\n",
              "    <tr>\n",
              "      <th>3</th>\n",
              "      <td>Rondonia</td>\n",
              "      <td>2011</td>\n",
              "      <td>48</td>\n",
              "      <td>823916</td>\n",
              "    </tr>\n",
              "    <tr>\n",
              "      <th>4</th>\n",
              "      <td>Rondonia</td>\n",
              "      <td>2012</td>\n",
              "      <td>50</td>\n",
              "      <td>835006</td>\n",
              "    </tr>\n",
              "  </tbody>\n",
              "</table>\n",
              "</div>"
            ],
            "text/plain": [
              "        ufs   ano  mortes  população\n",
              "0  Rondonia  2008      39     788669\n",
              "1  Rondonia  2009      52     800782\n",
              "2  Rondonia  2010      37     812517\n",
              "3  Rondonia  2011      48     823916\n",
              "4  Rondonia  2012      50     835006"
            ]
          },
          "metadata": {
            "tags": []
          },
          "execution_count": 108
        }
      ]
    },
    {
      "cell_type": "markdown",
      "metadata": {
        "id": "1EWeSKcbMNT-",
        "colab_type": "text"
      },
      "source": [
        "**-Este DataSet traz o número anual de homicídios de mulheres por motivos de agressão e as estimativas populacionais femininas, ambos dados separados por ano e estados brasileiros.** \n",
        "\n",
        "**-Vamos criar a taxa de homicidios de mulheres a cada 100 mil mulheres para cada estado, em cada ano, de forma a visualizarmos graficamente o comportamento dessas taxas ao longo da série**"
      ]
    },
    {
      "cell_type": "code",
      "metadata": {
        "id": "g32WUVz-5KNa",
        "colab_type": "code",
        "colab": {
          "base_uri": "https://localhost:8080/",
          "height": 98
        },
        "outputId": "4c5f84f8-7aa0-46b2-c38a-0ac18da2180e"
      },
      "source": [
        "#conhecendo o formato de cada variável\n",
        "dados_ufs.dtypes"
      ],
      "execution_count": 109,
      "outputs": [
        {
          "output_type": "execute_result",
          "data": {
            "text/plain": [
              "ufs          object\n",
              "ano           int64\n",
              "mortes        int64\n",
              "população     int64\n",
              "dtype: object"
            ]
          },
          "metadata": {
            "tags": []
          },
          "execution_count": 109
        }
      ]
    },
    {
      "cell_type": "code",
      "metadata": {
        "id": "k5p5Zmmx5gSD",
        "colab_type": "code",
        "colab": {
          "base_uri": "https://localhost:8080/",
          "height": 191
        },
        "outputId": "f3cbea04-ac64-441c-a2ec-bf06bdebb99b"
      },
      "source": [
        "#criando uma coluna no DataSet que irá conter as taxas de homicidios de mulheres por agressão a cada 100 mil mulheres:\n",
        "#acessaremos os dados por Dot Notation e faremos a razão entre as mortes e a população feminina estimada e então multiplicaremos por 100mil.\n",
        "#Com a função round arrendodaremos os resultados com somente uma casa decimal.\n",
        "dados_ufs['tx_regional_homicidios']=round((dados_ufs.mortes/dados_ufs.população)*100000,1)\n",
        "\n",
        "#visualizando o novo DataSet\n",
        "dados_ufs.head()"
      ],
      "execution_count": 110,
      "outputs": [
        {
          "output_type": "execute_result",
          "data": {
            "text/html": [
              "<div>\n",
              "<style scoped>\n",
              "    .dataframe tbody tr th:only-of-type {\n",
              "        vertical-align: middle;\n",
              "    }\n",
              "\n",
              "    .dataframe tbody tr th {\n",
              "        vertical-align: top;\n",
              "    }\n",
              "\n",
              "    .dataframe thead th {\n",
              "        text-align: right;\n",
              "    }\n",
              "</style>\n",
              "<table border=\"1\" class=\"dataframe\">\n",
              "  <thead>\n",
              "    <tr style=\"text-align: right;\">\n",
              "      <th></th>\n",
              "      <th>ufs</th>\n",
              "      <th>ano</th>\n",
              "      <th>mortes</th>\n",
              "      <th>população</th>\n",
              "      <th>tx_regional_homicidios</th>\n",
              "    </tr>\n",
              "  </thead>\n",
              "  <tbody>\n",
              "    <tr>\n",
              "      <th>0</th>\n",
              "      <td>Rondonia</td>\n",
              "      <td>2008</td>\n",
              "      <td>39</td>\n",
              "      <td>788669</td>\n",
              "      <td>4.9</td>\n",
              "    </tr>\n",
              "    <tr>\n",
              "      <th>1</th>\n",
              "      <td>Rondonia</td>\n",
              "      <td>2009</td>\n",
              "      <td>52</td>\n",
              "      <td>800782</td>\n",
              "      <td>6.5</td>\n",
              "    </tr>\n",
              "    <tr>\n",
              "      <th>2</th>\n",
              "      <td>Rondonia</td>\n",
              "      <td>2010</td>\n",
              "      <td>37</td>\n",
              "      <td>812517</td>\n",
              "      <td>4.6</td>\n",
              "    </tr>\n",
              "    <tr>\n",
              "      <th>3</th>\n",
              "      <td>Rondonia</td>\n",
              "      <td>2011</td>\n",
              "      <td>48</td>\n",
              "      <td>823916</td>\n",
              "      <td>5.8</td>\n",
              "    </tr>\n",
              "    <tr>\n",
              "      <th>4</th>\n",
              "      <td>Rondonia</td>\n",
              "      <td>2012</td>\n",
              "      <td>50</td>\n",
              "      <td>835006</td>\n",
              "      <td>6.0</td>\n",
              "    </tr>\n",
              "  </tbody>\n",
              "</table>\n",
              "</div>"
            ],
            "text/plain": [
              "        ufs   ano  mortes  população  tx_regional_homicidios\n",
              "0  Rondonia  2008      39     788669                     4.9\n",
              "1  Rondonia  2009      52     800782                     6.5\n",
              "2  Rondonia  2010      37     812517                     4.6\n",
              "3  Rondonia  2011      48     823916                     5.8\n",
              "4  Rondonia  2012      50     835006                     6.0"
            ]
          },
          "metadata": {
            "tags": []
          },
          "execution_count": 110
        }
      ]
    },
    {
      "cell_type": "markdown",
      "metadata": {
        "id": "XfHfF-khy4Tr",
        "colab_type": "text"
      },
      "source": [
        "-**Nota: como o Dataset traz os dados para cada estado brasileiro ao longo dos anos, estados com nomes compostos foram registrados com espaço entre seus nomes, o que pode atrapalhar as iterações que faremos no DataSet.**\n",
        "\n",
        "-**Logo, vamos substituir as strings que contêm espaços por strings separadas por '_' ; por exemplo, a uf 'Distrito Federal' passará a ser identificada como 'Distrito_Federal'.**\n",
        "\n"
      ]
    },
    {
      "cell_type": "code",
      "metadata": {
        "id": "IA4Qn7QfugtM",
        "colab_type": "code",
        "colab": {
          "base_uri": "https://localhost:8080/",
          "height": 191
        },
        "outputId": "4db6c592-9ab6-4b84-ffc8-cca3344e7164"
      },
      "source": [
        "#dados com nomes compostos podem atrapalhar as iterações uma vez que seus nomes são separados por espaço.\n",
        "dados_ufs.tail()"
      ],
      "execution_count": 111,
      "outputs": [
        {
          "output_type": "execute_result",
          "data": {
            "text/html": [
              "<div>\n",
              "<style scoped>\n",
              "    .dataframe tbody tr th:only-of-type {\n",
              "        vertical-align: middle;\n",
              "    }\n",
              "\n",
              "    .dataframe tbody tr th {\n",
              "        vertical-align: top;\n",
              "    }\n",
              "\n",
              "    .dataframe thead th {\n",
              "        text-align: right;\n",
              "    }\n",
              "</style>\n",
              "<table border=\"1\" class=\"dataframe\">\n",
              "  <thead>\n",
              "    <tr style=\"text-align: right;\">\n",
              "      <th></th>\n",
              "      <th>ufs</th>\n",
              "      <th>ano</th>\n",
              "      <th>mortes</th>\n",
              "      <th>população</th>\n",
              "      <th>tx_regional_homicidios</th>\n",
              "    </tr>\n",
              "  </thead>\n",
              "  <tbody>\n",
              "    <tr>\n",
              "      <th>292</th>\n",
              "      <td>Distrito Federal</td>\n",
              "      <td>2014</td>\n",
              "      <td>76</td>\n",
              "      <td>1498920</td>\n",
              "      <td>5.1</td>\n",
              "    </tr>\n",
              "    <tr>\n",
              "      <th>293</th>\n",
              "      <td>Distrito Federal</td>\n",
              "      <td>2015</td>\n",
              "      <td>70</td>\n",
              "      <td>1533244</td>\n",
              "      <td>4.6</td>\n",
              "    </tr>\n",
              "    <tr>\n",
              "      <th>294</th>\n",
              "      <td>Distrito Federal</td>\n",
              "      <td>2016</td>\n",
              "      <td>69</td>\n",
              "      <td>1567545</td>\n",
              "      <td>4.4</td>\n",
              "    </tr>\n",
              "    <tr>\n",
              "      <th>295</th>\n",
              "      <td>Distrito Federal</td>\n",
              "      <td>2017</td>\n",
              "      <td>47</td>\n",
              "      <td>1601779</td>\n",
              "      <td>2.9</td>\n",
              "    </tr>\n",
              "    <tr>\n",
              "      <th>296</th>\n",
              "      <td>Distrito Federal</td>\n",
              "      <td>2018</td>\n",
              "      <td>55</td>\n",
              "      <td>1635788</td>\n",
              "      <td>3.4</td>\n",
              "    </tr>\n",
              "  </tbody>\n",
              "</table>\n",
              "</div>"
            ],
            "text/plain": [
              "                  ufs   ano  mortes  população  tx_regional_homicidios\n",
              "292  Distrito Federal  2014      76    1498920                     5.1\n",
              "293  Distrito Federal  2015      70    1533244                     4.6\n",
              "294  Distrito Federal  2016      69    1567545                     4.4\n",
              "295  Distrito Federal  2017      47    1601779                     2.9\n",
              "296  Distrito Federal  2018      55    1635788                     3.4"
            ]
          },
          "metadata": {
            "tags": []
          },
          "execution_count": 111
        }
      ]
    },
    {
      "cell_type": "code",
      "metadata": {
        "id": "03hQV4KxdblE",
        "colab_type": "code",
        "colab": {
          "base_uri": "https://localhost:8080/",
          "height": 191
        },
        "outputId": "550a5b80-94ac-42c3-f433-ea8c9a774d9d"
      },
      "source": [
        "#com Dot Notation e a função replace, acessamos todas as ufs com nomes compostos na coluna 'ufs' e substituimos os espaços por '_'\n",
        "dados_ufs.ufs=dados_ufs.ufs.str.replace(' ','_')\n",
        "dados_ufs.tail()"
      ],
      "execution_count": 112,
      "outputs": [
        {
          "output_type": "execute_result",
          "data": {
            "text/html": [
              "<div>\n",
              "<style scoped>\n",
              "    .dataframe tbody tr th:only-of-type {\n",
              "        vertical-align: middle;\n",
              "    }\n",
              "\n",
              "    .dataframe tbody tr th {\n",
              "        vertical-align: top;\n",
              "    }\n",
              "\n",
              "    .dataframe thead th {\n",
              "        text-align: right;\n",
              "    }\n",
              "</style>\n",
              "<table border=\"1\" class=\"dataframe\">\n",
              "  <thead>\n",
              "    <tr style=\"text-align: right;\">\n",
              "      <th></th>\n",
              "      <th>ufs</th>\n",
              "      <th>ano</th>\n",
              "      <th>mortes</th>\n",
              "      <th>população</th>\n",
              "      <th>tx_regional_homicidios</th>\n",
              "    </tr>\n",
              "  </thead>\n",
              "  <tbody>\n",
              "    <tr>\n",
              "      <th>292</th>\n",
              "      <td>Distrito_Federal</td>\n",
              "      <td>2014</td>\n",
              "      <td>76</td>\n",
              "      <td>1498920</td>\n",
              "      <td>5.1</td>\n",
              "    </tr>\n",
              "    <tr>\n",
              "      <th>293</th>\n",
              "      <td>Distrito_Federal</td>\n",
              "      <td>2015</td>\n",
              "      <td>70</td>\n",
              "      <td>1533244</td>\n",
              "      <td>4.6</td>\n",
              "    </tr>\n",
              "    <tr>\n",
              "      <th>294</th>\n",
              "      <td>Distrito_Federal</td>\n",
              "      <td>2016</td>\n",
              "      <td>69</td>\n",
              "      <td>1567545</td>\n",
              "      <td>4.4</td>\n",
              "    </tr>\n",
              "    <tr>\n",
              "      <th>295</th>\n",
              "      <td>Distrito_Federal</td>\n",
              "      <td>2017</td>\n",
              "      <td>47</td>\n",
              "      <td>1601779</td>\n",
              "      <td>2.9</td>\n",
              "    </tr>\n",
              "    <tr>\n",
              "      <th>296</th>\n",
              "      <td>Distrito_Federal</td>\n",
              "      <td>2018</td>\n",
              "      <td>55</td>\n",
              "      <td>1635788</td>\n",
              "      <td>3.4</td>\n",
              "    </tr>\n",
              "  </tbody>\n",
              "</table>\n",
              "</div>"
            ],
            "text/plain": [
              "                  ufs   ano  mortes  população  tx_regional_homicidios\n",
              "292  Distrito_Federal  2014      76    1498920                     5.1\n",
              "293  Distrito_Federal  2015      70    1533244                     4.6\n",
              "294  Distrito_Federal  2016      69    1567545                     4.4\n",
              "295  Distrito_Federal  2017      47    1601779                     2.9\n",
              "296  Distrito_Federal  2018      55    1635788                     3.4"
            ]
          },
          "metadata": {
            "tags": []
          },
          "execution_count": 112
        }
      ]
    },
    {
      "cell_type": "markdown",
      "metadata": {
        "id": "lMCKfE3j_6cB",
        "colab_type": "text"
      },
      "source": [
        "**Vamos então observar os dados dessas ufs. Intuitivamente, sabemos que ao longo da série alguns estados apresentam quedas da taxa de feminicidio, enquanto outros apresentam aumentos significativos. Através de gráficos, vamos então  visualizar  o comportamento dessas variáveis ao longo desses 10 anos.** \n",
        "\n",
        "**Para melhor visualização desses gráficos, vamos separar os dados por região e observar as tendências.**"
      ]
    },
    {
      "cell_type": "markdown",
      "metadata": {
        "id": "JuaO2_M_K7ur",
        "colab_type": "text"
      },
      "source": [
        "**Agrupando dados por região**\n",
        "\n",
        "**- Lançando mão do conceito de tabela verdade, agruparemos em uma variável os dados das uf's pertencentes cada uma a sua respectiva região.**\n",
        "\n",
        "**- Por exemplo: para a região norte, criarei uma variável que conterá todos os dados de cada estado da região norte, e assim sucessivamente.**"
      ]
    },
    {
      "cell_type": "code",
      "metadata": {
        "id": "hiebgAlEUJoL",
        "colab_type": "code",
        "colab": {}
      },
      "source": [
        "#'tx_norte' ira agregar os dados das unidades federativas da região Norte.\n",
        "tx_norte=dados_ufs[(dados_ufs.ufs=='Rondonia')|(dados_ufs.ufs=='Acre')|(dados_ufs.ufs=='Roraima')|\n",
        "                   (dados_ufs.ufs=='Tocantins')|\n",
        "                   (dados_ufs.ufs=='Amazonas')|(dados_ufs.ufs=='Para')|(dados_ufs.ufs=='Amapa')]\n",
        "\n",
        "#'tx_nordeste' ira agregar os dados das unidades federativas da região Nordeste\n",
        "tx_nordeste=dados_ufs[(dados_ufs.ufs=='Bahia')|(dados_ufs.ufs=='Ceara')|(dados_ufs.ufs=='Sergipe')|\n",
        "                      (dados_ufs.ufs=='Alagoas')|(dados_ufs.ufs=='Paraiba')|(dados_ufs.ufs=='Pernambuco')|\n",
        "                      (dados_ufs.ufs=='Piaui')|(dados_ufs.ufs=='Rio_Grande_do_Norte')|(dados_ufs.ufs=='Maranhão')]\n",
        "\n",
        "#'tx_sudeste' ira agregar os dados das unidades federativas da região Sudeste.\n",
        "tx_sudeste=dados_ufs[(dados_ufs.ufs=='Minas_Gerais')|(dados_ufs.ufs=='São_Paulo')|\n",
        "                     (dados_ufs.ufs=='Rio_de_Janeiro')|(dados_ufs.ufs=='Espirito_Santo')]\n",
        "\n",
        "#'tx_sul' irá agregar os dados das unidades federativas da região sul.\n",
        "tx_sul=dados_ufs[(dados_ufs.ufs=='Rio_Grande_do_Sul')|(dados_ufs.ufs=='Parana')|(dados_ufs.ufs=='Santa_Catarina')]\n",
        "\n",
        "#'tx_centro_oeste' irá agregar os dados das unidades federativas da regiaão Centro Oeste.\n",
        "tx_centro_oeste=dados_ufs[(dados_ufs.ufs=='Mato_Grosso')|(dados_ufs.ufs=='Mato_Grosso_do_Sul')|\n",
        "                          (dados_ufs.ufs=='Goias')|(dados_ufs.ufs=='Distrito_Federal')]"
      ],
      "execution_count": 113,
      "outputs": []
    },
    {
      "cell_type": "markdown",
      "metadata": {
        "id": "4RVXkKtQLsa9",
        "colab_type": "text"
      },
      "source": [
        "#**-Visualização gráfica.**\n",
        "\n",
        "**- Inicialmente, para atribuir a cada variável y os valores das taxas de feminicídio e desse modo iniciar a plotagem dos gráficos, optei pelo método LOC (location). Logo, fora necessário usar como indexadores do DATASET os próprios nomes das unidades federativas de cada região, tal qual visto no codigo abaixo.**"
      ]
    },
    {
      "cell_type": "code",
      "metadata": {
        "id": "wIUA0FyTJ7lv",
        "colab_type": "code",
        "colab": {
          "base_uri": "https://localhost:8080/",
          "height": 220
        },
        "outputId": "53717bf2-e766-40dc-c0b4-87fef4d7297b"
      },
      "source": [
        "#alterando os indexadores de cada variável criada no código anterior; os indexadores serão os próprios nomes das unidades federativas\n",
        "tx_norte=tx_norte.set_index(['ufs'])\n",
        "tx_nordeste=tx_nordeste.set_index(['ufs'])\n",
        "tx_sudeste=tx_sudeste.set_index(['ufs'])\n",
        "tx_sul=tx_sul.set_index(['ufs'])\n",
        "tx_centro_oeste=tx_centro_oeste.set_index(['ufs'])\n",
        "\n",
        "#visualizando um DataSet qualquer de forma a observar o novo indexador.\n",
        "tx_nordeste.head()"
      ],
      "execution_count": 114,
      "outputs": [
        {
          "output_type": "execute_result",
          "data": {
            "text/html": [
              "<div>\n",
              "<style scoped>\n",
              "    .dataframe tbody tr th:only-of-type {\n",
              "        vertical-align: middle;\n",
              "    }\n",
              "\n",
              "    .dataframe tbody tr th {\n",
              "        vertical-align: top;\n",
              "    }\n",
              "\n",
              "    .dataframe thead th {\n",
              "        text-align: right;\n",
              "    }\n",
              "</style>\n",
              "<table border=\"1\" class=\"dataframe\">\n",
              "  <thead>\n",
              "    <tr style=\"text-align: right;\">\n",
              "      <th></th>\n",
              "      <th>ano</th>\n",
              "      <th>mortes</th>\n",
              "      <th>população</th>\n",
              "      <th>tx_regional_homicidios</th>\n",
              "    </tr>\n",
              "    <tr>\n",
              "      <th>ufs</th>\n",
              "      <th></th>\n",
              "      <th></th>\n",
              "      <th></th>\n",
              "      <th></th>\n",
              "    </tr>\n",
              "  </thead>\n",
              "  <tbody>\n",
              "    <tr>\n",
              "      <th>Alagoas</th>\n",
              "      <td>2008</td>\n",
              "      <td>83</td>\n",
              "      <td>1618624</td>\n",
              "      <td>5.1</td>\n",
              "    </tr>\n",
              "    <tr>\n",
              "      <th>Alagoas</th>\n",
              "      <td>2009</td>\n",
              "      <td>109</td>\n",
              "      <td>1634511</td>\n",
              "      <td>6.7</td>\n",
              "    </tr>\n",
              "    <tr>\n",
              "      <th>Alagoas</th>\n",
              "      <td>2010</td>\n",
              "      <td>134</td>\n",
              "      <td>1649639</td>\n",
              "      <td>8.1</td>\n",
              "    </tr>\n",
              "    <tr>\n",
              "      <th>Alagoas</th>\n",
              "      <td>2011</td>\n",
              "      <td>138</td>\n",
              "      <td>1664044</td>\n",
              "      <td>8.3</td>\n",
              "    </tr>\n",
              "    <tr>\n",
              "      <th>Alagoas</th>\n",
              "      <td>2012</td>\n",
              "      <td>133</td>\n",
              "      <td>1677754</td>\n",
              "      <td>7.9</td>\n",
              "    </tr>\n",
              "  </tbody>\n",
              "</table>\n",
              "</div>"
            ],
            "text/plain": [
              "          ano  mortes  população  tx_regional_homicidios\n",
              "ufs                                                     \n",
              "Alagoas  2008      83    1618624                     5.1\n",
              "Alagoas  2009     109    1634511                     6.7\n",
              "Alagoas  2010     134    1649639                     8.1\n",
              "Alagoas  2011     138    1664044                     8.3\n",
              "Alagoas  2012     133    1677754                     7.9"
            ]
          },
          "metadata": {
            "tags": []
          },
          "execution_count": 114
        }
      ]
    },
    {
      "cell_type": "markdown",
      "metadata": {
        "id": "0aqx90ulz0Lx",
        "colab_type": "text"
      },
      "source": [
        "#**Plotando os gráficos.**\n",
        "\n",
        "**-Os código abaixos irão plotar os gráficos de cada região e vão seguir esta ordem:**\n",
        "\n",
        "**-Se iniciam pela determinação do eixo x: os anos de observação deste trabalho.** \n",
        "\n",
        "**-Em seguida, através do metodo LOC - como visto anteriormente, são atribuidas as variaveis dependentes y's as taxas de feminicidio de cada estado, o que somam sete variáveis, pois tratam-se de sete estados.**\n",
        "\n",
        "**-O próximo passo foi escolher as medidas de cada gráfico e o espaçamento entre cada um deles.**\n",
        "\n",
        "**-O passo final foi a codificação dos n gráficos de cada estado de cada região e que se referem ao comportamento das taxas de feminicidio de cada um deles ao longo da série.**"
      ]
    },
    {
      "cell_type": "markdown",
      "metadata": {
        "id": "QoEr-NfLvyWs",
        "colab_type": "text"
      },
      "source": [
        "**Região Norte: Na subplotagem, optei por dividir o espaço para a geração dos gráficos em 9 quadrantes distribuidos em 3 linhas e 3 colunas.** "
      ]
    },
    {
      "cell_type": "code",
      "metadata": {
        "id": "zavureUFjZ_9",
        "colab_type": "code",
        "colab": {
          "base_uri": "https://localhost:8080/",
          "height": 637
        },
        "outputId": "fbc23628-cf55-485f-b310-7f8f92aabcb8"
      },
      "source": [
        "#eixo x: os anos da série dos dados\n",
        "x=[2008,2009,2010,2011,2012,2013,2014,2015,2016,2017,2018]\n",
        "\n",
        "#eixo Y: sete valores para o eixo, que correspondem aos sete estados da região norte.\n",
        "y1=tx_norte.loc['Acre','tx_regional_homicidios']\n",
        "y2=tx_norte.loc['Amapa','tx_regional_homicidios']\n",
        "y3=tx_norte.loc['Amazonas','tx_regional_homicidios']\n",
        "y4=tx_norte.loc['Para','tx_regional_homicidios']\n",
        "y5=tx_norte.loc['Rondonia','tx_regional_homicidios']\n",
        "y6=tx_norte.loc['Roraima','tx_regional_homicidios']\n",
        "y7=tx_norte.loc['Tocantins','tx_regional_homicidios']\n",
        "\n",
        "##definindo a largura e altura de cada gráfico, bem como o espaçamento lateral e horizontal entre cada um deles. \n",
        "figura=plt.figure(figsize=(14,10))\n",
        "figura.subplots_adjust(hspace = 0.6,wspace = 0.4)\n",
        "\n",
        "\n",
        "#plotagem de cada um dos sete gráficos\n",
        "figura.add_subplot(3,3,1)\n",
        "plt.plot(x,y1,marker='^')\n",
        "plt.title('Acre')\n",
        "plt.xlabel('Anos')\n",
        "plt.ylabel('Taxa de feminicidio')\n",
        "\n",
        "figura.add_subplot(3,3,2)\n",
        "plt.plot(x,y2,marker='^')\n",
        "plt.title('Amapá')\n",
        "plt.xlabel('Anos')\n",
        "\n",
        "figura.add_subplot(3,3,3)\n",
        "plt.plot(x,y3,marker='^')\n",
        "plt.title('Amazonas')\n",
        "plt.xlabel('Anos')\n",
        "\n",
        "figura.add_subplot(3,3,4)\n",
        "plt.plot(x,y4,marker='^')\n",
        "plt.title('Pará')\n",
        "plt.xlabel('Anos')\n",
        "plt.ylabel('Taxa de feminicidio')\n",
        "\n",
        "figura.add_subplot(3,3,5)\n",
        "plt.plot(x,y5,marker='^')\n",
        "plt.title('Rondônia')\n",
        "plt.xlabel('Anos')\n",
        "\n",
        "figura.add_subplot(3,3,6)\n",
        "plt.plot(x,y6,marker='^')\n",
        "plt.title('Roraima')\n",
        "\n",
        "figura.add_subplot(3,3,7)\n",
        "plt.plot(x,y7,marker='^')\n",
        "plt.title('Tocantins')\n",
        "plt.xlabel('Anos')\n",
        "plt.ylabel('Taxa de feminicidio')\n"
      ],
      "execution_count": 115,
      "outputs": [
        {
          "output_type": "execute_result",
          "data": {
            "text/plain": [
              "Text(0, 0.5, 'Taxa de feminicidio')"
            ]
          },
          "metadata": {
            "tags": []
          },
          "execution_count": 115
        },
        {
          "output_type": "display_data",
          "data": {
            "image/png": "iVBORw0KGgoAAAANSUhEUgAAAzoAAAJcCAYAAAAxa9FHAAAABHNCSVQICAgIfAhkiAAAAAlwSFlzAAALEgAACxIB0t1+/AAAADh0RVh0U29mdHdhcmUAbWF0cGxvdGxpYiB2ZXJzaW9uMy4yLjIsIGh0dHA6Ly9tYXRwbG90bGliLm9yZy+WH4yJAAAgAElEQVR4nOzdd3ib5dX48e/xjkfsxCvLsZPY2cRJCBAgzBRaymqBDsqGQqFQ6G55375dvw7a0tIG2gItUMrehUKg0JQ4JECx42zHI8MrtuNteQ/p/v0hyTiOh2xr+3yuS5ct6dGj44Bv637u+5wjxhiUUkoppZRSKpiE+DoApZRSSimllHI3negopZRSSimlgo5OdJRSSimllFJBRyc6SimllFJKqaCjEx2llFJKKaVU0NGJjlJKKaWUUiro6ERHKaVU0BKRcBHZKSIX+joWpZRS3qUTnUlMRDaLSJOIRPo6FqVUcPGj8eVu4HVjzBs+jkMpNUF+NK6oAKETnUlKRDKAMwADXDKO14e5OSSlVJCY6PjixjhCgWbgh76KQSnlHv4yrqjAohOdyeta4EPgb8B1zgdFJE1EXhaROhFpEJEHHI9fLyLbROQ+EWkAfiwikSJyr4iUi8hREXlQRKb45KdRSvmT4caXv4nIn0TkTRFpc4wpM0Tk946rtIUismrA8d8XkYMi0ioiBSLy2QHPOcekB0SkxfHa9QOevwHYC/wcOCAiX/HCz62U8hxvjCu7HOdw3oyInO147hIR2ScizY6VpSUDXlcqIt8Wkd2O8eg5EYlyPDdNRF53fK5qcnw/Z8BrrxeRQ454DovIVR78N5x0dKIzeV0LPOW4fVJEUh1XP18HyoAMYDbw7IDXnAIcAlKxf3i4B1gIrAQyHcfrlVOl1HHjy4DnPg/8AEgCuoEPgHzH/ReB3w049iD2K7jxwE+AJ0Vk5oDnT3EckwT8CHhZRKY7nqsHLgKmAjcA94nIajf+jEop7/L4uGKMyTbGxBpjYoFvAkVAvogsBJ4Bvg4kAxuBf4pIxKAYPgXMA1YA1zseDwEeA9KBuUAn4LyIHANsAC4wxsQBpwE7x/0vpI6jE51JSETWYf+Fe94Ysx37L/2XgJOBWcB3jDHtxpguY8zWAS+tMsbcb4zpA7qAW4BvGGMajTGtwC+AL3r1h1FK+ZURxhenV4wx240xXcArQJcx5u/GGCvwHNB/5dUY84IxpsoYYzPGPAeUYB+nnGqB3xtjeh3PFwEXOl77T2PMQWOXA7yN/cONUirAeHlccb7fz4BLjDEW4AvAG8aYd4wxvcC9wBTsExOnDY7zNgL/xH4RGGNMgzHmJWNMh+Oz0s+Bswa8zgYsF5EpxphqY8y+Cf5zqQF0ojM5XQe8bYypd9x/2vFYGlDmmMgMpWLA98lANLDdsYzbDLzleFwpNXkNN744HR3wfecQ92Odd0TkWkfFNOcYsxz7FVqnI8YYM+B+GfaLNYjIesf2knIRKQU+Mei1SqnA4bVxRUTSgOeB64wxxY6HZ2EfXwAwxtiwfyaaPeB9agZ83+F8TxGJFpGHRKRMRCzAFiBBREKNMe3YJ1G3AtUi8oaILHbtn0S5QhPKJxlHDs3ngVARcf5SRgIJ2AeGuSISNsxkZ+AHinrsg8cyY8wRT8aslAoMI40vIpI9xnOlA38B1gMfGGOsIrITkAGHzRYRGTDZmQu85thO8ipwJfaKa0ZEXh30WqVUAPDmuOJ4r39gXyl+c8BLq4ATBpxHsF8cduXzz7eARcApxpgaEVkJ7HC+pzHmX8C/HO/9M0d8uvrsJrqiM/l8BrACS7Evq64ElgDvOZ6rBu4RkRgRiRKR04c6ieNqxl+w73tPARCR2SLySS/8DEop/zTS+HLtGM8Vg/3iSh30FxdYPuiYFOBOsffK+ZzjvTZi/xA0BWh3vPYC4Lxx/DxKKd/z5rjyKFBojPn1oNc9D1zoWCkOxz556Qbed+E947BfGG525BD+yPmEIz/6UkeuTjfQhn0rm3ITnehMPtcBjxljyo0xNc4b9sS4K4GLsRcWKAcqsS+pDud7wAHgQ8dy7L+xX7VQSk1OI40vVzGGXQTGmALgt9iTio9iv5q6bdBh/wWysK8w/xy4wrEfvhW4E3vycBP2vfyvTegnU0r5ijfHlS8Cnx1Uee0MY0wRcDVwP/bx5mLgYmNMjwtv+3vsF17qsVeNe2vAcyHYix5UAY3Yc3duc/XnUaOTY7c3K6WUUv5PRK4HvmyMWefrWJRSSvknXdFRSimllFJKBR2d6CillFJKKaWCjm5dU0oppZRSSgUdXdFRSimllFJKBR2/6qOTlJRkMjIyfB2GUgFj+/bt9cYYbdI6QTr2KDV2Ov64h44/So2dq+OPX010MjIyyMvL83UYSgUMESkb/Sg1Gh17lBo7HX/cQ8cfpcbO1fFHt64ppZRSSimlgo5OdNSIai1dfP6hD6ht7fJ1KEoppYahY7VSKtB5YhzTiY4a0YZNJeSWNrJh0wFfh6KUUmoYOlYrpQKdJ8YxneioYdVaunh+eyXGwIt5FXqlUCml/FCtpYtncyt0rFZKBayBnzlfcOM4phMdNawNm0qwWm0A9NmMXilUSik/tGFTCX02e088q9GxWikVeH73TjE9ffbPnDY3jmM60VFDqrV08cL2SqyOfrJ9NqNXCpVSys84x2qnXquO1UqpwHK0pZPn8yr677tzHNOJjhrShk0l2Iw55jG9Uug9mlislHLFwNUcJx2rlVKB5Lan8hk0jLltHNOJjhpSfnkzvdZj/6/rtRryy5p8FNHkoonFSilX5Jc3Y7XpWK2UCkzvH6gnv7z5uMfdNY75VcNQ5T823nUG+6pauHDDVhbPiKOwppXdPz6fqVHhvg4tKNlshqOtXZQ1dLC3soVnBiQW37k+k5S4KF+HqJTyQxvvOoPbn8pnS3Edrd19/L9Ll3HNqRm+DksppUZV2dTB7U/nk5USyyu3n05spPunJTrRUcMqrG4F4PNr0vjp6wXsrWzhtMwkH0flv2otXdzxzA4e+NKqIScmPX02Kps6KGvsoLyhg7KGDsob2ylt6KCisYNuRxLeQM6l2599Zrk3fgSlVAAqqLZwemYSWw/UU1Lb5utwlFJqVF29Vm59cjt9VsND15zokUkO6ERHjaDoaCsRYSFcunIWP329gJ2VzTrRGYFzu9mPX9vHRStm9U9kyhyTmuqWzmP2oE4JDyU9MZr5STGcsyiZ9MQY4qeE8a0XdvdXHnEm5OmqjlJqKG3dfZQ2tHPZqtnUWLooOaoTHU8SkQTgr8BywAA3GmM+GPC8AH8APg10ANcbY/J9EatS/soYw/++spe9Ryw8ct0a5ifHeuy9dKKjhrW/2sLC1FgSYyPJSIxmd0WLr0PyW7WWrv7tZhv31LBxTw0AiTERzE2M5qSMacxNnEP69GjSE6OZmxhNcmwk9r+JH/vBK3swwxSB0FUdpdRghdUWjIGls6ZS3tjBu0V1vg4p2P0BeMsYc4WIRADRg56/AMhy3E4B/uz4qpRyeOLDMl7Kr+Trn8hi/ZJUj76XTnTUsAprWjkzKxmAFXMSyC1t9HFE/mvDppL+hODQEOFTy1K55/IVxI0xp0mLQCilxqKg2gLAslnxHKxr44XtlTS19zAtJsLHkQUfEYkHzgSuBzDG9AA9gw67FPi7sV+x+lBEEkRkpjGm2qvBKuWnPjrcyE//WcAnlqRw57lZHn8/neioITW0dVPX2s2SmXEAZKcl8NquKmotXaRM1S1UA9Vaung+7+M+FlabYdP+Wjp7rWOe6Gy86wx3h6eUCmIFVRamx0SQOjWSrBT7eH2gro2TYqb7OLKgNA+oAx4TkWxgO3CXMaZ9wDGzgYoB9ysdjx0z0RGRW4BbAObOnevJmJXyGzUtXXz1qXzmTo/md19YSUiIjP6iCdLy0mpIRTX2QgSLZjgmOnPiAdhVqdvXBrOv5hxbSED7WCilvKGg2sLSmVMRETJT7PvcNU/HY8KA1cCfjTGrgHbg++M5kTHmYWPMGmPMmuTkZHfGqJRf6u6zcttT2+ns6eOha070WhVfneioIRU6JjqLZ0wF7NsiQkOE3ZXH1zqf7PLLmxm020y3mymlPK7PaqOwppWls+zj9OyEKUwJD6WkttXHkQWtSqDSGPNfx/0XsU98BjoCpA24P8fxmFIT5s5m4t5uTP7j1wrYUd7MvZ/LJis1zivvCR6e6IjIN0Rkn4jsFZFnRET3PAWIwhoLSbERJMdFAjAlIpSFqXHsrNCJzmAvf/U0osJDuP60DErvubD/ptvQlFKedLCunZ4+G0tn2ic6ISH2VZ0DWmLaI4wxNUCFiCxyPLQeKBh02GvAtWK3FmjR/BzlLu5sJu7NxuTPflTOMx+Vc9vZC7jghJkef7+BRs3RcSTf/RhwfmrLAX5qjBlxD5OIzAbuBJYaYzpF5Hngi8DfJhKw8o7Cmtb+bWtO2XPieXNvDcaY46qFTWYfHW6kq9fGWYt0+4FSynsKqu1/hpc5VnQAslJief9gg69Cmgy+BjzlqLh2CLhBRG4FMMY8CGzEXlr6APby0jf4KlAVXGotXbywvRJj4JmPyjHGRnTE+FLtO3r6eDbXfq4XPNzCYkd5Ez98dR9nZCXx7fMXjf4CN3PlX+hRYC/wecf9a4DHgMtcPP8UEenFXoKxajxBKu+y2gzFR1u56pT0Yx7PTkvg2dwKyho6yEiK8VF0/ienuI6IsBDWzkv0dShKqUmkoMpCZFgI8waMx5mpsby84wiWrl6v7YGfTIwxO4E1gx5+cMDzBrjdq0GpSWHDphL6rPZ8YKvN8GxuBZFhoeM6V3efFcep6O6zccdTO3jiyyeP+3zDqWvt5rYn80mNj+T+K1cR6oXiA4O5MtFZYIy5fMD9n4jIztFeZIw5IiL3AuVAJ/C2Mebtwcdp5RH/U9bQTlevjcWDVnRW9BckaNaJzgA5xXWcMm86UyLcO0AopdRICqotLJ4RR1jox7vQ+yuv1baxeu40X4WmlHIj52rOwHzg8JAQNn/n7DGvxNRaujjj1+8eU0Tpo9JGzvzVu9z5iSw+d2IaEWETz2zptdq4/al8mjt7ePm200mI9k3Je1d+kk4RWee8IyKnY5+4jEhEpmGvJz8PmAXEiMjVg4/TyiP+Z3AhAqeFqXFEhYewWyuv9ats6uBAbRtnLdT/d5VS3mOMoaDK0l+IwCnLUXntgFZeU5OQtxPsvWXDphJswzQTd8e5wkKEPpvhf1/Zyzn3buaZj8rptdqGOYNrfv7Gfj4qbeRXl684bpzyJlcmOrcBfxSRUhEpAx4AbnXhdZ8ADhtj6owxvcDLwGnjD1V5S2FNKyECWamxxzweHhrCslnx7NKCBP22FNcDcLbm5yilvKi6pYumjt7+QgROadOjiQgL0cpralLyZoK9N7mzmfhQ5+qzGVKnRvHYDSeRFBvB3S/v4Zx7N/Nc7vgmPC/nV/K390u5ad08Ll05e8yvd6dRt6459qNmi8hUx32Li+cuB9aKSDT2FaD1QN54A1XeU1htISMphqjw47diZc9J4OmPyuiz2o7ZLjFZ5RTXMjthCguSY0c/WCml3KSgyv6neOms+GMeDw0RFiTHUqKV19QkU2vp4rm8Cq8k2HvbxrvO4IkPSvm/V/fx3nfPIW169ITONZKzFybzblEtv/93Cd97aQ9/fPcgd5ybyWWrZrv0uW/vkRbufnkPa+dP5+4LFo87TncZNmLnNjMR+aaIfBP4MvDlAfdH5Kgz/yKQD+xxvNfDbolaeVTR0VaWzBh6mTE7LZ6uXhvFui2CXquNbQcaOHNhslahU0p5VUG1BRGOy6UE+/Y1bRqqJht7sr59paLPagu6VZ3c0iZSp0YyZ9oUj76PiHDu4lRevf10HrluDVOnhPHdF3ez/nc5vLi9sr8gwlAa23v4yhPbSYyJ4IEvrfaLC+IjReDMNo8b5jYqY8yPjDGLjTHLjTHXGGO6JxSt8rj27j7KGjqG/OMJsGJOAoA2DgXyy5po6+7T/ByllNcVVFmYlxhDTOTxGzOyUmI50txJe3efDyJTyvv6Sy877lsdqzrBlKuzvayJNRnTvXZhVURYvySVf96xjr9cu4bYyDC+/cIuzrtvCy/nHz/h6bPa+Noz+dS1dfPgNSeSFBvplThHM+xExxjzkOPrT4a6eS9E5U1FR+37ugf30HHKSIxmalQYu3SiQ05xHWEhwmmZWlZaKeVdBdUWlgyT4OvMrzxU1+7NkJTymQ2bSrDaBuewBM+qzpHmTo40d3JSuvcrKYoI5y1N5fWvreOha04kKjyUbz6/i/Pv28I/dhzBajP9ldy2HWjgZ59Z3n9R3B8Mm6MjIhtGeqEx5k73h6N8rchRcW3JzKH/gIoI2WkJ7KrQyms5xXWsTp+mvSqUUl5l6eqlvLGDL5yUNuTzmY4S0yW1rZwwJ37IY5QKJvnlzfQNmujYDGw7UOejiNwrr7QRgDUZ030Wg4jwyWUzOG9JKm8X1PD7f5fw9ed2cv9/SogMC6G6pYuFqbF8fs3Q45KvjLR1bbvjFgWsBkoct5WAb4phK48rrLYQExHK7ITh94Bmz0mg6GgrnT1WL0bmX2pbu9hXZdFta0opr9vfX4hg6AtS6YnRhIeKFiRQk8bGu84ge048q+cmUHrPhez58fkkxUaQFBuJGVRKORDllTYRExE6bFqBN4WECJ9aPpONd57Bn65aDQYKqu0XycsaOvxuu+BIW9ceN8Y8DqwAzjbG3G+MuR979bSV3gpQedf+mlYWzYgjZITutSvmxGO1GQqqJ++qznuOstI60VFKeVtBtX2is2yYiU54aAjzkmK0IIGaNBrautl9pIWzF6UAEBcVzjfPW0RuaRNv7q3xcXQTl1vayOr0aX6R3O8UEiJ8+oSZrF2QSJjjM6NtnL19PMmVf7FpwMDRNNbxmAoyxhiKalpZPMy2NaeVafa9l5N5+1pOcR1JsRHH9bBQSilPK6iykBQbOWLp3KyUOA5oLx01SbxXUo8xx/a0+8JJaSyeEccvNu6nqzdwd6BYunopOtrKmnTfbVsbTq2ly16JzbFtsNdqeNHPikC4MtG5B9ghIn8Tkcexl4v+hWfDUr5QY+mipbN31KXRlKlRzJgaNWkLElhthvdK6jgzK3nElS/lWyKSICIvikihiOwXkVN9HZNS7lBQbRm103hmSizljR0B/QFPKVdtLqolMSaC5QP6SoWGCD+4cCmVTZ08tq3Ud8FNUH5ZE8bASRn+t8awYVMJtkFbA61+tqoz6kTHGPMYcArwCvAycKpjS5sKMoWOQgSLh+mhM1B2Wjy7Kyfnis6eIy00dfRy1iLdtubn/gC8ZYxZDGQD+30cj1IT1tNno/ho66iryVmpsdiMVl5Twc9mM2wpqefMhcdffFyXlcQnlqTwx3cPUNcamB1O8kqbCA0RVs71n0pmTvnlzfRaB1e7M+SXNfkoouONVHVtsTGmUERWOx6qcHydJSKzjDH5ng9PeVNh9cilpQdaMSeBf+07SktHL/HRk6vq2JbiOkRgXWaSr0NRwxCReOBM4HoAY0wP0OPLmJRyhwO1bfRazagrOlkDKq+NdqxSgWzPkRYa23uGzZn9n08v4fz7tvC7d4r55WUneDm6icstbWTZrKlERwz7kd1nNt51hq9DGNVIKzrfdHz97RC3ez0cl/KBwhoLs+KjiJ8y+sQl29k49Mjk276WU1zHitnxJPpJMyw1pHlAHfCYiOwQkb+KSMzAA0TkFhHJE5G8urrgKEGqgt9ohQicMpKiCQ0RDmjlNRXkNhfZLz6eOcxEZ35yLNecms5zueXsd/z+BIqePhs7K5r9Mj8nUIxUde0Wx9dzhrid670Qlbe4UojAydmbYVfF5JrotHT0sqO8Saut+b8w7GXx/2yMWQW0A98feIAx5mFjzBpjzJrkZP3vqQJDQZWFKeGhZCTGjHhcZFgo6YnRWnnNzUSkVET2iMhOEckb4vmzRaTF8fxOEfmhL+KcTHKKa1kxJ4HpMcN3PrlrfRZxUeH87I2CgCo3va+qhe4+m1/m5wSKUXN0ROR2EUkYcH+aiHzVs2Epb+vps3Ggts2lbWsA8VPCmZ8Uw65Jlqez9UA9NoPm5/i/SqDSGPNfx/0XsU98lApoBdUtLJ4ZR6gLhVCyUmIp0cprnnCOMWalMWbNMM+/53h+pTHmp16NbJJp7uhhZ0XzqBcfE6Ij+MYnsth2oIFN+2u9FN3E5ZXac11O1InOuLlSde1mY0z/ZXtjTBNws+dCUr5wsK6NPpsZUzOq7LSESbeik1Ncy9SosP6te8o/GWNqgAoRWeR4aD1Q4MOQlJowYwwFVRaXy9pnpcRR2tBBT5/Nw5Ep5RtbSuwXH8924eLjVWvTWZAcwy827g+Y34nc0kbSE6NHLCWvRubKRCdURPovHYlIKDD8+qAKSEWOimtLxtAXZsWceGpbu6lp8Z966Z5kjCGnuI4zspL9qmmXGtbXgKdEZDf2JsdaFl8FtMqmTixdfS4XF8hKjcVqM5Q2aOU1NzLA2yKyXURuGeaYU0Vkl4i8KSLLhjpAcwTdI6eojoTocJcuPoaHhvC/Fy7hUH07T35Y5oXoJsYYQ15Zk+bnTJArn9beAp4TkfUish54xvGYCiL7ayyEhwrzkkbe9z1QtrNx6CTpp1N0tJWjlm7NzwkQxpidjhycFcaYzzhWo5UKWM5CBK6u6GSmxAJono57rTPGrAYuAG4XkTMHPZ8PpBtjsoH7gX8MdRLNEZw4m+3ji4+ubOUEOGdRCmdkJfH7fxfT1O7fhTgP1bfT2N6j+TkT5MpE53vAu8Btjtsm4LueDEp5X1FNK5kpcYSPYaVi6cyphIXIpNm+llNkv+o2XGUXpZTypIIqCyHiWq8zgAXJsYigeTpuZIw54vhai72/4MmDnrcYY9oc328EwkVEexF4QEG1hfq2bs4ew99kEXsT0bbuPv6wqcSD0U3cdkd+zpoMXdGZCFcahtqMMX82xlzhuD1kjNFWy0GmsLp1TPk5AFHhoSyeGTdpGofmFNexeEYcM+J1r6xSyvsKqi3MT45lSkSoS8dHhYcyd3o0JVpi2i1EJEZE4pzfA+cDewcdM8O53V9ETsb+OavB27FOBjnF47v4uGhGHFeePJcnPizz6/LruaWNTIsOZ0Gy6ztt1PGGneiIyPOOr3tEZPfgm/dCVJ7W3NFDjaVrzBMdsDcO3VXZjM0WOOUax6O9u4/c0kbdtqaU8pmxFCJwykqJ5YBuXXOXVGCriOwCPgLeMMa8JSK3isitjmOuAPY6jtkAfNEEUj3jALK5qJbls6eSHDf2nnbfPG8h0eGh/GLjfg9E5h55ZU2cmD6dAWnyahxGWtG5y/H1IuDiIW4jEpFFA+rI7xQRi4h8fcIRK7crdBQicLWHzkDZc+Jp7eoL+mTXDw420Gs1OtFRSvlEc0cPR5o7XS5E4JSZEseh+jb6rIFRZcqfGWMOGWOyHbdlxpifOx5/0BjzoOP7BxzPZRtj1hpj3vdt1MGppbOX/PJmzl6YMq7XJ8ZGcse5mfynsJYtxf5XDKKutZvD9e2an+MGIzUMrXZ8LRvqNtqJjTFFzjrywIlAB/b9rMrPFDoSXMezojNZChLkFNcRHRGqteyVUj4x1kIETpkpsfRaDWWNHZ4ISymf2HagHqvNTKin3fWnZzB3ejQ/e6PA7y4EbC9rBDQ/xx1caRh6mYiUODr9WkSkVUQsY3yf9cBBVyZIyvsKa1qZFh1OyjiWfzOTY5kSHsquiuDN0zHGsLm4ltMWJBIZ5treeKWUcqeCKsdEZ4wrOllaeU0FoZyiOuKiwliVNv6edpFhofzPpxdTfLSNZ3Mr3BjdxOWVNhEZFsLy2WPfaaOO5UqJrV8Dlxhj4o0xU40xccaYsf7LfxF7WerjaC153yusaWXxjKnj2gcaFhrCCbPjg3pFp7Shg4rGTt22ppTymYJqC6lTI0mKHdsFqQWOic4BrbymgsTHPe2SJtzT7pPLZnDKvOnc904xlq5eN0U4cbllTWSnJejFVTdw5f+Qo8aYcWdriUgEcAnwwlDPay1537LZDMVHW1k0jm1rTivmxFNQZaHXz5Z+3SWnqBaAs8a5F1gppSZqPIUIAGIjw5idMEUrr6mgUVjTSo2la9z5OQOJCP930VIaO3r4438OuCG6ievo6WPfkRbWpOtWeXdwZaKTJyLPiciVjm1sl4nIZWN4jwuAfGPM0XHGqDyooqmDjh4rS2aOf6KTnZZAd5+NoprgvGKYU1zHvKQY5iZG+zoUpdQk1N1n5UBt25i3rTllpsTq1jUVNJxlpSeSnzPQ8tnxXLF6Do9tK6XMDwor7axops9mOEnzc9zClYnOVOyFBM7n44prF43hPa5kmG1ryvf2V9snJ4tcbEA3lOw5wVuQoKvXygeHGjgzS/u9KaV8o+RoG302w9KZ8eN6fVZKLAfr2rAGeRsANTlsLqpl8Yw4Uqe6r6fddz65iLBQ4ZcbC912zvHKK21CBFbP1RUdd3ClYegNQ9xudOXkjoZa5wEvTzRQ5RmFNRZEYGFq7LjPkTZ9CtOiw9kdhAUJcksb6eq1ue3KkVL+qtbSxecf+oDa1i5fh6IGGW8hAqes1Fi6+2xUNmnlNRXY2rr7yCtt4uxF7t1KnjI1itvOWsBb+2r48JBv+7vmlTWxKDWO+Ohwn8YRLEZqGPpdx9f7RWTD4JsrJzfGtBtjEo0xwfcJOEgU1bSSkRhDdETYuM8hIv2NQ4PNluI6IkJDWDs/0dehKOVRGzaVkFvayIZN/rFPXX2soNpCTEQo6dPHt302M8W+NVm3r6lAt+1APX02z/S0u/nM+cyKj+JnbxT4rAm61WbIL2tijbaycJuRVnScBQjygO1D3FQQKKxpZVHq+PNznLLnxFN8tJWOnj43ROU/corrOHne9AlNBJXyd5VNHTz9UTnGwIt5Fbqq42cKqiwsmTmVkJDxdUjPdJaY1oIEKsBtLqojNjLMIxOBqPBQvnfBYvYesfBSfqXbz++KwhoLbd19rEnX/Bx3Galh6D8dXx8f6ua9EJWndPT0UdrQzuIJFCJwyk5LwGZg75GxtljyXzXG9qEAACAASURBVFXNnRQfbdOy0iroffWpfJwXMK3G6KqOH7HZDAXVlnFvWwOInxJO6tRISrTEtApgxhi2FNdxemYi4RMsKz2cS7JnsWpuAr/+VxHt3d6/cJtX2gSgKzpu5ErD0DUi8oqI5IvIbufNG8Epzyo52oYxsHgChQicVjgKEuwOou1rW9xc2UUpf/TR4QZ2V368u7jXaoJyVSdQc5Aqmjpo6+4bV2npgbJS4jigKzoqgB2obeNIc6dHWz04y03XtXbz27eLvD5m5JY2MjM+itkJU7z2nsHOlSnxU8BjwOV8XHXtYk8GpbyjsMa++rJ4Aj10nJLjIpmdMIWdFcEz0ckprmNmfFR/Z3Glgo3NZrjj6R3HPR6Mqzq/ebsoIHOQJlqIwCkzJZYDtW0+yz1QaqI2F3nn4uPqudO4JHsWf3u/lNzD3hszjDHklTaxJmP6uBq4q6G5MtGpM8a8Zow5bIwpc948HpnyuMKaVqaEhzJ3nAmug62YE3/MleFA1mu1sbWknrMWJuuAo4LW83kV1LZ2H/d4r9WeEBss/lNYywt5lQGZg1RQbSE0RFg4wVzKrNRYOnqsVLV0uikypbwrp7iOrJRYr6x23HTGPGwGDN4bM440d1Jj6dJGoW7mykTnRyLy1wk0DFV+qrC6lYUz4sad4DpYdloC5Y0dNLX3uOV8vrSzopnW7j7Nz1FBq7a1i19s3M/a+dM5/MtPU3rPhZTecyHrF6cQPyWcZ7+y1tchusX2sia+8ve8/vu9VltAreoUVFnITI4lKjx0QufJclZe0+1rKgC1d/fx0eFGzvbSVvIXcitwfjTy1gq35ud4hisTnRuAlcCnGF/DUOWHjDEU1lhY4oZta04r5tib2QVDmemcojpCQ4TTMrVRqApOP3mtgK4+G7/47AnHrFp+47yFtHT28tjWUt8F5ya5pY1c/dcP6RuwXctq4PncwFnV2Vc1sUIETs4tuAe0xLQKQB8eaqDHanN7/5yh1Fq6eGF7ZX+BFm/lLeaWNhIbGeaWvGn1MVcmOicZY9YYY64ba8NQ5b/qWrtp6uh1S36O0wmz4xEhKLav5RTXsXpuAvFTtGGXCj7/LjjKG3uqufPcTOYnH5uDtnx2POcvTeWvWw/R0tHrowgn7r+HGrju0Y8ICwkhLPTYVeseq43f/qvIR5G5rqGtmxpL14QLEQBMi4kgKTZCCxJMkIiUisgeEdkpInlDPC+OfoMHHMWbVvsizmCzuaiO6IhQr6x2bNhUgs0cm8vmjVWdvNImVqdPI9RNu2yUnSsTnfdFZKnHI1Fetb/GXmZ0kRuvHMRFhbMgOZZdAV6QoL6tmz1HWnTbmgpKbd19/N+re1mUGsctZy4Y8pivf2IhrV19PLL1kJejc4/3D9Rz/WO5zEqYwsyEKHqtxyfgv7m3BmP8OzF/f7V9nHbHig7YCxJoiWm3OMcYs9IYs2aI5y4Ashy3W4A/ezWyIGSMYXNxLactSCQybGJbOF2RX9583Jjh6bzFlo5eimtbOUnzc9zOlS6Ia4GdInIY6AYEMMaYFR6NTHlUYbX7Kq4NtGJOPFuK6zHGBGwS/3sljsouHixhqZSv3PuvImosXfzxqtVEhA19rWvprKl8+oQZPLqtlBtOn8e0mAgvRzl+75XU8eXH88hIjOGpm08hKTbyuGMe+E8J975dzIvbK/ncmjQfROmagmr76rg7VnTAnqfzj51HAnp8DgCXAn839ln0hyKSICIzjTHVvg4sUB2ub6eisXPYCzPutvGuM/q/N8bwmT+9j6Wzl9e/ts5j75lf3oQxcKLm57idKys6n8J+ZeJ8Ps7P0fLSAa6oppXUqZFu/wCzMi2B+rZuqloCY//7UHKK6kiMiWCZm66iKuUvdpQ38fgHpVy7Np3Vc0f+g3rX+oW09/Txl/cCZ1Vnc1EtNz2ex7ykGJ4eZpIDcNvZmaydP50fvbaPg3X+u5WroMrCrPgot43TWamxtHb1DVlpT7nMAG+LyHYRuWWI52cDFQPuVzoeO4aI3CIieSKSV1dX56FQg4OzrPTZPthlISLctG4eh+vbebeo1mPvk1vaSFiIsDItwWPvMVmNOtFxlJJOA851fN/hyuuUf9tf0+qRhLf+xqEBun3NZjNsKannzIXJbqtGp5Q/6LXauPvlPcyYGsV3PrV41OMXzYjjohX2XhINbf7/wfjdwlpu+ft2MpNjeebmtSQOM8kBCA0Rfv+FVUSEhXDnMzvo7rN6MVLXuasQgVOmoyBBiRYkmIh1xpjV2Leo3S4iZ47nJMaYhx35z2uSk3Wb9EhyiuuYnxxDmptaYYzVBctnMDM+ike2HvbYe+SVNrFsdjzREa5stFJjMeqERUR+BHwPuNvxUDjwpCeDUp7Va7VxsLaNxTPdu20NYMnMOMJDhZ0BWnltb1ULje09mp+jgs7DWw5RWNPKTy9dTmyka39M71qfRVevlYe2+PeqzjsFR7nliTwWzYjj6ZtPcWkFZEZ8FL+5Ipt9VRZ+/Zb/FSbo6rVysK7NbdvWYGCJac3TGS9jzBHH11rgFeDkQYccwX5x2GmO4zE1Dl29Vj481ODTv8nhoSFce2oG7x9s6G/g607dfVZ2VjZrfo6HuLIy81ngEqAdwBhTBbj/E7LymsP17fRYbW7PzwGIDAtlycyp7K4IzMprOUV1iMAZWVpWWgWPw/Xt/GFTCZ8+YQbnLU11+XWZKbFcunI2f/+g1G/LMb+1t4bbntzO0lnxPPnlU0iIdn2b13lLU7nu1HQe2XqYdws9ty1lPIpqWrEZ9xUiAEiKjSAhOlx76YyTiMSISJzze+xb+vcOOuw14FpH9bW1QIvm54zfB4ca6O7zTlnpkXzp5LlMCQ/l0W3uX9XZe8RCT5+NNRnT3X5u5dpEp8eRVGeg/5dbBbD9/YUIPJODkj0ngT1HWrDZ/Lui0VByius4YXb8iNtelAokxhj+5+U9RIaF8OOLl4359Xeuz6LXanhws/+t6ryxu5rbn85nxZx4nrjp5HGVg7/700tYPCOOb7+wi1qL/0zmChzj9NKZ8W47p4iQlRKrvXTGLxXYKiK7gI+AN4wxb4nIrSJyq+OYjcAh4ADwF+Crvgk1OOQU1REVHsIp83w7CYiPDueKE+fw2s4qt1/0ySttBOBEXdHxCFcmOs+LyENAgojcDPwb+y+vClBFNa2EhQgLBvXPcJcVc+Jp6+7jUH1g/TFt6eglv7xJt62poPLC9ko+ONTA3RcsIWVq1JhfPy8phstWzebJ/5Zx1I8mAq/tquLOZ3ewem4Cf7/pFKZGja/nVVR4KPdfuYr2nj6++fwuv7lAU1BlIS4yjLTpU9x63syUOIprW/2+tLY/MsYcMsZkO27LjDE/dzz+oDHmQcf3xhhzuzFmgTHmBGPMcb12lOtyiutYOz+RqHDPl5UezQ2nZ9BjtfHkh+VuPW9uaRPzkmJIjtMLrJ4w7ERHRCIBjDH3Ai8CLwGLgB8aY+73TnjKEwprWlmQHDtsadmJclYN2RVg29e2HazHZtCJTpAYrbHfZFDX2s3P39jPyRnT+eJJ4y+j/LVzs7DZDH9617MN81z1yo5Kvv7sDtakT+NvN5zscs7RcLJS4/jRxcvYeqCeh/2kyty+qhaWzJrq9jLQWSmxNHf00tDe49bzKuVuZQ3tHK5v90m1taHMT45l/eIUnvqwjK5e9xQwsdkM28saWaOrOR4z0ifdDwBE5AljzDvGmO8YY75tjHnH1ZM76se/KCKFIrJfRE6dcMRqwgqrLR4pROA0PzmWmIhQdgVYQYKcojriosK0vGNwGamxX9D76esFdPZY+cVlJ0yoiuDcxGg+t2YOz3xUQVVzpxsjHLsXt1fyzed3sXZ+Io/dcBIxE5zkOH3xpDQuWD6De/9V5POmx1abobCm1a2FCJyyUrXymgoMOcWOnnY+zs8Z6KZ182ho7+G1nVVuOd+h+jaaOno5SfNzPGakiU6EiHwJOE1ELht8c/H8fwDeMsYsBrKB/RMNWE1MS2cvVS1dLPJAIQKn0BDhhDnx7KoMnBUdYwxbSupYl5lEWKhWT1eB793CWv65q4rbz8nsLys8Ebefk4nB8Ecfruo8l1vOd17cxbrMJB657iS3lmIVEe65bAUpcZHc+ewOWrt63XbusSpraKejx+rWQgROzsprB7TymvJzm4vqSE+MZl6S/6SGn7ogkcUz4nh022G3bP/MLW0CYI02CvWYkT7R3QqcASRgbxA68HbRaCcWkXjgTOARAGNMjzEmsC7xB6GiGvsftyUeKkTglD0ngf1V9koigaCkto3qli7dthZcRmzsF8wN+9q7+/jBP/aSlRLLbWe7p5v4nGnRfOGkNJ7Pq6CiscMt5xyLp/9bzvde2sOZWcn85do1TIlw/579+Ohw/nDlKioaO/jhq/vcfn5XfVyIwP3jdOrUSOIiw7TymvJrXb1WPjjY4Dfb1pycDUQLa1rZdqBhwufLK20iMSbCryZzwWbYiY4xZqsx5jbgu8aYGwbdbnTh3POAOuAxEdkhIn8dqmJbMH/Y8EdFNY6Kax7cugb2xqE9VhuFNe6vOe8JOY7Oy2f62aCqJmTExn7B3LDvd+8Uc6S5k19edoJbc/FuPycTQXjgP95Z1am1dPH5hz7gj++W8D+v7OHcxSk8fO2JHk1MPiljOnetX8grO47wcn6lx95nJAVVFsJDhYWp7h+nRYTM1Fjduqb8Wm5pI529Vs5a5H9j8yUrZ5EUG8kjWyeez5dX1siJ6dPcnounPjbqX0BjzCPjPHcYsBr4szFmFfY+PN8f4vxB+2HDH+2vaWVqVBgzxlF9aSyy0+wlUX29191VOcV1LEyNZVaCeyscKd9xobFfUNpV0cxj2w5z9dq5bu/LMDN+Cl86ZS4v5ldS1tDu1nMPZcOmEnIPN/KbfxVz3tJU/nz1aiLDPF996Y5zMzl53nT+7x97OVzv+Z9zsH1VFjJT4jxWMCYrJVZXdJRfyymqIyIshLXzE30dynEiw0K5Zm067xbVcWACv0e1li7KGjo0P8fDPJmMUAlUGmP+67j/IvaJj/IheyEC91fyGWx2whQSYyICIk+no6ePjw436ra1IOJiY7+g02u18f2X95AcF8l3P7XYI+/x1bMXEBYibNjk2VWdmuZOnsmtwAAhAj++eJlXJjlgzzP8/RdWEhYawp3P7PD6FtyCaotHtq05ZaXEUd/WTZNWXlN+anNxHafMm+7WPDx3umrtXCLCQnhsAg1E88o0P8cbPDbRMcbUABUissjx0HqgwFPvp0ZnsxmKj7axxIOFCJxEhOy0BHYHQOW1Dw810GO1cdZC/6nsoiZsyMZ+Po7J4x7Zepj91RZ+csnycfeVGU3K1CiuWZvOKzsqOVTnmVUBS1cvVzz0AVZHT5vQEOHPOQc98l7DmZUwhV9dvoI9R1q49+0ir71vbWsXda3dHilE4JTpqLx2wEP//ZSaiMqmDg7Utvn1xcek2Eg+u3I2L+VXjvuCQW5pI5FhISyb5b6mwOp4o050xO5qEfmh4/5cEXF1C8jXgKdEZDewEvjF+ENVE3WkuZO27j4WebgQgdOKOfGU1LbR1t3nlfcbj1pLF3e/tIeosBC9qhJEhmvsF8zKGtq5751iPrkslU8tn+HR9/rKWQuIDAtlw6YSt5+7+GgrF254j8qmj8tY91oNL+ZVuL0j+Wg+tXwGV6+dy8NbDvWXuvW0/dX2gjGeXdHREtPKfzl/1872o7LSQ7lx3Ty6em08/dH4GohuL2tiZVqCx7aoKjtX/nX/BJwKXOm43wr80ZWTG2N2OvJvVhhjPmOMaRpnnMoN9ld7pxCBU3ZaAsbA3iP+u31tw6YSjrZ2kxgb4Redl5UaD2MM//PKHiJCQ/jJJcs9/n7JcZFce1o6r+6qcmuZ4td3V/GZP26j1tJN2KC+P1ZjPL5dbig/uHApC1Nj+dbzO6lr7fb4+xVUea7imtOs+ClER4RSoiWmlR/aXFTH7IQpLEj270pki2bEcUZWEn//oHTM21vbu/vYV2XR/BwvcGWic4ox5nagC8AxWYnwaFTKI5ylpT1RyWco2XPsjTf9tSBBraWL5/PsVZWOWrq9frVYKXd5Of8I2w408N0LFjMj3rOFRpy+cuYCosND+f2/J76q02e18YuN+7nj6R0snhFHemI0fbZje1T0Wg35Zd6/VhYVHsr9V66mtauPb7+wC5tt4r0zRlJQbWHOtCnER3tm6yFASIiQmRI7oURqpTyhp8/G+wfqOXtRckBUIrtx3TyOWrrZuKd6TK/bWdGM1WZ0J4kXuJLl1Ssiodh7UiAiyUBgNEdRxyisaWXu9Ghi3dRJfDTTYyJImz6F3X5akOD3/y6m12r/X1kENmw6wM8+4/mr4Uq5S62li1uf3M7BujZOTJ/GVSfP9dp7T4+J4PrTM/jT5oPcUWNh8Ti3xNa3dfO1p3fwwaEGrj01nR9cuNTvtnIsmhHHDy5ayv/9Yy+PbjvMJdmzuOOZHTzwpVWkxLl3YrmvqsWjqzlOmSmxvO+GPiBKuVNeWSPtPVa/zs8Z6KysZBYkx/DI1sNcunKWy5Oz3NJGRGB1uk50PM2VvyYbsJdmTRGRnwNb0VybgFRYY2GxFwoRDLRiTgI7/XBFp9bSxXN5lTivzfoqB0CpidiwqYT88mYsnX3cc9kJhIR49wrozWfMJyYijN+/M75VnR3lTVx8/1byy5v47eey+emly/1ukuN09SlzOX9pKr96q5AfvbaP3NJGt2+l6+jp43B9u0cLEThlpcRRY+nC0tXr8fdSylU5RXWEhwqnZSb5OhSXhIQIN5w+jz1HWsgtdX3FOa+0iUWpcR4rGqM+5kofnaeA7wK/BKqBzxhjXvB0YMq9unqtHK5v9/pEJ3tOPEeaO6lv8/ze9rH4xnM7+ys6OfkqB0Cp8bBP1isA+x9bT251Gk5CdAQ3rpvHW/tqxpyL98xH5XzhoQ8JDRFeuu00Lj9xjoeidA8R4ddXrGBadARv7a3BGNx+caSwphVjPJuf45TpKEig29eUP8kpruOkjOle23niDpevnkNCdLjLDUT7rDZ2lDdpfo6XDDvREZHpzhtQCzwDPA0cdTymAkjJ0TZsBhZ74Q/oQM48HX8qM727spltB4/fsuGrHAClxmPDphJ6rfbJeohj66Uv3LRuHlOjwlzO1enqtfK9F3dz98t7WLsgkde/to7lswOjvGpCdATZc+L7V4LdfXGkvxCBV1Z0HBMdrbw2ZiISKiI7ROT1IZ67XkTqRGSn4/ZlX8QYiKpbOimsaQ2YbWtOUyJC+dLJc3m74CjlDR2jHl9Y00p7j1Xzc7xkpCnzdux5OQLMBZoc3ycA5cA8j0en3Kawxv4HdJGXV3SWz44nRGBXRQvnLk716nsPpba1i1v+vp3ZCVN47Y7TSYyN9HVISo3ZwNUc+Hjr5Z3rM92eMzKa+Cnh3HzGfH77TjG7K5tZ4bi4MZQjzZ3c9uR2dle28LVzM/n6JxYS6uXtdhNRa+liS0l9/313/7sXVFuInxLO7IQpEz7XaNKmRxMRFqKV18bnLmA/MNyM9DljzB1ejCco5BQFRlnpoVx7agYPbznEY+8f5kcXLxvx2NzSRgBd0fGSYVd0jDHzjDHzgX8DFxtjkowxicBFwNveClC5R2FNK5FhIWQkerdcY0xkGFkpcX6xotPdZ+W2J/Np7uzh4WtP1EmOClgbNpXQZ/WfrZfXn55BQnQ4971TPOwx2w7Uc/H9Wzlc185frl3Dt85fFFCTHLD/u9vMoGpwNpvb/t33VVlYOnOqV6pNhYYIC5JjKdGta2MiInOAC4G/+jqWYJNTXMfM+CgWOhraBpIZ8VFctGImz+dWjJr3llfaxOyEKczywgUN5VoxgrXGmI3OO8aYN4HTPBeS8oTCGguLZsT55IPFijnx7KpswRjPlmUdiTGGH726j+1lTdz7uWztRKwC2raD9Qz+bfLl1su4qHBuOXM+7xbVkV9+bAzGGB7MOcg1j/yXpNgIXr3jdM5b6vvV3fHIL2/u3y7oZLXBe25oJtpntVFYbfHKtjWnrJRYbRo6dr/Hnrc8UvXZy0Vkt4i8KCJpQx0gIreISJ6I5NXVeacZrT/rtdrYWlLPWQsDo6z0UG5aN5/2HivP51YMe4wxhtzSRk7Uamte40q2V5WI/AB40nH/KqDKcyEpTyiqaeUcHy0HZ6cl8ML2SiqbOkmbHu2TGJ78sIxncyu4/ZwFXLRilk9iUMpdls6Mp761h/fvPpc4P6nac92pGfz1vcPc904xT9x0CgBt3X1854VdvLm3hgtXzOTXl68gJoCSjAfbeNcZx9xv7erlij9/QFVLJwdqW8lMGf/W4NKGdrr7bF4pROCUlRLLa7uqaO/uC+j/Lt4iIhcBtcaY7SJy9jCH/RN4xhjTLSJfAR4Hzh18kDHmYeBhgDVr1vjuKqCf2FHeTGt3H2cvCqz8nIFOmBPPyRnT+dv7pdxw+rwhLyxXNnVS29rNSZqf4zWurOhcCSRjLzH9suP7Kz0ZlHKvutZu6tt6vF6IwKm/caiPtq99cLCBn/yzgPWLU/jWeYt8EoNS7lJa386be6u5am2630xywL5N9daz5vNeST0X/GELHx1u5NIHtvJ2wVF+cOESHrhyVdB9mI6LCueR69cQGRbKjX/Lo7G9Z9zn2ufFQgROWY4tQgfrdFXHRacDl4hIKfAscK6IPDnwAGNMgzHGWWb0r8CJ3g0xML2x23793FsNzT3lxnXzqGzq5O19NUM+78zPWaP5OV7jSnnpRmPMXcaYVcaY1caYrxtjGr0RnHKPohp7sukSLxcicFo0I46IsBCfNA6taOzg9qfzSU+M5r4vrvR6nxGl3O2vWw8RFhLCDadn+DqU41yzNoPIsBD2V7fypb98SHNHL0/edApfPmN+wG5HGc2cadH85doTqbF08ZUn8ujus47rPAXVFiJCQ/rLPnuDcwVKt6+5xhhztzFmjjEmA/gi8B9jzNUDjxGRmQPuXoK9aIEaxWu77BOdR7eV+jaQCTpvaSpzp0fzyNbDQz6fW9pEXFRYwE/oAol/dmZTbuWrimtOEWEhLJ051euNQzt6+rjlie30Wm385do12phLBbz6tm5eyKvks6tmkzrVu9XVXNHa1dvfn8pqDI/feBKnLkj0cVSet2ruNH77uWxyS5v4/kt7xpWPWFBlYeGMWMJDvfdnOT0xmvBQ0YIEEyQiPxWRSxx37xSRfSKyC7gTuN53kQWGHeVNNHXYE/gDvXF3aIhw/WkZ5JU1sWuIzzx5jvycQCvEEsh0ojMJ7K9uJTku0qdVxrLnxLP3SMtxTTo9xRjDd17cTWGNhQ1XrmJ+cuBVcVFqsMffL6XHauOWs+b7OpQhbdhUgnPhJixEeDa30rcBedHF2bP45nkLeWXHER74z9iqsBljKHBUXPOm8NAQ5iXFcEBLTI+ZMWazMeYix/c/NMa85vj+bmPMMmNMtjHmHGNMoW8j9X9ff3Zn//fB0Lj78yelERcZdtyqTnNHDyW1bazRQgRepROdSaDoqIXFPlrNccpOS6Cjx+q1Ltx/2nyQN3ZX871PLfZZEQal3Km9u4+/f1DGeUtSWeCHE/daSxcvbK/sr0rm7DETyFdnx+pr52by2VWz+e07xby+2/WaPbWt3TS093h9ogOQlRKnKzrKZ/5dUENZ48dNNoNh3IiNDOMLJ6WxcU811S2d/Y9vd1TF1Pwc7xp1oiMiUSJyu4j8SUQedd68EdxkU2vp4vMPfeDWX/A+q43io20+n+g4mwje+uR2jw9gm/Yf5d63i7gkexZfOdM/r3wrNVbP5VbQ0tnLV85a4OtQhjRUj5lguDo7FiLCPZefwJr0aXzr+V3sKHet3HdBfyEC75e9z0yJpaKxg67e8eUWKTVeNpvhey/tOe7xYBg3rjstA5sxPP5+Wf9juaVNhIdKf4Em5R2urOg8AcwAPgnkAHMAXed2M2MMv/5XIbmljW79BS9t6KCnz8biGb6puOY0PymG8BDhcH27RwewA7Wt3PXsTpbNmsqvLl8RtAnQanLptdp4ZOthTs6Y7rf9F4bqMePL3j6+EhkWykPXnEjq1Chu/vt2Kps6Rn1NQbV9orNkpvcvSGWlxmIzcKiu3evvrSa3V3cdoWGISoXBMG6kTY/mU8tn8MxH5XT09AH2/Jzls+OZEhHq4+gmF1dqfWYaYz4nIpcaYx4XkaeB91w5uaMEYytgBfqMMWvGH6p/qrV0ccczO3jgS6tIiRs5ObjPaqO6pYuyhg7KGtspb+hwfN9BWUM7HT32K2rP51Vw5/rMUc/nCl8XInCqb+vG6rja+8x/yzh/SSpnurlefktnLzf/fTtR4SE8dM0aHUxU0Hh9dxVHmjv56aXLfB3KsAb3mJnMEmMjefT6NXz2T+/z5cfzeOHWU0csBb6vqoX0xGiflAvPclZeq231amlrNbl19lj59VtFLJ89ldduXxeUFVFvWjePjXtqeGl7JZ9bk8buyhauOy3d12FNOq5MdHodX5tFZDlQA4wl6eEcY0z9mCMLEBs2lfSvwvzsM8vp7LFS7pi42L/aJzLlDe1UNnXSNyAZPyI0hLTpU0hPjMFms3Ggtg2rgZ4+G995YReP33jKhOMrrG4lNES8WrJ0KBs2lRAaItisBquBax/7iOw58Vy1Np2LV8ya8KTEajPc+cwOKps6ePrmtcxOmOKmyJXyLWMMD+UcIislVvPNAkhmShx/vupErnvsI+58Zgd/uXYNYcNUVPNFIQKnjKRoQkPEa/mTSgE8vOUQ1S1d/OGLq4JykgOweu40stMSeHRbKQtT4+ix2jQ/xwdcmeg8LCLTgB8ArwGxwA89GlWAqLV08XxeJcbAU/8t48091cctw8ZFhZGeGM2yWfFccMJM0qdHMzcxmozEGGZMjSIkRKi1dHHGr99l4K6P91WheQAAIABJREFUnOJ6fvVWId/95KIJbb8qrGllflIMUeG+W90YnKQM9opMls5evvvibn72egFXnJjGVWvnjjvJ+jf/KiKnuI6ff3Y5J+lAooJITnEdhTWt3Pu57KD9QBCs1mUl8ZNLlvGDf+zlZ2/s58eXHL8i19bdR2lDB5evnuODCO1b7dITo7WXjvKampYuHsw5yAXLZ3DyvOD9ey0i3Hh6Bnc9u5NfvmkvvpeRGO3jqCafUSc6xpi/Or7dAow1s9sAb4uIAR4yxjw8+AARuQW4BWDu3LljPL3v9PTZuPFvufRYbfYHDMRPCef60zKYmxhNemIM6dOjSYgOH3WiMlQSrwB/3nyQisYOfnNF9rhXPAprLKxM823i25A/n8DpmUncc/ksnviwjCc+LOXRbYc5bUEiV69N57ylqS73k3h15xEezDnIVafM5apTdFlYBZcHcw4yY2oUl2TP8nUoahyuXpvOobp2Ht12mAXJMVxzasYxzxdWOwsR+G7bWFZKLCVaYlp5ya//VYjVZrj7giW+DsXjPn3CTO55s7C/j+ATH5bzs88s93FUk4srVdeeEJH4AffTRWSTi+dfZ4xZDVwA3C4iZw4+wBjzsDFmjTFmTXKye3M2PKWwxsKFG95jr6NSDthndFXNnXzh5DQuXTmblWkJTIuJcGk1ZqgkXgOkxEXyxp5qPvfQ+1Q1dw794hG0dvVS2dTJEh9tiXAaNkm5vJlT5ifywJdW8/731/OdTy6irKGDrz6Vz+n3/IffvV10TGnGoeypbOG7L+7m5Izp/Ohi/81fUGo8dlY08+GhRm5aN4+IMO0GEKj+98IlrF+cwo//WUBOcd0xzxX4xUQnrr9wjVKetLuymZfzj3DDOvtF4WAXHhrCZas+Xq0N9NLZgciVrWtbgf+KyDeB2cB3gG+5cnJjzBHH11oReQU4GfvKUECy2gwPbznEfe8UI2LvgDuwAaazJOJYZ+sjJfFu2n+Uu57dySUPbOOha04cU8Wl4qP2K3SLUn1biMCVJOXkuEhuPyeTW89awOaiWp74sIz73z3AHzcfZP3iFK5em866zKT+rTu1li6+8uR2jjR1khgTwZ+uXq0fBFXQeXjLQeKiwvjiyWm+DkVNQGiI8IcrV3HFn9/njqfyeemrp7HQMS7vO2JhWnQ4M6ZOvPjMeGWlxmK1GUob2vvjUsrdjDH8v9cLSIyJ4I5zMn0djtcMnNiM93OiGr9RPxkaYx4Cvgy8CvwUONMY88/RXiciMSIS5/weOB/YO7Fwfae0vp3PP/QBv3qrkHMXp5CeGH3MJAc8UxJx/ZJUXvnqacREhnLlwx/y4nbXO43vr7ZPdBb7oGTpeIWGCOuXpPK3G05my3fO4eYz5pNX1sS1j37EOb/dzMNbDtLU3sN9/y5mR3kzDW3dPHztGpJiI30dulJudbi+nTf31nDN2nSfVONS7hUbGcaj159EVEQoN/4tl/q2bsC+orNsVrxPS+E7i9Vono7ypDf31pBb2sQ3z184aca0WksXr+36uHlwMDREDTSjruiIyDXA/wHXAiuAjSJygzFm1ygvTQVecQzeYcDTxpi3Jhiv1xljePLDMn6xsZCwUOG+L2TzmZWzvfpHKSs1jldvP53bn87n2y/sorDawvcvWDxsBR+noppW4iLDArYCWdr0aL5/wWK+cV4Wb+2t6f/v8Jt/FdHn2AoXEiKkTNVJjgo+f3nvEOEhIVz//9m77/iqy+uB45+TRYAk7BH2HgFEARFBXGgVVEStq7WOVq171Gq1P2ur1da2VivVugeO4kDrBBcKMoUAyoaEkJCwMoAkJGTe8/vjfhNDSMJNcnfO+/W6r9z7zfc+92Q9uef7PM95JvULdCjGS3q0b82LV47j0ueXcf1ryTx+ybGs35nPzycEdn3qwC5xiOCs00kMaCwmPJWUV/LXeZsY2i2eS8e1nBHqhjZStlEd//Bkrs9FuNfazFbV+4AbgFlHe5KqpqnqaOc2QlUfaW6w/rY7/xBXvryCP3y4gXH9OvDFnSdzwXG9AnLlrX2bGF69ZjxXT+zHi4u388tZyeQfKm/wOZv3FDC0e3zIb5rZKiqS84/tybs3TOSzOybTv1NbanYbob6DsjG15RSWMmdVFheN7emV/bRM8Bjduz2PX3Isq3cc4OJnl6LA9gBv1hkbHUmfjm1IsRLTxkdeWZJO5r5D3H/u8KNepA0ntpFy4HlSdW1GrccrRGS870IKPFXlg+938sCHG6ioVP48YyRXnNAn4AlDdGQEf5o+gqHd43ngw/Vc8PQSXrhqXJ0lmVWVzXsKOf/Y8KrU1LFNDBn7ftxpvGoY2FsbrBoTDGYtTae80sV1kxtb6NKEgmmjErnx1IE8s2AbACsz9pNdWBLQPmxw1zhSbeqa8YGcwlKe/iaVKcO6MnlwaBSd8hbbSDnwPKm6FisiN4vIf0TkZRF5GXjWD7EFRN7BUm58YzV3vv0DQ7rFM+/2yfxiQt+AJzk1XT6+D29eO4EDh8qZ8fSSI6r4AOzKL6GwpIKh3cNrp+uGhoGNCQcHSyt4bVk6ZyV1Z0AT95Uywa/wUDlV2yJpEPRhg7rGk5Z7kIpKq7xmvOvxL7dSUl7J788J/3LSJvh4Mn74OtAdOAtYCPQCwrLg/pcb93LWv77l683Z3Dt1GO/8+kT6dW4b6LDqNL5/Rz66ZRI927fmmldW8OKiNLRGAlC1N8Pw7qFTiMATNgxsGkNEIkVkjYh80ty2sgtKuOS5ZT5fRPrWih0UlFTw61NsNCdcVW2iXFXPJhgWKA/uGkd5pR42Ym5Mc23aXcDbK3dwxYS+Td4Q3JjmqHfqmohEqWoFMEhVLxaR81V1loj8F1jkvxB9r6CknIc+3sicVVkMT0zgjWtHMywERkJ6dWjDezdO5K53fuDhTzexeU8hj1wwklZRkWze485Fh4RZomPDwKaRbgc2Ac3+g545P4WV6ft8uoi0vNLFS4u3c0L/jhzXx/NS8ia0BOMC5cHdfqy8Zm9IGyYikUAysFNVz631uVbAa8BYIA+4VFXT/R5kEFBVHv50I/Gx0dxxxuBAh2NaqIZGdFY4H6tWvB8QkZFAO6CrT6Pyg6qrs3PX7mLqvxbx/uosbjltEB/ePCkkkpwqbVtF8Z+fj+H2KYOZsyqLy59fTnZhCd9nHiAmUigprwx0iMYEhIj0As4BXmxuW5n7i/jvih2o+nbDt49/2MXu/BJuOGWgT9o3wSEYR6arkpvU7LCcsOFtVRdQ6vIrYL+qDgKeAP7mt6iCzPxN2SxJzeOOMwbTvk1MoMMxLZQnG4Y+LyIdgPuBj4A43OWmQ9rjX25lxfZ9rNi+jwGd2/LejRND9gpqRIRw55lDGNo9nrve+YHzn1rCgeIyyiqthKFp0f4F3APUOawpItcD1wP06dNwed8nv0qpnmZUVuniya9SeOSCUd6MFVXluYVpDO0Wz6lDW9aC3ZYmGEem2zpbEVjltYbVuIDyCPCbOk45H/iTc38O8JSIiGqtIbwwV1bh4i9zNzGgS1uumNA30OGYFqyhEZ2uIvIb3FM+rgHGAU/jvjoRnAtXPDR/017eXpkJuDeofPWa8SGb5NQ0bVQic248EVU4VO5eUBroed/GBIKInAtkq+qq+s5R1edVdZyqjuvSpf7EIrughI9/2F392KUwe8UOtu717pXvBVty2LK3kOtPHhBUxU9MyzG4W5xtGnp0VRdQ6qva0BPIBHCm/+cDnWqfJCLXi0iyiCTn5BxZUCjUvbE8g7TcIv5v2nCiW1A5aRN8Gvrti8Q9ehNf4xZX4xZyyipcPPb5Fn41K7l6H5YIgecXpQU0Lm8a0aMdJw3uVF3NxyqSmRZqEjBdRNKBt4DTReSNpjRU13oKl8IFTy9hXVZ+swOt8uzCbfRoF8v0MCsJb0LH4K5xbMs5SKWrRQ0+eMyTCyie8vRCSyjaX1TGk/NTmDy4M6cPC/mVDibENTR1bbeqPuS3SHxs854CfvP2D2zcXUCEcES1m3DZh6Xq6nO4fn3GeMLZ3Pg+ABE5Ffitql7RlLbqWk8BUFrh4qJnl/LwjJFc0sydvtfs2M932/dx/zl29dMEzuCu8ZRWuMjaX0zfTiE9ccNXqi6gTANigQQReaNW37IT6A1kiUgU7nXNef4PNXCenJ9CYUk595+TZKPTJuAaSnTC4rez0qU8/20aT3y5lYTWUZwypAtLt+XiqvHGJdDVbrwpGKv5GBPK6ltPkXewlFtnr+GeOWv5IfMAD5yXRKuoyCa9xnML00iIjeKy8Q2vFTLGlwbVqLxmic6RPLyA8hFwFbAM+CnwdUtan5OafZDXl2dw2fg+DA2zqq8mNDV06XCK36LwkfTcIi59bhl/+2wzpw/ryud3nExOYWnQVbvxpmCs5mNMIKnqgtolYL2hU1wrXvvleH59ygDe/G4Hlz2/nD35jV8Pl5ZzkM837uHKE/sR18qT+jDG+Magrk6iYwUJGkVEHhKR6c7Dl4BOIpKKu1jBvYGLzP/+MncTbaIj+c2ZQwIdijFAAyM6qrrPn4F4k6ryxnc7+Munm4iKFJ64dDQzju2JiARltRtvCvevz5hgEhUZwX1ThzO6V3vufvcHzv33Ip762RgmDDhi7XG9Xli0nejICK6a2M93gRrjgYTYaLonxJJiJaaPSlUXAAuc+w/UOF4CXByYqALr2605fL05m/umDqNzXKtAh2MM0PCITkjanX+IK19ewR8+WM+4fh344s6TueC4XjZP1BjjM9NGJfLhLZNIaB3Nz1/8jhcXpeHJbJXswhLeW53FT8f2oku8vTEwgTe4WxypNqITtqr2EPR2NdaKShcPf7qRPh3bcPWkfl5t25jmCJtER1X5YM1OznriW5LT9/PnGSN57ZfjSWzXOtChGWNagEFd4/nw5kmcMbwrD3+6iVtnr6G4rKLB57y6JJ3yShfXTR7gpyiNadigrnGk7C3kkmeX2tYEYWjm/BRWpu/zejXWt1ZmsnXvQe6bOqzJaxWN8YWwSHTyDpZy05uruePt7xncLZ55t0/mFxP62iiOMcav4mOjefaKsdxz9lDmrtvNBU8vZXtuUZ3nHiyt4PXlGUwd2Z3+nW3htwkOg7vGc6jcxcr0/bY1QRjJP1TOnORMZq/MRBXeWrGD79LyPBp5PpqCknKe+HIr4/t35OyR3b0QrTHeE/IrX7/cuJf73l9LwaEKfnf2MK4/eQCREZbgGGMCQ0S46dRBjOrZjttmr2H6U4t54pJjOSOp22HnvbViB4UlFfz65IEBitSYI3VqGwOAgm1NEMIKSspJTt/Hsm15LE/bx4Zd+dTcHqnCpVz6/HI6x8VwwoBOTBjQiRMHdGJgl7aNvkj89Nep7Csu41UrJ22CUMgmOoUl5Tz08UbeXZXF8MQE3rh2NMO6JwQ6LGOMAWDy4C58fOtJ3PDGKq59LZnbTh/E7WcMITJCKKtw8eKi7UwY0JHRvdsHOlRjqn21aW/1fduaIHQcLK1gZfo+lm/LY3laHut2uhObmMgIjuvTnl9O6s+sZemHVWWNjhSO79eRVen7+XTtbgC6xLdiwoBOTBjQkRMHdKJ/54YTn4y8Il5Zks5FY3oxqlc7X3+ZxjSazxMdEYkEkoGdzS3xml1Qwi2z13D1xL488ulmducf4ubTBnL7lCHERIXFLDxjTBjp1aENc26YyB8+WM/Mr1NZuzOf/5s2nF+/voo9BSU8etGoQIdoTLXsghI++mFX9WPbcDp4VL3/eepnx9E1Ppai0gqSM/Y7IzbuxKbSpURHCsf17sAtpw1iwsBOjOnTgdjoSO7/37o62+0U14pl951ORl4xy9PyWJaWx7JteXzs/B50S6hKfNwjPn07talOfLILSpjx9BIiI+Dus4b67XthTGP4Y0TndmAT0Ozhlse/3MqK7ftYsX0f/Tu3Zc6NExnTp0PzIzTGGB+JjY7k7z89hmP7tOdPH21gxn+WUFRaSfvW0ZwypEugwzOmmm04Hbwe/3IrK7fv45pXVhITFcG6rHwqnMRmdK/23HTqQCYMcCc2rWOOLAbQ0B57IkK/zm3p17ktl43vg6qSnldcnUQt3ZbHh9+7E5/uCbHu0Z6Bnfjoh13sLy5ndK92dEuwRNgEJ58mOiLSCzgHeAT3xllNtnN/MW+vzAQgMkKYdc14+nRq0/wgjTHGx0SEn5/Ql24JsVw7KxmAorIKcg6W2pVyEzRsw+ng9MWGPbzlvP/ZsKuAUT0T+PUpA5gwoBNj+3agTczR38o1Zo89EaF/57b079yWn53gTnzScouqE5/Fqbl88P2PI3+b9xSSXVhifZkJSr4e0fkXcA8QX98JInI9cD1Anz596m3omQXbiBCoVIgQeH5Rml1hMsaElAWbs4mOlOo3k3al3AQT23A6OH21aS8RAi51r6sZ3bsDd581zG+vLyIM7BLHwC5xXDGhL6rKbbPXMHf9bipd4LJRPxPEfLawRUTOBbJVdVVD56nq86o6TlXHdelS9zSO7IIS3l2VRdWFpqp5w1bj3xgTKqr6saokx/oxY8zRZBeU8OH3u6orpgVDv5FTWMoXG/dS6QqemIypjy9X8E8CpotIOvAWcLqIvNGUhhqaN2yMMaHA+jFjTGMFY78RjDEZUx+fJTqqep+q9lLVfsBlwNeqekVT2rJ5w8aYUGf9mDGmsYKx3wjGmIypT0jso2Pzho0xoc76MWNMYwVjvxGMMRlTH78kOqq6AFjgj9cyxhhjjDHGGNFa8ywDSURygIyjnNYZyPVDOI0RjDFBcMZlMXnOk7j6qqptxtJMHvY9EJy/KxaT54IxrmCMCaz/8Rvrf7wuGGOC4IwrlGPyqP8JqkTHEyKSrKrjAh1HTcEYEwRnXBaT54I1rpYsGH8mFpPngjGuYIwJgjeuliwYfyYWk+eCMa6WEJMvq64ZY4wxxhhjTEBYomOMMcYYY4wJO6GY6Dwf6ADqEIwxQXDGZTF5LljjasmC8WdiMXkuGOMKxpggeONqyYLxZ2IxeS4Y4wr7mEJujY4xxhhjjDHGHE0ojugYY4wxxhhjTIMs0THGGGOMMcaEnYAnOiLSW0S+EZGNIrJBRG53jncUkS9FJMX52ME5LiIyU0RSRWStiIyp0dbfnTY2OeeIn2IaJiLLRKRURH5bq62zRWSLE++9Tf0+eTOu+toJZEw12osUkTUi8kkwxCQi7UVkjohsdn6vTgySuO502lgvIrNFJLapcbVk1v/4Py7rf6z/MW7W//g3Jm/2Pd6Mq0Z71v/4ov9R1YDegERgjHM/HtgKJAF/B+51jt8L/M25Pw2YBwgwAfjOOT4RWAJEOrdlwKl+iqkrcDzwCPDbGu1EAtuAAUAM8AOQ5MfvVX1x1dlOIGOq0d5vgP8CnwT6++R8bhZwrXM/Bmgf6LiAnsB2oLXz+B3gan/8vYbbrQk/E+t/mh+X9T/W/9itaT+TFtn/eDEmr/U93oyrRnvW//ig/wn4iI6q7lbV1c79QmAT7i/kfNzfZJyPM5z75wOvqdtyoL2IJAIKxOL+YbQCooG9/ohJVbNVdSVQXqup8UCqqqapahnwltNGk3grrgbaCVhMACLSCzgHeLEpsXg7JhFpB5wMvOScV6aqBwIdlyMKaC0iUUAbYFdT42rJrP/xf1zW/3gWk/U/4c/6H//G5M2+x5txgfU/nsblaFT/E/BEpyYR6QccB3wHdFPV3c6n9gDdnPs9gcwaT8sCeqrqMuAbYLdz+1xVN/kppvrUGWtzY/JCXPW1E+iY/gXcA7iaG4uXYuoP5ACvOMPJL4pI20DHpao7gceAHbh/1/NV9QtvxNWSWf/jt7jqayfQMVn/Y/1PwFj/45eY6mun2az/8U9cTel/gibREZE44D3gDlUtqPk5VVXcVywaev4gYDjQC/cf0+kiMjmQMfmKt+JqqB1/xyQi5wLZqrqqOXF4MybcVw3GAM+o6nFAEe6h1YDG5cxhPR93R9QDaCsiVzQ3rpbM+h//x2X9j/U/xs36H//G5M2+xxtxWf/jeVxN6X+CItERkWjcX/ibqvq+c3ivMySL8zHbOb4T6F3j6b2cYxcAy1X1oKoexD2PtTkLpxoTU33qi7XJvBRXfe0EMqZJwHQRScc9xH26iLwR4JiygCxVrbriMwf3H36TeSmuM4DtqpqjquXA+7jnaJsmsP7H73FZ/2P9j3FY/+PXmLza93gxLut/PI+r0f1PwBMdERHccwA3qerjNT71EXCVc/8q4MMax68Utwm4h6124x7GOkVEopxv5im45wD6I6b6rAQGi0h/EYkBLnPaaBJvxdVAOwGLSVXvU9VeqtoP9/fpa1Vt0lVCL8a0B8gUkaHOoSnAxqbE5M24cP+uTxCRNk6bU2ji73pLZ/2P/+Oy/sfjmKz/CXPW//g3Jm/2Pd6My/ofH/c/2sQKCt66ASfhHqpaC3zv3KYBnYD5QArwFdDROV+Ap3FX81gHjHOORwLPOV/wRuBxP8bUHXf2WwAccO4nOJ+bhru6xDbg//z8vaozrvraCfT3qkabp9K8qiPe/PkdCyQ7bX0AdAiSuB4ENgPrgdeBVoH+Ww7FWxN+Jtb/WP/jz5+f9T9hfGvCz6RF9j/eiqm+dgIdV602T8X6n6PF1aj+R5wnGWOMMcYYY0zYCPjUNWOMMcYYY4zxNkt0jDHGGGOMMWHHEh1jjDHGGGNM2LFExxhjjDHGGBN2LNExxhhjjDHGhB1LdFowEZkhIioiwwIdizGmZbH+xxgTKNb/tByW6LRslwOLnY/GGONP1v8YYwLF+p8WwhKdFkpE4nBv4PQr3DvxIiKnisgCEZkjIptF5E1n51lEZIqIrBGRdSLysoi0co4/KiIbRWStiDwWsC/IGBMyrP8xxgSK9T8tS1SgAzABcz7wmapuFZE8ERnrHD8OGAHsApYAk0QkGXgVmOKc/xpwo4i8DlwADFNVFZH2/v8yjDEhyPofY0ygWP/TgtiITst1OfCWc/8tfhy+XaGqWarqAr4H+gFDge2qutU5ZxZwMpAPlAAviciFQLGfYjfGhDbrf4wxgWL9TwtiIzotkIh0BE4HRomIApGAAp8CpTVOraSB3xFVrRCR8cAU4KfALU67xhhTJ+t/jDGBYv1Py2MjOi3TT4HXVbWvqvZT1d7AdmByPedvAfqJyCDn8S+Ahc4813aqOhe4Exjt68CNMSHP+h9jTKBY/9PCWKLTMl0O/K/Wsfeop/qIqpYA1wDvisg6wAU8C8QDn4jIWtzVS37js4iNMeHC+h9jTKBY/9PCiKoGOgZjjDHGGGOM8Sob0THGGGOMMcaEHUt0jDHGGGOMMWHHEh1jjDHGGGNM2LFExxhjjDHGGBN2LNExxhhjjDHGhB1LdIwxxhhjjDFhxxIdY4wxxhhjTNixRMcYY4wxxhgTdizRMcYYY4wxxoQdS3SMMcYYY4wxYccSHWOMMcYYY0zYsUTHGGOMMcYYE3Ys0THGGGOMMcaEHUt0jDHGGGOMMWHHEh1jjDHGGGNM2LFExxhjjDHGGBN2LNExxhhjjDHGhB1LdIwxxhhjjDFhxxIdY4wxxhhjTNixRMcYY4wxxhgTdizRMcYYY4wxxoQdS3SMMcYYY4wxYccSHWOMMcYYY0zYsUTHGGOMMcYYE3Ys0THGGGOMMcaEHUt0jDHGGGOMMWHHEh1jjDHGGGNM2LFExxhjjDHGGBN2LNExxhhjjDHGhB1LdIwxxhhjjDFhxxIdY4wxxhhjTNixRMc0m4hEi8j3InJOoGMxxoQPEVERGVTjcZyIrBSRtxvZzjwRucr7ERpjWgIR+bmIfBHoOEzjiaoGOgbjZyKSDnQDKoEiYB5wi6oebGJ7DwAxqnq/14I0xgStWn3IQeAzmtGHNPA6CgxW1VTn8QvAf4HxQJ6qvujN1zPGhBZ/9UUmdNmITst1nqrGAWOAcYDHSYq4RTj3I4EDwAM+idIYE6yq+pBjgeOA+3z9gqp6nap+o6p/syTHGONoVl8kIlE+icoEBUt0WjhV3Yl7RGeUiHwiIjkist+536vqPBFZICKPiMgSoBgYICLXAOuBR4BUEfl1QL4IY0zAqOoe4HPcbzIQkekiskFEDjj9xvCqc0UkXUR+KyJrRSRfRN4Wkdgan79bRHaLyC4R+WXN1xGRdiLymtNHZYjI/TUuuFwtIotF5DGn/9ouIlNrPHeBiFzr3B8oIl+LSJ6I5IrImyLS3rffJWOMrzWhL/qdiKwFikQkSkTuFZFtIlIoIhtF5IIa518tIotrPFYRuUlEUpzz/+z0LUtFpEBE3hGRGOfcDg29vzK+ZYlOCycivYFpQBrwCtAX6AMcAp6qdfovgOuBeCADyAXOBRKAa4AnRGSMfyI3xgQD5x/2VNwXO4YAs4E7gC7AXODjqn/4jkuAs4H+wDHA1U47ZwO/Bc4EBgNn1HqpfwPtgAHAKcCVuPudKicAW4DOwN+Bl0RE6goZ+CvQAxgO9Ab+1Ogv3BgTVJrQF10OnAO0V9UKYBswGXc/8yDwhogkNvCSZwFjgQnAPcDzwBW4+5SRTvvgfq99tPdXxkcs0Wm5PhCRA8BiYCFwj6q+p6rFqlqIe5TmlFrPeVVVN6hqhaqWq+rHqrpN3RYCX+DuJIwx4e8DESkEMoFs4I/ApcCnqvqlqpYDjwGtgYk1njdTVXep6j7gY5yrr7gToFdUdb2qFlEj+XCmyF4G3KeqhaqaDvwT98WXKhmq+oKqVgKzgETcc/cPo6qpTnylqpoDPM6RfZ0xJnQ0py/KVNVDAKr6rtM3uVT1bSAF93rA+vxdVQtUdQPu2S1fqGqaqubjnilznNNungfvr4yPWKLTcs1Q1faq2ldVb8K99OY5Z0pIAfAt0N55g1Els2YDIjLFGQ7e4SwIPAP31VRjTPiboarxwKnAMNx/+z1wj/YCoKou3P1GzxrP21PjfjEQ59zvweF9TEaN+53RB6GDAAAgAElEQVSB6FrHMuprV1WLnbtx1CIi3UTkLRHZ6fR1b2D9ljGhrKl9Ue33NFeKu4LsAedC8Ega7hv21rh/qI7HcU67bTx4f2V8xBIdU+UuYChwgqomACc7x2tO/agu0ecM/36I+6pqX1XtB8yvdb4xJsw5o7mv4r5iugv39AzAffUE9zSOnR40tds5t0qfGvdzgfKabTuf96Td2v6Cuy8b5fR1V2D9ljEhrwl9Uc33NH2BF4BbgE6q2h73KI03+gZP3l8ZH7FEx1SJx30F4oCIdMQ99NuQVriHgYsAnIW/Z/o0QmNMsPoX7r//j4BznNHeaNz/4EuBpR608Q5wtYgkiUgbavRBznS0d4BHRCTeeVPyG9yjMY0Vj7sMbb6I9ATubkIbxpjg1NS+qC3uxCcHwCm2NNJLMTX2/ZXxIkt0TJV/4U5ccoHluGvR18uZZ3ob7sV++4Gf4e5YjDEtjLPW5TXcZeavwF04IBc4D3fp1zIP2piHux/6Gkh1PtZ0K+4LK2m41xb+F3i5CeE+iLusfj7wKfB+E9owxgShpvZFqroR9wyVZbinoI0ClngprEa9vzLeZRuGGmOMMcYYY8KOjegYY4wxxhhjwo4lOsYYY4wxxpiwY4mOMcYYY4wxJuxYomOMMcYYY4wJO1GBDqCmzp07a79+/QIdhjEhY9WqVbmq2iXQcYQ663uMaTzrf7zD+h9jGs/T/ieoEp1+/fqRnJwc6DCMCRkiknH0s8zRWN9jTONZ/+Md1v8Y03ie9j82dc0YY4wxxhgTdizRMSYIZReUcMlzy8guLAl0KMaYWuzv0xhjvM8XfaslOsYEoZnzU1iZvo+Z81MDHYoxphb7+zTGGO/zRd9qiY4xQWZ1xn5mr8xEFeYkZ9pVY2OCyI59Rfb3aYwxXpZdUMI7yVmowrte7Fst0TEmCJRWVPLxD7v4+YvLufCZpVS6FIBKVbtqbEwQufW/a+zv0xhjvGzm/BQqXS4AXF7sWy3RMSaAUrML+fMnG5nwl/ncOnsN27KLiIyQ6s+XV6pdNTYmSGzdU8gPWfnVj+3vs+USkd4i8o2IbBSRDSJyu3O8o4h8KSIpzscOgY7VmGCXXVDCu6uyqHRfQ/Jq32qJjjF+dqiskjmrsvjpM0s54/FvmbU0nRMHdmLWL8czZXhXauQ5gF01NiZY3PbWmiOO2d9ni1UB3KWqScAE4GYRSQLuBear6mBgvvPYGNOAmfNTcKkedsxbfWtQ7aNjTDhbvzOft1bu4MM1uygsrWBA57bcN3UYF43tRee4VgD8bd5myisP/2Mvr1RWZ+wPRMjGGEfW/mI27yk84rj9fbZMqrob2O3cLxSRTUBP4HzgVOe0WcAC4HcBCNGYkLF6xwGfvfexRMcYHyosKefD73fx1sodrN9ZQKuoCKaNSuSy43szvn9HRA4fvpl7++QARWqMacgTX6YQExXBgt+eSo/2rZn65CLaxETy3o0TAx2aCTAR6QccB3wHdHOSIIA9QLd6nnM9cD1Anz59fB+kMUFs7u2TeezzLTyzcBtrHjiThNhor7VtiY4xXpJdUMIts9fw1OXHkbm/mLdWZPLJ2t0cKq9kWPd4Hpw+ghnH9qRdG+/9ARtjfG/LnkLeX5PFdZMH0KN9awDOGdWdx77Yyu78QyS2ax3gCE2giEgc8B5wh6oW1Lx4paoqIlrX81T1eeB5gHHjxtV5jjEtyaLUXEb3aufVJAcs0THGa/7x+RZWbt/HmU8sJP9QBW1jIplxXA8uPb4Po3u1O2L0xhgTGv7x+WbiWkVx06kDq49NHZXIY19s5bP1e7hmUv8ARmcCRUSicSc5b6rq+87hvSKSqKq7RSQRyA5chMaEhvzictZlHeCW0wd7vW1LdIxpBpdLWZ6WxytL0/ly414ACkoq+L9pw7j8hL7EtbI/MWNC2cr0fXy1KZu7zxpK+zYx1ccHdoljWPd45q7bbYlOCyTuK1cvAZtU9fEan/oIuAp41Pn4YQDCMyakLEvLxaUweXBnr7dt78KMaYKqUojvJGeSkVdMdKQQIeBSiIoQMvYdsiTHmBCnqvxt3ma6xrfil3UkM1NHJvKv+VvZW1BCt4TYAERoAmgS8AtgnYh87xz7Pe4E5x0R+RWQAVwSoPiMCRmLUnKJaxXFsb3be71tKy9tjIcqXco3m7O5/rVkTnz0a/7x+Ra6J8Ty4PQRRIjg8kH9d2NM4Hy1KZvkjP3cccYQWsdEHvH5aaO6owqfrd8TgOhMIKnqYlUVVT1GVY91bnNVNU9Vp6jqYFU9Q1X3BTpWY4Ld4tRcJgzoSHSk99MSS3SMOYqs/cU8/uVWTvrb11zz6kpWZezn2pP68/Vdp/D2r08kZW+hz+q/m8OJyFAR+b7GrUBE7qh1jojITBFJFZG1IjImUPGa0FXpUv7x+WYGdG7LJeN61XnO4G7xDO4ax9x1u+v8vD9lF5RwyXPL7AKLMSakZO4rJiOvmEmDvD9tDWzqmjF1Kq90MX/TXmavyOTblBwAJg/uwgPnJjFleDdion68RuDL+u/mcKq6BTgWQEQigZ3A/2qdNhUY7NxOAJ5xPhrjsfdXZ7F170H+8/MxRDVwlXHqqET+/XUKOYWldIlv5ccIDzdzfgor0/cxc34qD88YGbA4jDGmMRal5AK+WZ8DluiYFq66JPTPjqNrfCzbc4t4a+UO3luVRe7BMhLbxXLr6YO5eGwvendsU2cbtvdNwEwBtqlqRq3j5wOvqaoCy0WkfVUVJP+HaEJRSXklT3y5ldG92jF1ZPcGzz1nVCIz56fw2YY9/GJCXz9FeLjsghLeTs5EFeYkZ3LblEF0jbc1Q8aY4Lc4NYfuCbEM7BLnk/aPmuiISDvgT0DVu7mFwEOqmu+TiIzxo6qroHe+/T2VLmV52j4iI4TTh3Xl8vG9OWVIVyIjrCx0kLoMmF3H8Z5AZo3HWc6xwxId27DP1OeN5Rnsyi/hsYtHH7Us/JBucQzo0pZ563YHLNF57Ist1aPKVdNmbVTHGBPsKl3KktQ8zkzq5rMtODxZo/MyUIC7csglzv1XfBKNMX6UXVDCO85V0CWpeWTuO8TdZw1l2b2n88KV4zh9WDdLcoKUiMQA04F3m9qGqj6vquNUdVyXLl28F5wJaQUl5Tz1TSonD+nCRA/mjIsI54xKZHlaHrkHS/0Q4eGyC0p4f/XO6sdWDMUYEyrW78wn/1C5z6atgWeJzkBV/aOqpjm3B4EBPovIGD954qutlDlXQaMihNOGduHm0wbR1crEhoKpwGpV3VvH53YCvWs87uUcM+aonlu4jQPF5dxz1lCPnzN1ZCIuhS821PXr6FtPzk+hwmXFUIwxoWdxqnt9jq8KEYBnic4hETmp6oGITAIO+SwiY/zAPZqTVf24wqXMWZVlV0FDx+XUPW0N3Bv2XelUX5sA5Nv6HOOJ7IISXlq8nemjezCyZzuPnzc8MZ7+ndsGpPpa1ULemqwYijEmFCxKyWF4YgKd43xXyMWTROdG4GkRSReRDOAp4AafRWSMH/z5k41U2lXQkCQibYEzgfdrHLtBRKr6pblAGpAKvADc5PcgTUh6cn4KFZXKXT8Z0qjniQhTR3ZnWVoe+4rKfBRd3fp3bkuX+FZ8/8CZiMBdZw4h/dFzrEiKMSaoFZdVsCpjv0+nrYEHxQhU9XtgtIgkOI8LfBqRMT7mcinzN2UfcdyugoYGVS0COtU69myN+wrc7O+4TGhLyznIWysz+fkJfejbqW2jnz9tVCL/WbCNLzbs4bLx/ilusS3nIAu35nDnGUNo3yaGfp3asnG3/Ys2xgS/77bvo7xSOcmH09aggURHRK5Q1TdE5De1jgOgqo/7NDJjfOStlZkUl1fy94uO4ZLjex/9CcaYsPfPL7bSKiqCW08f3KTnj+iRQJ+ObZi73n+JzuvLMoiOFH52gvv1khITWL/LCqIaY4LfkpRcYqIiGN+/o09fp6Gpa1WXtOLruRkTcrILSvjrvE2cOKATF9ez27kxpmVZm3WAT9ft5trJA5q86aeIMG1UIktTczlQ7Pvpa4Ul5bybnMl5x/Sojnl4YjwZecUUlpT7/PWNMaY5Fqfmcny/DsRGR/r0deod0VHV55yPD/o0AmP86I8fbaC0wsVfLhzls5rtxpjQ8rfPNtOxbQzXTe7frHamjerOswu38cXGvVwyzrejxXNWZVFUVslVE/tVH0vqkQDAlj2FjOvn26ukxhjTVNmFJWzeU8jvzh7m89dqaOrazIaeqKq3eT8cY3zniw17mLd+D3efNZT+nRs/B98YE34WpeSwJDWPB85NIj42ulltjerZjl4dWjNv3W6fJjoulzJraTrH9WnP6N7tq48nJborxW3cXWCJjjEmaC1xykr7uhABNDx1bZVziwXGACnO7Vgg5mgNi8hQEfm+xq1ARO7wRtDGNFZhSTkPfLiBYd3juf5k2wbKGONOGB6dt5leHVrz8wnNX1dTNX1tcWou+Yd8N31s4dYc0vOKubrGaA5At4RWdGgTzcZdVpDAGBO8FqXk0qFNNEmJCT5/rXoTHVWdpaqzgGOAU1X136r6b2AK7mSnQaq6RVWPVdVjgbFAMfA/L8VtTKM89vkW9haW8NcLRxEd6UlVdWNMuPtk3W427Crgrp8MoVWUd+aJTx3ZnfJK5auNvts89NWl6XSNb8XUkYmHHRcRknokWOU1Y0zQUlUWp+QycVBnIiJ8v4TAk3d8HYCaKVecc6wxpgDbVDWjkc8zptlWZeznteUZXHViP47r09hfXWNMOCqrcPHPL7YwrHs854/u6bV2j+3dnh7tYn22eWhVSekrJvQlJurIf+FJiQls2VNIRaXLJ69vjDHNkZJ9kOzCUib7uKx0FU8SnUeBNSLyqojMAlYDf2nk61xGPbuYi8j1IpIsIsk5OTmNbNaYhpVVuLjv/bV0T4jlt2cNDXQ4xpgg8fbKHWTkFfO7s4d59aqiiDB1VCKLUnIp8EH1s9eWphMTGcHl9ZSwTuqRQGmFi+25RV5/bWOMaa5FKe71OSf5YX0OeJDoqOorwAm4p529D5zoTGnziIjEANOBd+tp/3lVHaeq47p06eJps8Z45Plvt7F170H+fP5I4loddX9cY0wLUFRawZPzUxnfvyOnDvX+/51poxIpq3Qxf5N3p68VlJQzZ1UW5x6TWG8Z7OHOnHebvmaMCUaLU3Lo37ktvTq08cvr1ZvoiMgw5+MYoAeQ6dx6OMc8NRVYraq+m7BsTB3Scg4y8+tUzhmVyBlJ3QIdjjEmSLy0eDu5B0u5d+own5SZP653e7onxDJ33R6vtjsn+ciS0rUN7BJHTGSEFSQwxgSdsgoX323fx0l+mrYGDZSXBn4DXA/8s47PKXC6h69xOfVMWzPGV1SV+95fR6uoCP44PSnQ4RhjgkTewVKe/zaNs0Z0Y4yP1uxFRAhTR3Xnze92cLC0wiujyS6X8tqydMbUKildW3RkBEO6x9mIjjEm6KzesZ/iskq/TVuDhquuXe98PK2Om0dJjoi0Bc7EPeXNGL95JzmT77bv4/fThtM1PjbQ4RhjgsTT32yjuKyCu328Zm/aqETKKrw3fa26pPSko29qmpSYwMZdBaiqV17bGGO8YUlqLpERwokDO/ntNY+6RkdEbhaR9jUedxCRmzxpXFWLVLWTquY3J0hjGiO7sIRHPt3E+P4dudTHu5MbY0JH1v5i3liewcVjezOoa7xPX2tsnw50jW/FPC9NX3uluqR096OeOzwxgbyiMnIKS73y2sYY4w2LUnIZ3asdCc3cnLkxPKm6dp2qHqh6oKr7get8F5IxzfPQxxspKXfx1wtH+aVGu/EvEWkvInNEZLOIbBKRE2t9/lQRya+xWfEDgYq1LtkFJVzy3DKyC0sCHUqLkl1QwvlPLwGUO84c7PPXi4gQpo7szjdbsikqrWhWW6nZB/nWKSntyT5gSVaQwBgTZPKLy1mbdYCTBvu38JgniU6k1FitKSKRQIzvQjKm6b7evJdP1u7mltMHMbBLXKDDMb7xJPCZqg4DRgOb6jhnUdWGxar6kH/Da9jM+SmsTN/HzPmpgQ6lRXnw443kHSxjULc4Etu19strThuVSGmFi2+2ZDerndeWNVxSurbhPSzRMcYEl2VpubgUJvtxfQ54luh8BrwtIlNEZAruwgKf+TYsYxrvYGkF9/9vPUO6xXHDKQMDHY7xARFpB5wMvASgqmU1R5yDXXZBCe+sykIV3k3OtFEdP8kuKGHeevcGntuyi/z2fR/XryOd41o1a/PQgpJy3luVxbmj6y8pXVtCbDS9OrS2ymvGmKCxKCWXuFZRHNtAMRVf8CTR+R3wDXCjc5sP3OPLoIxpin9+sYXdBSX89cJj6twx3ISF/kAO8IqIrBGRF52iJ7WdKCI/iMg8ERlRV0OB2Kx45vwUKp0d6ytcaqM6fnL3nLW4nHX5LvXf9z2yavra5hyKy5o2fa2qpPQ1E49ehKCmpMQEG9ExxgSNxam5TBjQ0aPpt97kyYahLlV9RlV/6tyeU9VKfwRnjKe+zzzAq0vTueKEvozt65uSsSYoRAFjgGdU9TigCLi31jmrgb6qOhr4N/BBXQ35e7Pi7IIS3l2VRaXzhrvSpcyxUR2fy8grYuHWHxPZ8kr/ft+njurOofJKFmxpfDLtcimzlrlLSo/q1a5Rz03qkcD23KImJ1jGtHS2ntJ7MvcVk5FXzCQ/7p9TpaENQ99xPq4TkbW1b/4L0ZiGlVe6uPe9tXSLj+Wes31bMtYEXBaQparfOY/n4E58qqlqgaoedO7PBaJFxP+9ay0z56fgqlXut9KPowst1U1vrD7imD+/7yf070SntjFNmr62YGs2GR6WlK4tKTEBVdiyp7DRzzWeEZGXRSRbRNbXOPYnEdlZoxjKtEDGaJrO1lN6z6KUXMD/63Og4RGd252P5wLn1XEzJii8sCiNzXsKeej8EcT7sWSh8T9V3QNkikhVRjsF2FjzHBHpXlVARUTG4+7n8vwaaB1W7zhAeeXhiU55pbI6Y3+AIgp/KXsL2VDH9C1/ft8jI4SzRnbn683ZlJQ3bjLEq0sz6JbgWUnp2oZb5TV/eBU4u47jT9QohjLXzzEZL8guKGH2ykxUsZF3L1icmkP3hNiAFImqd7tmVd3tfMzwXzjGNE56bhFPfpXC2SO685MRjX8zYELSrcCbIhIDpAHXiMgNAKr6LPBT4EYRqQAOAZdpEOycOPf2yTz08Ube/C6Dh2eM5O45a/nk1pMY2bNxU5KMZ1SV+z9YT7vW0Xx91yl0ivNsIb8vTBuZyH+/28GCLTmc7WHSUlVS+q4zhzRpTnuvDq2Jj42yggQ+pKrfiki/QMdhvO93762l0lnYVzUC/PCMkQGOKjRVupQlqXmcmdSNGkWc/caTDUMvFJEUZ1+KAhEpFBHrOU3AqSq//986YiIjePD8OtebmzCkqt87a2uOUdUZqrpfVZ91khxU9SlVHaGqo1V1gqouDXTMVZak5jK+f0cmOvOUV9lojs+8v3on323fx71ThwU0yQGYMKAjHdpEV1d+80R1SekTPCspXZuIkJSYwCYb0QmEW5xp/i+LSJ2LRgNRDMV4ZntuEd9sCdy6vnCzfmc++YfKAzJtDTyruvZ3YLqqtlPVBFWNV9UEXwdmTEOyC0o4/Z8LWbotj99NHUa3hNhAh2RMg7ILStiyt5BJgzrTo10s3RJaWaLjIweKy/jL3E2M6dOeS8f1DnQ4REVGcNaI7szf5Nn0tYKScuasyuK80T3o3IwkLalHApv3FFZfmTZ+8QwwEDgW2A38s66T/F0MxXjuhteTjzhm6ymbbnGqe31OIAoRgGeJzl5VrWtDPmMC5u+fb2Z7bhFd4mL4mYeb6BkTSFWd/UmDOiMijO3bwRIdH/n751vYX1zGwzNGERHh/6kSdZk2KpGDpRXVi3Ib8m5yFsVllVw9sV+zXnN4YgLFZZVk5BU1qx3jOVXdq6qVquoCXgDGBzom47k1O/azZe/BI47besqmW5ySy/DEhGZdtGkOTxKdZBF5W0Qud6axXSgiF/o8MmPqsXN/Me+v3glAfkkFuUWlAY7ImKNbnJpLx7YxJDmLxMf06cDOA4fYW2DTIbxpzY79zF6xg6sn9iepR/BMPjhxYCfat4k+avU1l0t5bVk6Y/t2aHRJ6dqSrCCB34lIYo2HFwDr6zvXBJeyChf3vreOxHaxrH/wLNIfPYf0R8/hwjE9aR0dyRvXnhDoEEPOobJKVmXsD9i0NfAs0UkAioGf8GPFtXN9GZQx9VmamsvUJxdVb/6nNpxsQoCqsjgll4kDO1WPMFTt92RXCb2notLF/R+sp2t8K37zkyGBDucw0ZER/CSpG19t3EtpRf3T16pLSjdzNAdgcLc4oiLE1un4iIjMBpYBQ0UkS0R+Bfy9alsO4DTgzoAGaTz23MJtbNlbyMMzRhLX6sdaXTedOoiSikpeXrw9gNGFpu+251FW6eKkAE1bgwaqrlVR1Wv8EYgxDdl54BCPfLqRuev2HHa8apHgbVMG0TXe1umY4JSafZDswtLDrmqN6NGOmKgIVmXsZ+qoxAaebTz1+vIMNuwq4OmfjTnsjUqwmDoqkXeSs1icksuU4d3qPOeVJel0S2jlcXW2hrSKimRQ1zirvOYjqnp5HYdf8nsgptlSsw/y769TOfeYxCP+Ngd1jWPayERmLU3nupMH0K61bWPhqcUpucRERTC+f8eAxdDQhqH3OB//LSIza9/8F6JpyUrKK5k5P4Up/1zA15uzGd2rHdGRh8+5t0WCJthVrcuouRgzJiqCY3q2Y9UOG9Hxhr0FJfzzi62cPKQL00YFZ6n5SQM7kxAbdcQFmyqp2YUsSsnlFxP6NqmkdF2SEhNs6poxDXC5lN+/v47WMZH88by6K7jedNpACksreH1Zul9jC3WLU3M5vl8HYqMjAxZDQz1pVQGCZGBVHTdjfEZV+WLDHs58YiGPf7mVKcO6Mf+uUymvVNt00YScxam59O/cll4d2hx2fGzfDmzYWdDojSTNkf78yUbKKl08NH1EQPZq8ERMVARnJnXny417KKtwHfH5WUsziImM4DIvFlhJ6pHA3oJS8g7aWkZj6jJ75Q5WpO/j/84ZTpf4uhfMj+jRjinDuvLS4u0UlVb4OcLQlF1YwuY9hZw0KLBVBRvaMPRj5+Ms/4VjDGzLOciDH2/k2605DOkWx3+vPaF635G5t08OcHTGNE55pYvlaXlcNKbXEZ8b07cDz32bxoZd+YztG7ih/VC3KCWHT9bu5s4zhtCvc9tAh9Ogc47pznurs1iyLZfThnatPl5QUs57q5tfUrq2qoIEm3YXctLgwO4nZEyw2ZNfwqNzNzNxYCcuHntkH13TzacP4sL/LOW/3+3gupMH+CnC0LWkRqXRQPJkw9BxIvI/EVntbIC11llkZ4xXHSyt4K9zN3H2v75lTcZ+/nBuEp/eNrk6yTEmFK3ZcYDisso69xAY08ddkMDKTDddSXklf/hgPf06teHXpwT/m49JgzoT3yqKebWqr3mrpHRtw6srr+V7tV1jwsEfP1pPWaWLv1ww6qgjwWP6dGDSoE48vyjNRuE9sCgllw5tohkR4OqXnqzWfBO4G1gHHDnWbkwzqSoffL+Tv87dTHZhKReP7cU9Zw+rdwjZmFCyOCWHCHGXF66tS3wr+nRsY4lOMzy3MI30vGJe/9X4gM4D91SrqEjOTOrGFxv38kili+jICCpdyqyl6YzzQknp2jq0jSGxXawVJDCmls/W7+bzDXu5d+owj0eCbz5tED974TveTc7kFyf2822AIay60uigzgHfy8yT1Y45qvqRqm5X1Yyqm88jMy3C+p35XPzsMu58+wcS28Xyv5sm8o+LR1uSY8LG4tRcjunVvt5KPe6NQw+garvXN1Z6bhFPL3BXSpo8OHR2l586KpEDxeUs25YHwIIt2ezYV8zVk/r55PWSEhPYtLvQJ20bE4ryD5Xzhw83MKJHAtee1N/j5504oBNj+3bg2YVplFfatf/6pFRVGg2CGTmeJDp/FJEXbcNQ01zZBSVc8twysgtL2F9Uxv0frGP6U4vZnlvE3y4axf9umsRxzlQeY8JBQUk5P2TlN7hZ2pi+Hcg9WErW/kN+jCz0qSoPfLSBmMgI/nBuUqDDaZTJgzsT1yqqevPQV5em0z0hlrNG+KZaXFKPBFJzDtp0G2Mcj87bTN7BUh698BiiGlHhUES45bRB7DxwiP+t2enDCEPbYqfS6EkB3Ci0iidT164BhgHR/Dh1TYH3fRWUCU8z56ewMn0ft7y5hq3ZhRSWVHDlif2488whVpfehKXl2/KodGmDizHH1lin07tjm3rPM4ebu24P327N4Y/nJdEtIbT20IqNjmTK8K58vmEP10zqz6KUXH77kyFeKyld2/DEBCpdSsreg16fGmdMqFmelsfsFTu4/uQBTfp7OHVoF0b0SOCZBdu4aEwvIgM8NSsY1VdpNBA86VWPV9VxqnqVql7j3H7p88hMWMkuKOHt5ExUYUX6PgZ0bsunt53En6aPsCTHNIqItBeROSKyWUQ2iciJtT4vzn5fqU7xlDGBinVxai5tYiIbHKkc2j2etjGRYbNOp+bIra8UlpTz0CfuaSe/mNDXZ6/jS1NHJrK/uJwZTy8hOlK43IslpWtLsoIExgDu4iX3vb+OPh3bcOcZQ5rURtWozvbcIj6tVVTEQFmFu9JooKutVfEk0VkqIqE1L8AEleyCEi59bnn1/jeREUJSYgLDuge2EocJWU8Cn6nqMGA0P+75VWUqMNi5XQ8849/wfrQ4JZcT+nckJqr+rjYyQji2T/uwSXSqRm59uYnvE1+mkF1YysMzRjZq2kkwOXVoFyIj4FB5Jb07tKGTF0tK19anYxvaxkTaOh3T4v376xS25xbxyAUjaR3T9OIlZ43ozv7th8wAACAASURBVKCucTz9dSoul62vrGnNjv0Ul1UGxbQ18CzRmQB8LyJbnKuj66y89I/8cfWyKYIhrrIKF88t3MYp//iG7XlF1ccrXcqcVVlB9z0zwU9E2gEnAy8BqGqZqh6oddr5wGvqthxoLyKJfg6VnQcOkZZbVGdZ6drG9unA5j0FIb8R3bqdB5i90j1yO3vFDjbu8v4IwoZd+by6dDuXj+8T0mv6Cg6VU1V/Imv/IZ/2hxERwrDEBKu8Zlq0TbsLeG5hGheN6dXs4iUREcLNpw1ky95Cvtq010sRhofFqblERkidlUYDwZNE52zcV0Z/ApwHnOt8NPjn6mVTBDquhVtzOPvJb/nrvM10bBtDVOThc1grVYPue2ZCQn8gB3hFRNY4hVJq1wXtCWTWeJzlHDuMiFwvIskikpyTk+P1QJc4izE9+Yc6pm8HXAo/ZNbO2UJDanYhd7/7A9P/vYRK5+pmpUs5d+Zi7n1vLWk5B73yOi6X8ocP1tOhTQy/O2uYV9oMlJnzU6rLriq+7w+TEhPYuLvArj6bFqnSpdz73lratY7m/nOGe6XN847pQZ+ObXj6m1SrmlnDopRcRvdqR0JscCxLOGqi45SS7g2c7twv9uR5LUF2QQnvOOtO5iRnBs0IRdb+Yv67Ygeq8K6f48rcV8x1ryVz1csrcLmUV64+nnatY6ioPLwTKK9UVofJVB3jV1HAGOAZVT0OKALubUpDqvq8s/5wXJcu3i9NvDg1ly7xrRjSLe6o5x4XohuHrt6xn+teS+aMx7/lox92ElFrwz0R4b3VWUx5fCE3vrGq2Ync28mZrN5xgN9PG067NsHxT7QpsgtKeHdVVnW/WF6pPv8fktQjgYOlFVbdz7RIry5N54esfB44L4kObWO80mZUZAQ3njqQH7LyWeRc2Grp8ovLWZt1gJOCqNz/UauuicgfgXHAUOAV3NXX3gAm+Ta04Ddzfkr1upNyl/uK3MMzRgY4KvjdnLVUXbQrrXBxwdNL+NP0kZw2tIvP5rMfKqvkmYXbeHbhNqIihHvOHsqvTupPq6hIThvW1SevaVqkLCBLVb9zHs/hyERnJ+6LM1V6Ocf8xuVSlqTmcvKQLkfdbRugXetoBneNY9WO4E90VJUFW3J4ZuE2VmzfR7vW0dw2ZTC7DhTz4fe7qKxRwTgiAs4/tgfdEmJ5bVkG89bvYeLATtxwykAmD+7s0femSt7BUh6dt5kT+nfkwjFHDNCFlJnzU3DVugJcNcrtq/8hPxYkKKBPp8BXQjLGXzL3FfPPL7Zw2tAuTB/dw6ttXzimJzPnp/DUN6mcPCR43twHyrK0XFxKg1sq+Jsn73ovAKbjvnKKqu4C4j1p/GjVkUKZezQni6p/VZUu31+R8zSupc4mdFV2HijhuteSmfS3r3ns8y1k7iv22uupKvPW7eaMxxcyc34KZ43ozvy7TuGmUwfRKir4dyk3oUVV9wCZIjLUOTQF2FjrtI+AK53qaxOAfFX1a2mcTXsKyCsqa1TVmbF9O7Bmx4GgnVpUUenigzU7mfrkIq55dSWZ+4r5w7lJLL33dH5z5hA27iqsvvBTpbxS2birkLvPGsbSe0/n99OGsS3nIFe+vIJz/72Yj3/YRYWHm+79dd5mikoreHjGyEYlSMFo9Y4DdX6vfDnKPbR7PBHiTnSMaSlUlf/7YD0AD18wyut9R6uoSK4/eQArtu/ju7S8oz8hzC1KyaVtTCTH9m4f6FCqebKPTpmqqogoQB3z4RtSVR3ppyISA4TNZaSZ81OocB3+D7oiCEZ1/vjRBmq/TYqOFCYO7ERkRAT/WZDKU9+kctKgzlw2vjdnJnVrckKSsreQP328gSWpeQzrHs9b109gwoDgWHxmwtqtwJtOn5IGXCMiNwCo6rPAXGAakIp7qu01/g5wSap7GoMnhQiqjOnbgbdWZpKWe5BBXT26luQXh8oqeSc5kxcWpZG1/xCDusbx2MWjmT66x2HV5ObePrnBduJjo7n+5IFcNbEfH6zZyXPfpnHr7DX06diG608ewE/H9iI2uu6+aMX2fcxZlcUNpwxkcLfg+d401dG+V74QGx3JgC5xVpDAtCgffr+rer+tnu1b++Q1Lju+D09/435vdYKP3wNlF5Rwy+w1PPWz4+gaH3z7hy1OzWXCgE4+2xOsKTxJdN4RkedwVy66Dvgl8MLRnlSjOtLV4K6OBJQ1PdTgsjJjP7UvvFa4Ar/upPZoDrivFOYUljH39snszj/EOyuzeCc5k1v+u4aObWO4aExPLj2+D4O6Hn0tAbh3e3/yqxRmLU2nTUwkD04fwc9P6BOyZV5NaFHV73FPp63p2RqfV+BmvwZVy6KUXAZ3jaN7O8//EY3t++M6nWBIdA4Ul/HasgxeXZrOvqIyxvRpzx/PG8GUYV2rF9E3RauoSC49vg8Xj+3NFxv38szCbdz/wXr+9dVWrpnUnysm9D1sb63yShf3f7COnu1bc9uUQd740lqspMSEkFsHZkxT7Ssq46FPNnJs7/b8P3v3HV91efd//PXJZmSxwwhhKHsIiICIA62zitU6WlfvttRWW3vb/rp73613e992t1ZrtdUKakFFcYODOpiyN8hMSAIhCRASAlnnXL8/ckIjZpwkZ+Xk/Xw8zuOs77m+n5DkIp/vdV2f646pWUE7T6eEWL48fTC/WryTTbkljAviaEb9QlORsFSivtyjJ8k5cpK7pmWFO5RPaDTRMbNE51ylc+63ZnYZUErtOp3/cs6940fb9asjjQPWAfc558rrH2Rms6nd64LMzOBtmBZot547gJ+9tp1X7z2fsf3T+N6CTby26RDzZk8JW0xHTlRyqtrD7VMG8j+N/AJkpHbivkvP4t5LhrJsTzHzVx/gH8uz+dvS/Zyblc4t52Zy1ZiM0/Xl61896NElkZc25PPgop0cKa/klnMH8N3PDAvq/g8i7U1FtYfV+4/yhfNa1p8N7tGFtM7xrMs5xs3nhr4vrPtd/+nVI1i44SDz1xzgZJWHS4b34u4Lh3BuVnpAp33ExBhXjO7D5aN6s2rfUR79YC+/eetjHn1/L188L5P/mD4IA254dAW5x07xtzsm0TnBn2tz0piRfVN4ddNBjp+sbtfFHET88YvXt1N6qppf3TCW2DZcnPHHbVMy+esHe3n4vT387Y4zr8MFRt6xk6fL9z+35gDfumQovVIiZ1Rn6elKo5GzPgeaHtFZCUwws6edc7cD/iQ3Z7Y9Afimc+4jM/sTtYuGf1r/IOfc48DjAJMmTYrMyeln8Hodc1fmMH5AGmP712bud0zN4vm1ebywNpevXDA4LHHNX5NLVY2XO6Y2v1N4bIxx4dk9ufDsnhSfqOTFdXnMX5PLd17YxM9e28as8f24ZfIA5n10gDXZR/nZK9s4VFrBhgMljB+QxpN3TTr9tYvIv63POUZljbfFu0KbGRMy08N2xf1/3tjO6v1Hufbh5cTEGNeO68vXLhwc9I19zWr3W5g6pDvbDh7nsQ/28bel+/jH8mz6p3ci99gp+qV14rKRvYMaR0cwol5BgkjZ40IkGD7YVcRLG/L55iVDGdYn+CPkyUnxfOn8LP747m52FpQGvN/MPXqSWY/8u3x/tcfx+b+u5JV7zyetc2CqyLXV8j3F9ElJYkhP/2YHhUpTc40SzOwLwDQz+9yZNz/abqg60oS2BhwJlu0pZl9x+SeG50b3S2XSwHSeXpUTlsXENR4vz67K4fyh3Vs8h71H10S+duEQ/vWdC5k/ewqXjujNc2tzufqhZTz7UW2Z6je3FpBTXM5vbhzLS1+fpiRHpBFL9xQTF2Otmqs9cWA6e4vKKTkZ2lm+OUfKeW1Tbb2GmBjjxbun8oebxwc9yTnTqL6pPHTrObz/3Yv57LgM9hXXTgAoPlEZ9kIv0aB+5TWRaFRYWsGNj67gBy9uZnDPLtxzceimu941LYsuCbE88t7egLa7eOshrvjThxwp/+T/CzlHT3Lp7z9gWQSUtvZ4Hcv3FjO9hdU0Q6GpROdu4AIgjdoNQuvfrmmuYT+rI7VLc1Zk06NrAleO6fOJ1++YlkXOkZN8sCvwmw82590dhzl4vKJN81DNjCmDu/OHm8ez5keXMmlg+unCBjEGl43szecnDWjT/HyRaLd8TzHnZKbRNbHl06wm+PbT2XAgtBuH/mjhltOPYwwWrA9pNe5PyezemU7xscT7Nhr2aoPhgOiZnEjP5EQVJJCo9dCS3azNOcah4xU8+LmxjRY4CYa0zgncPjWLNzYfDMgmyRXVHv77la3c/cx6kuL+3R/WiYsxqmq83PbER/zP69upqPY00lLwbTt4nJKT1RE3bQ2aSHScc8ucc18Hvuec+9IZt//ws/266kibgfHA/wYg5rA6cOQk//q4kFsnZ36qWtkVo/rQKzmROSuzQx7XnBU59EvrxMwA7VlTWeNhS/7x08+9rrZ6ia6qijTuWHkVW/KPM31o6/ZTGDcgldgYC+n0tcLSClbWK2ISis0r/YnphXV5/96nLAJiihYjMlLYoRGdDquwtIKbHlsZlb9Lddt+AMSakdUj9IV+vzx9EPGxMTz6fttGdbKLy7nh0RXMWZnDV6YPoldK4qdK0td4HX3TOnH7lIE8sWw/sx5Zzs6C8PxuL9paABCSaYIt1WyZLOfcE61t3Dm30bfz+Fjn3CznXLsv9/L0qmxizPjieZ9eB5MQF8MXzsvk/Y+L2F9c3sCng2PX4TJW7jvCbVMGBqzyWVMb2olIw1bsPYJzML2VV7U6J8QxIiM5pInOr9/a+akKkuH+XVf/EzwjM1LYXVhGVY1/+xdJdPlTvapd0aZ2E/fan+uYGMLyNfZMTuTWyZks3JBP3rHW7Vn46qaDXPPnZeQdO8Xf75jET64ZyaL7ZpD94NWfui3+9gz+Z9Zo/nHXuRSfqOTaPy/n70v3hXwJxUvrahPMZ1YdCOl5/aF6wC1wqsrDc2tyuWJUn0bLxn7hvEziY42nV+aELK45K7JJiIvh5nMHNH+wn8KxoZ1Ie7dsTzHJiXGM65/a6jYmZqazKa/E740026qh+d3h/l1X/xM8I/umUO1x7Cls+9QaaV8KSyuYv7p23e0LUTZCWjcKXNdrhHMU+GsXDsYMHvtgX4s+V1Ht4YcvbeZb8zYwrE8yb953AZf6WYTl4uG9WPztGcw4uye/eGMHtz/5EYeOn2pN+H6rrPHw+uaD3PzYSg6XVQJE5Mi7anW2wCsb8ymtqOHOJmqE90pO4srRGbywNpfvfOZsurRinn5LHD9VzUvr87luXF+6dQlc5Y1wbGgn0t4t21PElCHd2zSyOmFgOnNW5rCzoIzR/VqfMPkrI60TaZ0TWPztGUE/l7/U/wRP/YIEI/uGttiEhNePF26h7vpBjccbkXuxtFZDm7jXjQKH+mvMSO3EjRP789zaXL7pZwnoPYVl3PPsBj4+XMY3LhrCf152dos33ezRNZG/3TGR+WtyeeC17Vzxx6X87/VjuHpsRmu/lAbtPlzG/DW5vLQ+j2Mnq+mSEEuM1S5xCNe/eVOa/Ve0WreZ2X/5nmea2eTghxZZnHM8tSKb4X2SOTcrvclj75w2kLLKGhZuCP6C3gXr8jhV7Wky+RKR4Dtw5CS5R0+1eTFm3cah6w8Ef/Qi50g5Gw6UMOucfkE/l0SGQT26kBQfo3U6HcyBo+W8u6Pw9HOPi8yr7621/kAJZw6Ch3MU+O4Lh1Dj8fK3pc2P6ixYl8dn/7yc4hOVzPmPyXzviuEtTnLqmBm3Ts7kjW9NJ6t7Z+7553ruf34jZRXVrWqvzsmqGp5fm8sNj67gsj98yNyV2Uwd0p0/3TKeGq87Pf05EtdT+vMv+RdgKnCr73kZ8EjQIopQa7KPsbOgjLumZTVbOm9CZjqj+6Uwd2U2zgVvnqTX63h6ZTYTB6aH5MqviDRu6Z7aaovnt3D/nDP1S+tE75TEkKzTeXnDQczg2nF9g34uiQyxMcawPimqvNbBfOOZ9Zz510iNN3rWvf35C+cA8MMrh39iDUu4RocHdu/CdeP78cyqAxwtb3i7gPLKGu5/fiPffWET4wek8eZ9F3Dh2a0rZHOmwT27suDr0/jWJUN5eUM+V/5pKWuyj7aoDeccm3JL+OFLW5j8yyV8b8Fmjp2s4sdXjWDlD2fyly9OZM3+oxG/ntKfROc859w9QAWAr6BAZOxOFEJzVmSTkhTHdeObv/JpZtwxNYtdh0+wct+RZo9vrQ92F5F95KRfG4SKSHAt211M39QkBvfo0qZ2QrVxqHOOVzbmc96gbvRN6xTUc0lkGZmRwvZDpUG9ECeRY8ehUrY2kNjWeKNn3duCdXnExhjXR9Do9DcuGsKpag//WL7/U+/tOFTKZx9exsIN+Xz70rN45ivn0duPKW4tER8bw/2fGcYLd0/FDG5+bCW/fevj0wUbGlNysoqnlu/nyj8t5bpHlrNwQx6Xj+rDC3dPZcn9F/LVGYPp0TURaB/rKf1ZQFJtZrFQezHAzHoCHapcS8HxChZvK+A/zs+iU4J/NdmvHdeX/3tzB3NX5DBtSHDqis9dkU3P5ESuHB3Y+Zci0jIer2PF3iN8ZmTvgGyWNnFgOou2FlBYWuHX/O7W2Jx3nH3F5cyeMTgo7UvkGtk3hXmrD3DoeIWS3DYwsyep3Vew0Dk32vdaN+A5IAvIBm4KZ8VZj9fxgxc3071LAu/efyHpvrW8Dy7ayeMf7uXvd04KV2gB4/E6Xlqfx4Vn9wxaf9kaZ/VO5srRfXhqRTZfnTGYlKR4nHP8c/UBfv7adtI6xfPsV84L2t+IdSYO7Mai+2bw81e38fB7e/hwdxF/uHk8yYlx3DtvAw9/4Rx6dk1k1b6jzF9zgEVbC6iq8TKmXyq/mDWaa8f3JSUpvsG228N6Sn8SnYeAhUAvM/slcCPwk6BGFWGe/SgHr3PcPiXL788kxcdy87mZPP7hXvJLTtEvwP+ZZBeX8/6uIr51yVkkxKl4nkg4bc0/zvFT1a0uK32mCfXW6VwRpAsZL2/MJyE2hivH6EJJRzMyo3avi+0HS5XotM1TwMPA3Hqv/QBY4px70Mx+4Hv+/TDEBsBTK7LZlHech24953SSA/DF8zJ57MO9/POjA3z38mFNtBD5lu0p5nBpJf/92f7hDuVT7rl4KIu2FvDo+3tZvf8o6Z3jeXdHIRec1YM/3Dz+9MhIsHVNjOM3nx/HxcN78aOFW7jmoWWM6Z/KmuyjzJ67lpKT1WQfOUlyUhy3nDuAmyYNiJolEf7so/Ms8D3g/4BDwCzn3AvBDixSVNZ4mLf6AJcM60Vm95ZtPnXblEwAnl0V+FLTT6/KIdaML5yXGfC2RSKZmWWb2RYz22hmaxt4/yIzO+57f2NdIZVgWrantkRzW9fn1BnVN4WEuJigTV+r8Xh5bdNBLhnei9RODV+pk+g1rE8KZrWV16T1nHMfAmcufLgOmON7PAeYFdKg6sk9epLfvvUxFw/ryWfPqLw1oFtnZg7vxbzVB6is8YQpwsBYsC6PtM7xzBwRmA3TA2l0v1QuHtaTJ5buY13OMd7dUcj3rhjGnC9NDlmSU99VYzJYfN8MxvZPZfX+ozgHG3OPk9Y5gd/fNI7VP7qUB64bHTVJDjSR6JhZt7obUAjMA/4JHPa91iEs2lJA8YmqVlU165/emUtH9Gb+mlwqqgPXkdRVv7hyTEbA53SKtBMXO+fGO+cam3ex1Pf+eOfcA8EOZtnuYkZkpATsP67EuFjG9EsNWqKzfO8Rik9UqdpaB9U1MY6s7l1UkCA4ejvnDvkeFwANboRiZrPNbK2ZrS0qKgp4EM45fvzyVszgF9ePaXBK7R1TszhSXsWiLQUBP3+oHD9ZzVvbCrhuXF8S4/xbWhBqXzwvkyrfOpaE2BhunNifmJi2T3FurT6pSQzt1ZW6wm5xscbofql8bkJ/v5dntCdNjeisA9b67ouAXcBu3+N1wQ8tMjy1IpvBPbowvZVXau+alsXR8ipe33yo+YP9tHBDPmUVNdypIgQiYXeqysO6nGNtLit9pokD09maXxqUq60vb8gnJSmOi4cHpsKPtD8jMpLZUaBEJ5hcbbWHBis+OOced85Ncs5N6tkz8L+Hr2w8yIe7ivje5cManTo/fWgPBvXowtyV2QE/f6i8tvkgVTVebpwYuA3TA+39j4uI8yU2jvBXJCssrWDBurzT5bhrIrAkdCA1mug45wY55wYD7wKfdc71cM51p3bh3duhCjCcNuWWsDG3hDumDmx19j11SHeG9urKnBWBKTXtnGPuihxG9U05vd+GSAfjgLfNbJ2ZzW7kmKlmtsnMFpnZqIYOCNQV1dXZR6nyeAM2ba3OhMx0qjxetuYH9o/Rk1U1vLWtgKvHZkTsFVAJvpEZKeQcOdnm/TXkUw6bWQaA776wmeMD7mh5FQ+8vp3xA9K4fWpWo8fFxBi3TRnI+gMlbM0/HroAA2jBujyG9U5mdL/I3Py2sLSCF9blUePbaCYS9pl5aMnuiC8JHUj+rGKf4px7s+6Jc24RMC14IUWOOSuz6ZIQyw0TW7/Azcy4c+pAtuQfZ0NuSZtjWrXvKB8fLuPOqc3v5yMSpaY75yYAVwL3mNmMM95fDwx0zo0D/gy83FAjgbqiumx3EQmxMUzOCuyM3gkD0wACXqbzne2HOVnl8atUvkSvkX1r/zDcWVAW5kiizqvAnb7HdwKvhDqAX7y+ndJT1fzqhrHENnOR9saJ/ekUH9suR3X2FJaxMbeEGyf2j9i/hyIxqWgPJaEDyZ+qawfN7CfAM77nXwQOBi+kyHDkRCWvbzrEzecOILmRsnr++tyE/vx68cfMXZHNhMy2jcLMXZlNWud4rh2vDf6kY3LO5fvuC81sITAZ+LDe+6X1Hr9pZn8xsx7OueJgxLN0dzGTstIDPre5V3ISmd06sy7nGF8NYLsvb8inb2pSwBMzaV9GZtQuNt5+sJRz9bPQKmY2D7gI6GFmecB/Aw8Cz5vZl4Ec4KZQxvTBriJe2pDPty4ZyrA+yc0en9opnlnn9OOl9Xn86KoRpHVuP9skvuDbOyeS1xpGYlLRHkpCB5I/ic6t1P7yLqR2ysiHvtei2vw1uVR5vNw5re3rYLokxnHDxP48+1EOP7p6BL2SW1dA4GDJKd7efpivXDCIpHhNOZGOx8y6ADHOuTLf488AD5xxTB/gsHPOmdlkakeug7Jzb1FZJTsLyvh/QSrPOiEzjeV7j+CcC8gVy+ITlXy4u5ivXjA4rIthJfx6pySS3jmeHaq81mrOucb+FpoZ0kB8TlbV8OOFWxjcswvfuHio35+7Y+pA5q0+wPNrc5k9Y0gQIwycGo+XhevzuXhYT3omh756mb86WlIRifwpL33UOXefc+4c59wE59y3nXNnllOMKjUeL8+syuH8od0Z2qv5KyL+uGPqQKo9jvmrc1vdxrMf5eCc47bzVIRAOqzewDIz2wSsBt5wzi02s7vN7G7fMTcCW33HPATc4oK0BfyKvbWDRIEuRFBn4sB0isoqyTt2KiDtvbH5EB6vi6jdwyU8zIyRfVNUYjqK/P7tXeQdO8WDnxvboouhIzJSODcrnWdWHcDrDUpXGXBL9xRTWFbJjW1YWiAdg3aabMC7Ow5z6HgFdzaxiK+lBvfsyoyze/LsRzlU15W6aIGKag/zVucyc0RvBnRr2X4+ItHCObfPOTfOdxvlnPul7/W/Ouf+6nv8sO+9cc65Kc65FcGKZ9nuYlI7xTOqb3D2HKi/cWggLNyQz/A+yX5NaZHoNzIjhZ0FZdS04v8kiSybckt4cvl+vnheJpMHtXwq4h1Tszhw9CQf7Ap8qetgWLAuj/TO8VwyvMHq3SKnKdFpwFMrsumX1omZIwL7C3TXtIEcLq3krW0tr1n/xuZDHC2v4q5W7OcjIoHnnGPZnmLOH9q92QW/rTWsdzJdEmIDsp9OdnE5G3NLNJojp43sm0JVjZd9xeXhDkXaoNrj5fsvbqZnciLfv3J4q9q4fFQfeiYnMmdldkBjC4aSk1W8s+0w143vR0Kc/oyVpukn5AwfF5Sxat9RbpsyMOB/vFx4di8yu3VmzorsFn927spshvTswrQh3QMak4i0zt6icg4dr2D60ODtRRMXG8P4zLSAJDovb8zHDBUykdNGZNRWXtM6nfbtb0v3sbOgjAeuG01KK4snJcTFcOvkTD7YVUTOkchOfF/bdJAqj1fT1sQvzSY6ZpZkZvf4Khc9WXcLRXDhMGdlNolxMdxybuA3n4qNMe6YOpA12cfYdtD/mvUbc0vYlHecO6eppLRIpFi+p3Z9Tms3E/bXhMx0dhaUUV5Z0+o2nHO8svEgUwZ1JyO14c0DpeMZ0rMrCbExbD+oRKe92l9czh/f3c2Vo/tw+ag+bWrri+dlEmvGM6tyAhRdcCxYl8fwPsmM6huZe+dIZPFnROdpoA9wOfAB0B+IysL7x09Vs3B9PteO60t6l+CUWPz8xAEkxccwd4X/HcmcFdl0TYzjcxN09UIkUizdXUxmt85kdg/umrkJA9PxeB2b8lq/D9emvOPsLy5n1jkazZF/i4+N4ew+XVWQoJ1yzvHDlzaTGBfDz69tcF/kFumdksTlo/rw3JpcTlV5AhBh4O06XMamvON8ftIAXfgVv/iT6Ax1zv0UKHfOzQGuBs4Lbljh8cLaXE5Ve7gziOtgUjvHc/05/Xh5Yz4lJ6uaPb6orJI3Nh/ixon96ZroTzVwEQm2Go+XVfuOcH6QR3MAJgzwFSRow/S1lzfkkxAXwxWjMwIVlkSJEX1S2H6wlCAVJpQgen5tLqv2HeVHV42gV0rrtq040+1TB1JaUcOrm/ID0l6gLViXR1yMcZ2m4Iqf/El0qn33JWY2GkgFegUvpPDweh1Pr8ph4sB0RvcLTgWlOndMzaKyxsvza5svNT1/9QGqPF5un6qS0iKRYlNe3/AJmQAAIABJREFUCScqa4JWVrq+1M7xnNWra6vX6dR4vLy++SAzh/citVPbNj+W6DOybwpHyqsoKqsMdyjSAoWlFfzyjR1MHtSNmycFbqr9eYO6Max3MnNW5ERc8lvj8fLS+nwuHt6LHl0jd+8ciSz+JDqPm1k68BPgVWA78OugRhUGH+wuIufIyaCO5tQZkZHC5EHdmLsyB08TNeurPV6e/egAF5zVgyE9uwY9LhHxz9LdxZgRsuIgEzLT2ZBb0qo9LpbtKab4RFVE7x4u4TPSV5Bgm6avtSs/e20bFTVe/u9zYwK6+a+ZcfvUgWw/VBqwsvaB8uHuIopPVPJ5FSGQFvBnw9C/O+eOOec+dM4Nds71qtuvIprMWZFNz+RErmjjYj5/3TUti7xjp3hvZ2Gjx7y97TAFpRUqKS0SYZbvKWZMv1TSOgdnLd+ZJg5Mp+RkdavKAL+8IZ+UpDguGha86nDSfo3wLehWQYL24+1tBby5pYD7Zp4VlIug15/Tj+TEOOaujKyiBC+szaN7lwQuHh51k4okiPypuva0maXWez7QzJYEN6zQyi4u5/2Pi/jC5MyQ1WS/bGRv+qQkNVmzfs7KbAZ068RFw/RLLRIpTlTWsOFASdCrrdV3euPQFk5fK6+s4a1th7l6bF8S4/zfKV06jpSkePqnd1KJ6XaitKKan76yleF9kpk9Y3BQztElMY4bJvbnzS2HImZK47HyKt7dUbt3TnysdkYR//nz07IM+MjMrjKzrwLvAH8MblihNXdlDnExxhfPywzZOeNjY7htSiZLdxezp/DEp97fcaiU1fuPcseUrKBtRigiLbdq7xFqvC6kic7gHl1I6xzf4nU672w/zKlqD7O0cFeaMDIjRZXX2olfL95JYVklD94wNqh/8N8+dSDVHsf81QeCdo6WeHXTQao9js9P0rQ1aRl/pq49BnwFeAV4AJjhnHst2IGFSnllDS+sy+XKMRkBq1rir1smZ5IQG8PTK7M/9d7cldkkxcfol1okwizbU0xSfAwTs9JDds6YGGNCZnqL58y/vDGffmmdODerW5Aik2gwsm8K+4vLOVnV+r2aJPjWZh/lmVUH+NK0QYwfkBbUcw3p2ZXpQ3vwz9UHqPF4g3oufyxYl8eovimnN7kV8Zc/U9duB54E7gCeAt40s3H+NG5m2Wa2xcw2mtnaNkUaJAs35FNWUcNd00Jf1axH10SuHpvBgnV5lFVUn379+MlqFm7IZ9b4fiFbAyAi/lm2p5jJg7qHfCrYhMw0dhee4PjJ6uYPBopPVLJ0dzHXju8b0MXKEn1GZqTgHOwsiMot8qJC7rFybnviI/qkJPGdz5wdknPeMXUgh45X8O6OwyE5X2N2FpSyJf84N6oIgbSCP+OeNwDTnXPznHM/BO4G5rTgHBc758Y75ya1KsIgcs4xd2U2o/qmMCEzdFdn67tzWhblVR5eWv/vmvXPr82lotrLHVOzwhKTSCRr7gKK1XrIzPaY2WYzmxCocxccr2BP4QmmDw1NtbX6Tq/TyfVvVOf1TQfxeB3Xq9qaNKPuKrnW6USubzyznopqLyMzkukSoj31Zo7oTb+0TsxpwQbnwbBgbR7xscZ149WXScv5M3VtlnOusN7z1cDkoEYVIqv2HWXX4RPcOS0rbDvsjh+Qxrj+qcxZmY1zDo9vP5/JWd0Y2VdDtCKNaOoCypXAWb7bbODRQJ102Z5iAKYPDX0Fs3H904iNMb8LEizceJARGSmc3Ts5yJFJe9c/vRPJSXGqvBahVu4tZkt+7fdmxd4jFJZVhOS8sTHGF87LZOW+I+w+HJ7RvmqPl5c35jNzeG+6ddEMF2k5f6auJZnZPWb2FzN70syeBPwtL+2At81snZnNbqT92Wa21szWFhUVtSD0tpuzIpu0zvFcOy68C3XvnJbFvqJylu85wge7CjlwNDT7+YhEqeuAua7WKiDNzDIC0fCy3UV075LA8D6hTx66JMYxIiPZr4IE+4vL2ZRbwvXnqAiBNM/MVJAggj2/Npe62ace53hoyZ6QnfuWcwfUriVeFZ5Rnfc/LqL4RJWmrUmr+TN17WmgD3A58AHQH/A3tZ/unJtA7RXWe8xsxpkHOOced85Ncs5N6tkzdFdJN+WVsHhbAZ8dl0FSfHjLrl49NoPuXRJ47IO9/Odzm+jZNZHPjOod1phEIlhzF1D6Abn1nuf5XvuEll5kcc6xbM8Rzh/aI2xrXiZkprMpt6TZxcEvb8jHDK4dp6ke4p8RGSnsPFTW5CbWEnqFpRW8uaWAum9LtcexYG1uyEZ1undN5JqxGbx4xlriUFmwLpceXRO4UPuASSs1muiYWd0k0KHOuZ8C5c65OcDVwHn+NO6cy/fdFwILiaApbz96cQsAZafCX2UmMS6WWydnsnRPMcdPVdM3LUl14kUa1+wFFH+09CLLx4fLKD5RyfSzQldW+kwTB6ZTXuXh4yamkTjneGVjPlMHd6dPamgrSUr7NbJvCqeqPeQcafmmtBI8Dy3Zjdd9MvkM9ajO7VMHUl7lYeGG/OYPDqAjJypZsqOQ68/R3jnSek395Kz23del8CVmNhpIBZrdwdLMuphZct1j4DPA1jbEGjA7D5WyzTdEv3hrQciujDTl8tH/HsHZWVAWETGJRCI/LqDkAwPqPe/ve61NFm05BMCIMExbq1NXNKWpdTobc0vIPnKSWVq4Ky0w0leQQNPXIsv6AyVUez6Z6FR7XIs3D26L8QPSGNs/lbkrc3AudCN+r246SI3XcYOmrUkb+FO643EzSwd+ArwKdAV+6sfnegMLfYv844B/OucWtzbQQNmUW8Ktf1t1+nndlZFfzBodxqjgudW1c3C9DrwREpNIpPFdNIlxzpXVu4DywBmHvQrca2bzqR19Pu6cO9TWcz+/Ng+A59bmMaZ/cPewaEz/9E70Sk5kXc4xbm+kKuMrGw+SEBfDFWP6hDY4adfO6t2VuBhj+8FSrhmrtV2R4s37Lgh3CJgZt08ZyP9bsJmV+44wbUhoRrVfWJvHmH6pDO+jwkzSek2N6PQys/uBFOBLwCTgEeBXQJfmGnbO7XPOjfPdRjnnfhmQiNtg/uoD3PjoCk5WeU6/Fur5rg0pLK3ghXV5YZuDK9KO9AaWmdkmaked33DOLTazu83sbt8xbwL7gD3A34BvtPWkucfKOXS89vcxnL+bZsbEgemsP1DS4PvVHi+vbTrIpSN6kZIUH+LopD1LjItlaK+uGtGRBn12XF/SOsczN0SlprcdPM72Q6UqQiBt1lSiE0vt6E1yvVvXerd2o7LGww9f2swPXtpCj64JxMd+ciFxqOe7nikS5uCKtAeNXUBxzv3VOfdX32PnnLvHOTfEOTfGOdfmzYofXrKX2DBVPTrThMx0Dhw92WCytWxPMUfKqzRtTVplZEaK9tKRBiXFx3LzuQN4Z8dhDh0/FfTzvbgun4TYmLBXxZX2r6lE55Bz7gHn3M8buJ05VSRiHSw5xU1/Xcm81bncc/EQ0rokhn2+65kiYQ6uiDSssLSClzfm44mQEdfTG4fmfHpU5+UN+aR2iueiYc0uoxT5lJF9UzhcWknxicpwhyIR6LbzBuJ1jn9+dCCo56mqqd0759KRvUjX3jnSRk2t0QlP/dQAWrGnmG/O20BljZfHbp/I5aP68P8uHx7usD4lEubgikjDmhpxDcc6utH9UkiIjWH9gWNcMfrf63DKK2t4e9thrp/Qj4Q4VSiSlqsrSLDjUCkXnKVyvvJJA7p15pJhvZi3+gD3XjKUxLjgbM3x3seFHC3X3jkSGE39bzgzZFEEmHOOxz/cy21PfER6lwReufd8Lh+lhbki0nKRNuKaGBfLmP6pn9o49J3thzlV7dG0NWm1EXWV1w5q+po07I5pWRSfqGLx1oKgnWPBujx6JicyQ8m2BECjIzrOuaOhDCRQTlTW8P0Fm3ljyyGuGtOHX984jq6J/hSXExH5tEgccZ2QmcaclTlU1nhOX1VduCGffmmdmOSb2ibSUuldEshITdI6HWnUBUN7kNW9M3NX5nBdEC6qFJ+o5L2dhXx5+iDitHeOBEBU/RTtLTrB9Y8sZ9HWQ/zoquE88oUJSnJEJOpMHJhOVY2Xbb4r70VllSzbU8x14/sSE9PuZx1LGI3MSGFzXgk3PbZSlT/bwMyyzWyLmW00szYXRIkUMTHGbVMGsi7nGFvzjwe8/Zc35GvvHAmoqEl03tpWwHUPL+dIeRXPfPk8Zs8Ygm8PHxGRqHLmxqGvbz6Ix+u4/hxNW5O2GZGRwr7ik6zJPqrKn213sXNuvHNuUrgDCaTPTxxAp/hYHv9gX0ATYuccC9blMa5/Kmf3Dt/GzBJd2n2i4/E6fvPWTr729DqG9OzCa9+czrShodnMSkQkHHqlJDGgW6fT63Re3niQkRkpnKU/DqSN+qV3AsC58O4ZJZErtXM8s87pyxtbDgY0Id52sJSdBWXcOGlAQNoTgXae6Bwrr+Kuf6zmkff2cuvkATz3tan0S+sU7rBERIJuYmY66w8cY1/RCTbllmg0RwJi5d7i04/DvWdUO+eAt81snZnNPvNNM5ttZmvNbG1RUVEYwmubq8f0xeNqE+Ln1hxgZ0Hb13UtWJdXu3fOWO2dI4HTbhewbM0/zt3PrKOwtJIHPzeGWyZnhjskEZGQmTAwnZc3HuQv7+/FrHbncpG2KCyt4K1th08/r9sz6lszh9IrOSmMkbVL051z+WbWC3jHzHY65z6se9M59zjwOMCkSZNcY41EqsVbD2HUZnPVHscVf1xKRmoSo/qmMrpfCqP7pjK6Xyq9UxL9WkZQVePllY35XDaqN6md44Mev3Qc7SrRKSyt4N55G7hidB9+tWgn3bsk8PzdUxk/IC3coYmIhFTdOp0F6/I4NyudPqn6Q1TaJtL2jGrPnHP5vvtCM1sITAY+bPpT7UNhaQUvrMuj/k9KXIwxrn8qe4rKWbLzMHU/Rj26Jnwq+emf3ulTyc/C9XkcO1nNZSN6h+4LkQ6hXSU6f3h3F6v3H2X1/qNMG9KdP996Dt27JoY7LBGRkBveJ5nYGPB4IS6mXc9ClggRaXtGtVdm1gWIcc6V+R5/BnggzGEFTEMJsRn0SE7ir7dPoryyhp0FpWzNL2Vr/nG2HizlsQ/2UeOt/UxKUhyj+9UmPaP6pjC6Xyp/+tduANZkH2WWpuFKALWbRCf/2Enmr8kFIDbG+N3nxynJEZEO62h5Fb6/G1h/4BiFZRWaXiRtEol7RrVTvYGFvlGLOOCfzrnF4Q0pcJpLiLskxjFxYDcmDux2+v2Kag+7DpfVJj8Hj7Mt/zhPrcimqsb7iXZeXJfHfZeepb5MAqbdJDqPvr+XGMADxBg88v5eDaWLSIf10JLdxJpR4xxeTS8SiRjOuX3AuHDHESytSYiT4mMZ2z+Nsf3/vdSg2uNlT+EJHnhtGx/tP4rXaaqkBF67mO9QNx+07gJC3QJJlb0U6ZjMLNbMNpjZ6w28d5eZFfk26ttoZl8JR4zBVNcn1k0FUZ8oIu1NfGwM3bsksP5AyenRafVlEmjtItFpaoGkiHRI9wE7mnj/Od9GfeOdc38PVVChoj5RRKKB+jIJtnaR6GiBpIjUMbP+wNVA1CUw/lKfKCLRQH2ZBFu7WKOjBZIiUs8fge8ByU0cc4OZzQB2Af/pnMs98wDfJn6zATIz29c+XOoTRSQaqC+TYGsXIzoiIgBmdg1Q6Jxb18RhrwFZzrmxwDvAnIYOcs497pyb5Jyb1LNnzyBEKyIiIuFkzkXOhrxmVgTkNHNYD6A4BOG0RCTGBJEZl2Lynz9xDXTOdZi/0s3s/4DbgRogCUgBXnLO3dbI8bHAUedcajPt+tP3QGT+rCgm/0ViXJEYE6j/CRn1PwEXiTFBZMbVnmPyq/+JqETHH2a21jk3Kdxx1BeJMUFkxqWY/BepcUUKM7sI+K5z7pozXs9wzh3yPb4e+L5zbkqAzhlx3xPF5L9IjCsSY4LIjasji8TviWLyXyTG1RFiahdrdEREmmJmDwBrnXOvAt8ys2upHfU5CtwVzthEREQkPJToiEi75Jx7H3jf9/i/6r3+Q+CH4YlKREREIkV7LEbweLgDaEAkxgSRGZdi8l+kxtWRReL3RDH5LxLjisSYIHLj6sgi8XuimPwXiXFFfUztbo2OiIiIiIhIc9rjiI6IiIiIiEiTlOiIiIiIiEjUCXuiY2YDzOw9M9tuZtvM7D7f693M7B0z2+27T/e9bmb2kJntMbPNZjahXlu/9rWxw3eMhSim4Wa20swqzey7Z7R1hZl97Iv3B639dwpkXI21E86Y6rUXa2YbzOz1SIjJzNLMbIGZ7fT9XE2NkLj+09fGVjObZ2ZJrY2rI1P/E/q41P+o/5Fa6n9CG1Mg+55AxlWvPfU/weh/nHNhvQEZwATf42RgFzAS+DXwA9/rPwB+5Xt8FbAIMGAK8JHv9WnAciDWd1sJXBSimHoB5wK/pHZfj7p2YoG9wGAgAdgEjAzhv1VjcTXYTjhjqtfe/cA/gdfD/e/ke28O8BXf4wQgLdxxAf2A/UAn3/PngbtC8fsabbdWfE/U/7Q9LvU/6n90a933pEP2PwGMKWB9TyDjqtee+p8g9D9hH9Fxzh1yzq33PS4DdlD7hVxH7T8yvvtZvsfXAXNdrVVAmpllAI7andITgEQgHjgcipicc4XOuTVA9RlNTQb2OOf2OeeqgPm+NlolUHE10U7YYgIws/7A1cDfWxNLoGMys1RgBvCE77gq51xJuOPyiQM6mVkc0Bk42Nq4OjL1P6GPS/2PfzGp/4l+6n9CG1Mg+55AxgXqf/yNy6dF/U/YE536zCwLOAf4COjtfLubAwVAb9/jfkBuvY/lAf2ccyuB94BDvttbzrkdIYqpMQ3G2taYAhBXY+2EO6Y/At8DvG2NJUAxDQKKgH/4hpP/bmZdwh2Xcy4f+C1wgNqf9ePOubcDEVdHpv4nZHE11k64Y1L/o/4nbNT/hCSmxtppM/U/oYmrNf1PxCQ6ZtYVeBH4tnOutP57zjlH7RWLpj4/FBgB9Kf2l+kSM7sgnDEFS6DiaqqdUMdkZtcAhc65dW2JI5AxUXvVYALwqHPuHKCc2qHVsMblm8N6HbUdUV+gi5nd1ta4OjL1P6GPS/2P+h+ppf4ntDEFsu8JRFzqf/yPqzX9T0QkOmYWT+0X/qxz7iXfy4d9Q7L47gt9r+cDA+p9vL/vteuBVc65E865E9TOY23LwqmWxNSYxmJttQDF1Vg74YzpfOBaM8umdoj7EjN7Jswx5QF5zrm6Kz4LqP3Fb7UAxXUpsN85V+ScqwZeonaOtrSC+p+Qx6X+R/2P+Kj/CWlMAe17AhiX+h//42px/xP2RMfMjNo5gDucc7+v99arwJ2+x3cCr9R7/Q6rNYXaYatD1A5jXWhmcb5/zAupnQMYipgaswY4y8wGmVkCcIuvjVYJVFxNtBO2mJxzP3TO9XfOZVH77/Qv51yrrhIGMKYCINfMhvlemglsb01MgYyL2p/1KWbW2dfmTFr5s97Rqf8JfVzqf/yOSf1PlFP/E9qYAtn3BDIu9T9B7n9cKysoBOoGTKd2qGozsNF3uwroDiwBdgPvAt18xxvwCLXVPLYAk3yvxwKP+b7g7cDvQxhTH2qz31KgxPc4xffeVdRWl9gL/DjE/1YNxtVYO+H+t6rX5kW0repIIL9/44G1vrZeBtIjJK6fAzuBrcDTQGK4f5fb460V3xP1P+p/Qvn9U/8TxbdWfE86ZP8TqJgaayfccZ3R5kWo/2kurhb1P+b7kIiIiIiISNQI+9Q1ERERERGRQFOiIyIiIiIiUUeJjoiIiIiIRB0lOiIiIiIiEnWU6IiIiIiISNRRotOBmdksM3NmNjzcsYhIx6L+R0REgk2JTsd2K7DMdy8iEkrqf0REJKiU6HRQZtaV2g2cvkztTryY2UVm9r6ZLTCznWb2rG/nWcxsppltMLMtZvakmSX6Xn/QzLab2WYz+23YviARaTfU/4iISCjEhTsACZvrgMXOuV1mdsTMJvpePwcYBRwElgPnm9la4Clgpu/4ucDXzexp4HpguHPOmVla6L8MEWmH1P+IiEjQaUSn47oVmO97PJ9/Tx9Z7ZzLc855gY1AFjAM2O+c2+U7Zg4wAzgOVABPmNnngJMhil1E2jf1PyIiEnQa0emAzKwbcAkwxswcEAs44A2gst6hHpr4GXHO1ZjZZGAmcCNwr69dEZEGqf8REZFQ0YhOx3Qj8LRzbqBzLss5NwDYD1zQyPEfA1lmNtT3/HbgA988+1Tn3JvAfwLjgh24iLR76n9ERCQklOh0TLcCC8947UUaqX7knKsAvgS8YGZbAC/wVyAZeN3MNlNbPen+oEUsItFC/Y+IiISEOefCHYOIiIiIiEhAaURHRERERESijhIdERERERGJOkp0REREREQk6ijRERERERGRqKNER0REREREoo4SHRERERERiTpKdEREREREJOoo0RERERERkaijREdERERERKKOEh0REREREYk6SnRERERERCTqKNEREREREZGoo0RHRERERESijhIdERERERGJOkp0REREREQk6ijRERERERGRqKNER0REREREoo4SHRERERERiTpKdEREREREJOoo0RERERERkaijREdERERERKKOEh0REREREYk6SnRERERERCTqKNEREREREZGoo0RHRERERESijhIdERERERGJOkp0REREREQk6ijRERERERGRqKNER0REREREoo4SHRERERERiTpKdEREREREJOoo0ZGAM7NtZnZRuOMQERERkY7LnHPhjkFayMxO1HvaGagEPL7nX3POPRvCWJ4C8pxzPwnVOUVEREREmhMX7gCk5ZxzXesem1k28BXn3Lvhi0hEREREJLJo6loUMbNEM/ujmR303f5oZon13r/OzDaaWamZ7TWzK3yvf8nMdphZmZntM7Ov1fvMRWaWZ2bfMbNCMztkZl/yvTcb+CLwPTM7YWav+V7PNrNLfY9/ZmbPm9lcX/vbzGxSvfa/b2b5vvc+NrOZofnXEhEREZFopkQnuvwYmAKMB8YBk4GfAJjZZGAu8P+ANGAGkO37XCFwDZACfAn4g5lNqNduHyAV6Ad8GXjEzNKdc48DzwK/ds51dc59tpG4rgXm+877KvCwL6ZhwL3Auc65ZODyejGJiIiIiLSaEp3o8kXgAedcoXOuCPg5cLvvvS8DTzrn3nHOeZ1z+c65nQDOuTecc3tdrQ+At4EL6rVb7Wu32jn3JnACGNaCuJY55950znmAp6lNwqB2XVEiMNLM4p1z2c65va382kVERERETlOiE136Ajn1nuf4XgMYADSYRJjZlWa2ysyOmlkJcBXQo94hR5xzNfWenwS64r+CMz6bZGZxzrk9wLeBnwGFZjbfzPo21ICIiIiISEso0YkuB4GB9Z5n+l4DyAWGnPkB3xqeF4HfAr2dc2nAm4D5ec42le1zzv3TOTed2rgd8Ku2tCciIiIiAkp0os084Cdm1tPMegD/BTzje+8J4EtmNtPMYsysn5kNBxKonT5WBNSY2ZXAZ1pwzsPA4NYEa2bDzOwSX7JVAZwCvK1pS0RERESkPiU60eUXwFpgM7AFWO97DefcanyFBoDjwAfAQOdcGfAt4HngGPAFagsG+OsJatfYlJjZyy2MNxF4ECimdnpbL+CHLWxDRERERORTtGGoiIiIiIhEHY3oiIiIiIhI1FGiIyIiIiIiUUeJjoiIiIiIRB0lOiIiIiIiEnXiwh1AfT169HBZWVnhDkOk3Vi3bl2xc65nuOMQERERiTQRlehkZWWxdu3acIch0m6YWU64YxARERGJRJq6JiIiIiIiUSdoiY5v1/uN9W6lZvbtYJ1PPqmwtIKbHltJYVlFuEMREREREQm5oCU6zrmPnXPjnXPjgYnASWBhsM4nn/TQkt2syT7KQ0v2hDsUEREREZGQC9XUtZnAXuec1hOEwEf7ipm/JhfnYMHaXI3qiIiIiEiHE6piBLcA8xp6w8xmA7MBMjMzQxROdHHOse1gKYu3FrB4WwF7Ck+cfs/jHA8t2cMvZo0OY4QiIiIiIqFlzrngnsAsATgIjHLOHW7q2EmTJjlVXfOP1+vYkFvC4q2HWLytgNyjp4gxOGdAOpvySqjx/vv7mhQXw4ffv5heyUlhjFiCwczWOecmhTsOERERkUgTihGdK4H1zSU50rwaj5fV2Ud5a2sBb207TEFpBfGxxvlDe3DPRUO5bGRv/vDOLjbnl3zicxrVEREREZGOJhSJzq00Mm1NPqmwtIJ7523g4S+cc3r0parGy/K9xby1tYC3tx/maHkVSfExXHh2T74/ehiXDO9Naqf4022sP1BCteeTo3TVHsf6nGMh/VpERERERMIpqImOmXUBLgO+FszzRIu6Sml/eHsXFw7rxVvbCnh3x2HKKmromhjHJcN7ceXoPlw4rCedExr+1r153wWnH5dWVDPj1+8xfkAaT31pcqi+DBERERGRsAtqouOcKwe6B/Mc0aKwtILn1+bhHMxbk8u8NbmkdY7nilF9uHJMH6YN6UFSfGyL2kxJiudrM4bwq8U7WZt9lElZ3YIUvYiIiIhIZAlVeWlpxkNLdlPl8QIQY3DpiF6s+fGl/Obz47hkeO8WJzl17pw2kB5dE/nd27sCGa6IiIiISERTohMB6kZz6ngdLNtdzLGTVW1uu3NCHPdcPISV+46wYk9xm9sTEREREWkPlOhEgIeW7KbG6/3Ea3WV0gLh1smZZKQm8du3PybY5cRFRERERCKBEp0IsP5ACd4z8o9AVkpLio/lm5ecxfoDJbz3cWFA2hQRERERiWShKC8tzfjdTeO48k9L+eX1o/nieQODco7PT+rPXz/Yy+/e3sVFZ/ciJsaCch4RERERkUigEZ0IsGhrATEGnxnZJ2jniI+Kx9xxAAAgAElEQVSN4b6ZZ7HtYClvbSsI2nlERERERCKBEp0IsGjLIc7N6kbP5MSgnmfWOf0Y0rMLv39nF54z58qJiIiIiESRZhMdM0s1sz+Y2Vrf7XdmlhqK4DqCPYVl7C48wVVjMoJ+rtgY4/7LhrG78ASvbToY9POJiIiIiISLPyM6TwKlwE2+Wynwj2AG1ZEs2lI7jezyUcGbtlbflaP7MCIjhT++u4tqj7f5D4iIiIiItEP+JDpDnHP/7Zzb57v9HBgc7MA6ikVbC5iQmUaf1KSQnC8mxvjOZWeTfeQkL63Pa/4DIiIiIiLtkD+Jzikzm173xMzOB04FL6SOI+dIOdsPlYZk2lp9M0f0YtyANB5asofKGk9Izy0iIiIiEgr+JDpfBx4xs2wzywEeBu4Oblgdw6KtoZ22VsfM+O5nzia/5BTzV+eG9NwiIiIiIqHQbKLjnNvonBsHjAXGOOfOcc5tCn5o0W/R1gLG9k9lQLfOIT/39KE9mDyoGw+/t4dTVRrVEREREZHo0miiY2a3+e7vN7P7ga8AX6n3XNogv+QUm3JLuGJ0aEdz6tSO6gyjqKySp1dlhyUGEREREZFgaWpEp4vvPrmRm7TBYt+0tStHh3Z9Tn2TB3Vjxtk9efT9vZyorAlbHCIiIiIigdZoouOce8x3//OGbqELMTot2nKI4X2SGdSjS/MHB9F3LjubYyer+cey/WGNo6UKSyu46bGVFJZVhDsUEREREYlAcY29YWYPNfVB59y3Ah9Ox3C4tIJ1B47xn5eeHe5QGDcgjctG9ubxpfu4Y2oWqZ3jwx2SXx5asps12Ud5aMkefjFrdLjDEREREZEI09TUtXW+WxIwAdjtu40HEoIfWvR6a1sBztVu3hkJ7r/sbMoqavjb0n3hDsUvhaUVPL82D+dgwdpcjeqIiIiIyKc0NXVtjnNuDrXV1i5yzv3ZOfdnYCa1yY600qItBQzt1ZWzekfGUqcRGSlcMzaDJ5fv58iJynCH06xfvLGdKo8XgBqv46Ele8IckYiIiIhEGn/20UkHUuo97+p7TVrhyIlKPtp/JGJGc+p8+9Kzqaj28NcP9oY7lCYVllbwxuaC089rvI7n1hzQqI6IiIiIfII/ic6DwAYze8rM5gDrgf8NbljR6+3th/E6wlZWujFDe3XlcxP6M3dlDodLIzdp+M1bH+Nx7hOvVXscdz25Go/XNfIpEREREelo/Nkw9B/AecBC4CVgqm9KW7PMLM3MFpjZTjPbYWZT2xZu+/fmlkMM7N6ZkRkpzR8cYvfNPAuP1/HwvyJ3KtgHu4oafH37oTLu+sdqSk5WhTgiEREREYlETVVdG+6c22lmE3wv5fru+5pZX+fcej/a/xOw2Dl3o5klAJ3bGG+7dvxkNSv3HuHLFwzCzMIdzqcM6NaZm88dwPw1B5g9YzADukXWt6va4yU2xpg6uDvzZk/5xHvzVx/gp69s5bpHlvP47ZMY1icy1j+JiIiISHg0NaJzv+/+dw3cfttcw2aWCswAngBwzlU550raFG07986Ow9R4HVeFcZPQ5tx7yVDMjD//a3e4Q/mURVsLOHS8gi9PH/Sp926ZnMn82VM4WeXh+r8sP70hq4iIiIh0TE1VXZvtu7+4gdslfrQ9CCgC/mFmG8zs72b2qd0xzWy2ma01s7VFRQ1PS4oWi7Ycol9aJ8b2Tw13KI3KSO3EbecN5MX1+ewrOhHucE5zzvHE0n0M6tGFS4b3avCYiQO78dq90zmrdzJ3P7OO37+zC287XbejDVFFRERE2qbZNTpmdo+ZpdV7nm5m3/Cj7Thq99951Dl3DlAO/ODMg5xzjzvnJjnnJvXs2bMFobcvZRXVLN1dzBWj+0TktLX6vn7REBJiY/jTksgZ1VmXc4xNecf5j/OziIlp/N+vT2oSz82ewo0T+/PQkt3MfnotZRXVIYw0MOpviCoiIiIiLedP1bWv1p9y5pw7BnzVj8/lAXnOuY98zxdQm/h0SP/aWUiVxxtxZaUb0jM5kbvOz+LVTQf5uKAs3OEA8MSy/aR2iueGif2bPTYpPpbf3DiWn312JO99XMSsR5ZH1OhUcwpLK3huba42RBURERFpA38SnVirNwRhZrFAQnMfcs4VALlmNsz30kxge6uijAKLthTQKzmRCZntYwuir80YTNeEOP7vzR1hn0KVe/Qkb20r4NbJmXROaLR+xieYGXedP4invzyZo+VVXPfIct7bWRjkSAPjf9/cQbWndsqdx2lDVBEREZHW8CfRWQw8Z2YzzWwmMM/3mj++CTxrZpuB8XTQ/XdOVtXw/q5Crhjdp8lpV5EkrXMCX7lgMO/vKmLN/vBOoXpqRTYxZtw5bWCLPzttSA9evXc6A9I78x9z1vCX9/fgXOSu2yksreDVTQdPP6/2OI3qiIiIiLSCP4nO94H3gK/7bkuA7/nTuHNuo2/9zVjn3CzftLcO5/2Pi6io9nJlBFdba8hnx9XG6wjfFKqyimqeW5PL1WMzyEjt1Ko2BnTrzItfn8bVYzL49eKPuXfeBk5W1QQ40sD46StbObN+gkZ1RERERFrOnw1Dvc65R51zN/pujznnPKEILlq8ueUQ3bskMHlQt3CH0iJPLttPrG8AqsYbnj+2n1uTy4nKmgZLSrdEp4RY/nzrOXz/iuG8ueUQn/vLCnKPnoyo6mbOOT5sYEPUao9jfU6HvEYgIiIi0mpNbRj6vHPuJjPbQu1F/U9wzo0NamRRoqLaw3s7C7l2fD9i28m0NaidQvXCujx8S0Wo8TpeWJvLt2YOpVdyUkhiqPF4eWpFNudmpTO2f1rzH2iGmfH1i4YwIiOZb83bwLUPL2NiZvrp6ma/mDU6AFG33uubD3Gq2suvbxjLTecOCGssIiIiIu1dUyM69/nurwE+28BN/PDhriLKqzztotpafQ8t2Y33jLUs1R5vSEd13t5+mLxjp9o8mnOmi4b14pV7p5PWKZ53dxZGRHWzimoPDy7ayYiMFL8qy4mIiIhI05raMPSQ7z6noVvoQmzfFm8tILVTPFOHdA93KC2y/kDJ6cpfdbwOVu4tDlkMTyzbz4BunbhsZOCTxEE9ujB5UHfqxtiqvaFN4s70j+XZ5Jec4idXj2hXI38iIiIikarZWr1m9jngV0AvwHw355xLCXJs7V5VjZd3dhzm8lF9iI/1p+5D5Hjzvgs+8byorJKZv3ufnsmJOOeCvunpxtwS1uUc47+uGRmUP/wLSyt4eWP+6TmZHi8hn5pXp6iskkfe28OlI3px/tAeIT23iIiISLTy56/vXwPXOudSnXMpzrlkJTn+Wb63mLKKmnY3ba0hPZMT/397dx4fZXnvffzzS0LYVwmLbAFBWUVsQARcClaRUtdW5dhqEWuf85w+9ehTPaWtrfWUam1PbfHoaa1ocalWUSoq4oKojRsERBKILBL2QKJhCUsgJL/zxwwaMctkMnu+79frfs3MPfdc93fymj/uX67rvi5+fOEQ3ttYxrMrtkf9fHNyi2jfMiNq96rUNjTvyNFqZr+2Pirnq889r62jorKKmVOGxPzcIiIiIqkqlEJnl7sXRj1JClqUv5N2LTOYMCg1/kt/1eg+nN63E7MWFrLn4JGonWf7nkMszC/mqjF9aNcytAVCG6u2oXkOvFa4Kyrnq8vaneU8uXQL3x7bj5Oy2sX03CIiIiKpLJSryDwz+zvwD+DwsZ3u/mzUUqWAo1XVvLJmJ5OGdKNlRnq840REWpox69IRTL03l7te+oi7Lo/OxHuPvLMJd+facdlRaR++PDTP3Zn+12W8t/FTPi7dH7OiY9bCQtq1zODGSYNicj4RERGR5iKUHp0OwEHgfD6fcW1qNEOlgveLyth9sDLpFgltyJCeHbh+Qn+eXLaVZZvKIt7+gcNH+dvSLVw4vCe9O7eJePt1MTPuvvxUWrVI5+a/r+RoVXXUz/nG2hLeWlfKDycNonPbzKifT0RERKQ5CWXB0Om1bNfFIlwyW5hfTOsW6Zxzcla8o0TcjecNolen1vx0fj6VES4I5i3fRnnFUa6L8JTSoejWoRW/umQ4H27by/1vfBzVcx2tqmbWi4Vkn9CGa87Mjuq5RERERJqjOgsdM7s1+Hivmc0+fotdxORTVe28vHoXEwd3o3Vmagxbq6lNZga/vGgY63bt58F/FkWs3apq56G3ixjVtxNf6dc5Yu02xtRTT+SikScye/F68rftjdp5nly2lfUl+/nxhUPIzEiuGflEREREkkF9V1jHJiDIA5bXskkd8jaV8cn+w0xOgdnW6nLe0O6cP7Q7f1y8jq1lByPS5uLCXWz+9GDEFwhtrDsuHsYJ7TK56amVVFRWRbz9fRWV3PPqOs7o34ULhnWPePsiIiIiUv+Coc8HH+fWtsUuYvJ5qWAnLTPS+OrgbvGOElW3XzSMdDN+/lwBftxUzeGYk1tEr06tmTwsvgVipzaZ/PabI9lQsp/fvrw24u3ft2QDZQePcNvUoVFfj0hERESkuWpwzIyZ5ZjZfDNbYWarjm2xCJeMqqudRQU7OfvkrKhNjZwoTuzUmpu+djJL1payqGBnk9oq2L6X94vKuHZcPzISYHHVs0/O4jtj+zEnt4h3Pv4kYu1uLTvIw7mbuGxUb4b36hixdkVERETki0K5onwceBi4nM9nXftGNEMls5Xb9rBzXwVTRqTusLWavjsum6E9O3D786vZf/ho2O3MyS2ibWY6V47uG8F0TTNzymCyT2jDLU+voryiMiJt3rXoI9LS4JYLTolIeyIiIiJSu1AKnVJ3X+DuRe6++dgW9WRJ6qX8YlqkGxMHN497LzLS05h16XBKyg/zX6+EN8xr174Knv9wB9/K6UPH1i0inDB8bTIz+P2Vp1G89xB3PL+mye0t31zGi6uK+f7ZJ9GjY6sIJBQRERGRuoRS6PzCzB40s2lmdtmxLerJkpC781LBTsYP7JpQF+zRNqpvZ64+oy9z39lEwfbGz1T2yLubqHJn+vjsiGdrqtP7dub/njuQp5dv45XV4Q/Pq6527nihkO4dWvL9cwZEMKGIiIiI1CaUQmc6cBowGS0YWq/VO/axbfchpqTYIqGhuOWCwXRp25KfzM+nqjr0iQkOHani8fe3cP7Q7vQ7oW0UE4bvh5MGMbRnB2Y+m88n+w+H1cbzq3bw4dY93HLBYNpkpva9WyIiIiKJIJRCZ7S757j7tVowtH4L84tJTzO+NrR5DFurqWPrFtw2dQirtu3lsfdCH9n4zIpt7DlYyYwJidvLkZmRxj1XnkZ5xVFmPpvf6BnmKiqr+M1LHzG8VwcuG9UrSilFREREpKZQCp13zGxo1JMkuWPD1s4ccAKd22bGO05cXDTyRM4a1JXfvryWXfsqGjy+OrhA6IheHRmdHZ8FQkN1So/2/OiCk3l1zS6eWbG9UZ+dk1vEjr0V/HTKUNLSNJ20iIiISCyEUuiMBVaa2drg1NL5ml76y9buKqfokwMpvUhoQ8yM/7x4OEeqqrnjhYZv3n9zXSkbSw8wY0L/pFhPZsaEAYzJ7sLtC1azbXdoi6SWlFdw/5INnD+0O2eedEKUE4qIiIjIMaEUOpOBQcD5fH5/jqaXPs5L+TsxgwvivNhlvGV3bcsPvjqQF1cV88baknqPfTB3Iz06tGLKiOS4pyk9zfivK0bi7vzo6Q+pDuFepHteXcfho9XMnDIkBglFRERE5JgGC53gVNJ9gInB5wdD+RyAmW0K9gCtNLO8pkVNbC8VFDM6uwtZ7VvGO0rcff+cAQzIasttzxVQUVlV6zGFxft4e8OnXDOuH5kZ8V8gNFR9urTh598Yynsby3j4nU31HltYvI+/L9vKNWdm079rYk60ICIiIpKqGrzCNLNfAP8BzAzuagE81ohzfNXdT3P3nDDyJYUNJftZt2s/U5rxsLWaWmak86tLhrO17BD3vr6+1mMeyi2idYt0/mVM4iwQGqorcvowaXA3frPoI9bvKq/1GHdn1ouFdGjdghsnDYpxQhEREREJ5V/plwIXAQcA3H0H0D6aoZLNooJiACY3w2ml6zLupK5cdnovHnhr45eKgdLywzy3cgeXf6UXndok38QNZsadl4+gbWY6Nz/1IZVV1V86ZsnaEnI3fMKNkwbRsU3zWVNJREREJFGEUugc8cB8ug5gZo0Zg+PAK2a23MxuqO0AM7vBzPLMLK+0tLQRTSeGkn0V3P/Gx4zo1UGr3R/nJ1OG0CYzg5/+o+ALUzI/+t5mjlRVc934/nFM1zTd2rfi15eOIH/7Xu59fcMX3qusqmbWi4UM6NqWb4/tF6eEIiIiIs1bKIXOU2b2Z6CTmX0PeA34S4jtT3D304ELgX8zs7OPP8DdHwiu05OTlZUVcvBEMWthIQePVJGZnjz3mcRK13YtmXnhYJYWlfH08m1AYE2Zx9/bzKTB3RiQ1S7OCZvmwhE9uWxUL+5bsoGVW/d8tv+JpVv4uPQAM6cMoYV+FyIiIiJxUedVmJm1BHD33wHzgGeAU4Cfu/u9oTTu7tuDjyXAfGBMUwMnkvc3fsqClTsAKNixj5LyhteOaW6uyOlDTr/O3LmwkLIDR3hu5XY+PXCEGROStzenpl9cNIxu7Vty81MrOXSkir2HKrnn1XWcOeAEzhvSLd7xRERERJqt+v7d/C6AmT3q7q+6+y3u/iN3fzWUhs2srZm1P/acwPTUBU1OnAAqq6r579fXM+2B9zg2IKvandmLN9T7ueYoLc2YdekIyiuOcttzBdy+YDUDs9qmzJoyHVu34LffHMnG0gP8YkEBF/zhLXYfrORnU4ckxdpAIiIiIqkqo573Ms3sX4BxZnbZ8W+6+7MNtN0dmB+82MsA/ubui8JOmiBWbdvDrfNW8dHOctIMjlU6lVXOvLyt/HDSQLq11706NZ3Soz3XnzWAP735MQDdOrRKqSJgwqCufHdcNn8NTjd9UlZbhp3YMb6hRERERJq5+np0/g9wFtCJwAKhNbepDTXs7hvdfWRwG+busyIROF4OHanizoWFXHLf2+w+eIRzTu5KetoXL9ar1KtTp2lj+nz2fPnm3Sk3zG/6+GyO/Rq27T6Uct9PREREJNnUWei4e667/ytwq7tPP267LoYZ4+6djz9h8h/f4s9vbeTK0X145aZzKC0/QmWVf+G4yipnxebdcUqZ2P7y1kZapAdKgVQc5veXtzaSkcLfT0RERCTZWM1pf+MtJyfH8/Ly4h3jM3sPVXLnwkKeXLaV7BPa8OvLRjDupK7xjpV0SvZVcNbdSzh89PP1ZlplpPHWf3w1JYb5xfP7mdnyVF6MV0RERCRcmvu2Di+v3snXfv8mT+Vt5fvnDGDRv5+tIidMsxevp/q4gjqVhvml+vcTERERSUb1TUbQLJWUV3D7gtUszN/JkJ4dmHPtaEb01o3lTbFiy56UHuaX6t9PREREJBk1OHTNAtNjXQ0McPc7zKwv0MPdl0Y6TDyHrrk785Zv41cvFnKosoobJw3ihrMHaMFHSWgauiYiIiJSu1B6dO4HqoGJwB1AOYHFQ0dHMVdMbS07yE/m5/PP9Z8wOrszd11+KidltYt3LBERERERCVMohc4Z7n66mX0A4O67zSwzyrmirmRfBT/42wrGD8ziT29+TJrBf14ynKvH9CUtLXXWeBERERERaY5CKXQqzSyd4NKYZpZFoIcnqd3xwhqWbtrN0k27mTi4G7+6ZDgndmod71giIiIiIhIBodyAMhuYD3Qzs1lALvDrqKaKsuWbynhhVTEALdKNuy4boSJHRERERCSFNFjouPvjwK3AnUAxcIm7Px3tYNE0c37+F17Pfl3TAIuIiIiIpJI6Cx0z63JsA0qAJ4C/AbuC+5LS+l3lrNu1/7PXlVXOvLytlJRXxDGViIiIiIhEUn09OsuBvOBjKbAOWB98vjz60aLjlnmrvrRPizuKiIiIiKSWOgsdd+/v7gOA14BvuHtXdz8BmAq8EquAkVRZVU3B9r217NfijiIiIiIiqSSUWdfGuvv3jr1w95fM7O4oZoqahfnFHK12HvpuDhMHd493HBERERERiZJQCp0dZvYz4LHg66uBHdGLFB3uzpzcIgZkteXck7vFO46IiIiIiERRKNNLTwOyCEwx/Wzw+bRohoqGvM27WbVtL9PH99eCoCIiIiIiKa7BHh13LwNujEGWqJrzzyI6tm7B5af3incUERERERGJslB6dJLelk8P8sqanVx9Rl/aZIYyWk9ERERERJJZsyh0Hn6niDQzrjkzO95RREREREQkBlK+0NlXUclTy7Yy9dSe9OjYKt5xREREREQkBhocx2VmrYAZwDDgs0rB3a+LYq6IeWrZVg4cqWLGhAHxjiIiIiIiIjESSo/Oo0AP4ALgTaA3UB7qCcws3cw+MLMXwosYvqNV1Tz89ibG9O/CiN4dY316ERERERGJk1AKnYHufhtwwN3nAl8HzmjEOW4ECsMJ11Qvr97F9j2HmDGhfzxOLyIiIiIicRJKoVMZfNxjZsOBjkBIK26aWW8ChdGD4cVrmjm5G+nbpQ3nDekej9OLiIiIiEichFLoPGBmnYGfAQuANcDdIbb/B+BWoLquA8zsBjPLM7O80tLSEJtt2Iotu1mxZQ/Xjc8mXQuEioiIiIg0K6EsGHqsN+YtIOQ7+s1sKlDi7svN7Nx62n8AeAAgJyfHQ22/IXNyi2jfKoNv5fSJVJMiIiIiIpIkGuzRMbNHzaxjjdf9zGxxCG2PBy4ys03Ak8BEM3ss7KSNsH3PIRYV7GTamL60bakFQkVEREREmptQhq7lAu+b2RQz+x7wKoEhafVy95nu3tvds4GrgNfd/dtNShuiue9sAuDacdmxOJ2IiIiIiCSYUIau/dnMVgNLgE+AUe6+M+rJwrT/8FGeWLqFC4f3oFen1vGOIyIiIiIicRDK0LXvAA8B1wB/BRaa2cjGnMTd33D3qWElbKSn87ZSXnFUU0qLiIiIiDRjodzAcjkwwd1LgCfMbD4wFzgtqsnCUFXtPPz2Jk7v24lRfTvHO46IiIiIiMRJgz067n5JsMg59nopMCaqqcL0WuEutpQd5PqzQp4cTkREREREUlCDPTpm1gqYAQwDWtV467pohQrXnNwienVqzflDtUCoiIiIiEhzFsqsa48CPYALgDeB3kB5NEOFI3/bXpYWlTF9fDYZ6aF8LRERERERSVV1VgRmdqy3Z6C73wYccPe5wNeBM2IRrjHm5G6kbWY6V4zWAqEiIiIiIs1dfV0fS4OPlcHHPWY2HOgIdItqqkbaubeCF1YVc+XovnRo1SLecUREREREJM5CmXXtATPrDPwMWAC0A26LaqpGeuTdTVS7M318dryjiIiIiIhIAqiv0OlmZjcHn08PPt4XfGwbvUiNc/DIUR5/fwvnD+1Bny5t4h1HREREREQSQH2FTjqB3hur5T2PTpzGe2bFdvYequT6s7RAqIiIiIiIBNRX6BS7+x0xSxKG6mrn4dwiRvbuyFf6aYFQEREREREJqG8ygtp6chLKkrUlbPzkANdN6I9ZwscVEREREZEYqa/QmRSzFGGak1tEz46tmDKiZ7yjiIiIiIhIAqmz0HH3slgGaaw1O/bxzsefcu24bFpogVAREREREakhaSuEh94uonWLdKaN7hvvKCIiIiIikmCSstApKa9gwcodfCunNx3baIFQERERERH5oqQsdB57dzOV1dVMH68ppUVERERE5MuSrtCpqKzisfe3MGlwd/p3TZh1S0VEREREJIEkXaHzjw+2U3bgCDMmqDdHRERERERql1SFzq69h7j9+dWc3K0dYwd0iXccERERERFJUElV6MycX0BFZTVZ7VtqgVAREREREalT0hQ6JfsqeGNtCQB5m3dTUl4R50QiIiIiIpKoolbomFkrM1tqZh+a2Woz+2VT2vvj4vWfPa92Z/biDU3OKCIiIiIiqSmaPTqHgYnuPhI4DZhsZmPDaahkXwXzlm+j2gOvK6uceXlb1asjIiIiIiK1ilqh4wH7gy9bBDcPp63Zi9dT7V/8aJV6dUREREREpA5RvUfHzNLNbCVQArzq7u/XcswNZpZnZnmlpaW1trNiyx4qq75Y6FRWOSs2745GbBERERERSXLmHlYnS+NOYtYJmA/8P3cvqOu4nJwcz8vLi3oekVRhZsvdPSfeOUREREQSTUxmXXP3PcASYHIsziciIiIiIs1b1Hp0zCwLqHT3PWbWGngF+I27v1DPZ0qBzQ003RX4JHJJIyIRM0Fi5lKm0IWSq5+7Z8UijIiIiEgyyYhi2z2BuWaWTqDn6Kn6ihyAUC7YzCwv0YbqJGImSMxcyhS6RM0lIiIikgyiVui4+ypgVLTaFxERERERqUtM7tERERERERGJpWQsdB6Id4BaJGImSMxcyhS6RM0lIiIikvBiMr20iIiIiIhILCVjj46IiIiIiEi9VOiIiIiIiEjKiXuhY2Z9zGyJma0xs9VmdmNwfxcze9XM1gcfOwf3m5nNNrMNZrbKzE6v0dbdwTYKg8dYjDINNrN3zeywmf3ouLYmm9naYN4fh/t3imSuutqJZ6Ya7aWb2QdmVu9U5LHKZGadzGyemX0U/F2dmSC5bgq2UWBmT5hZq3BziYiIiKSiuBc6wFHg/7v7UGAs8G9mNhT4MbDY3QcBi4OvAS4EBgW3G4D/ATCzccB44FRgODAaOCdGmcqAHwK/q9lIcA2h+4KZhwLTgu2EKyK56mknnpmOuREoDDNLNDL9EVjk7oOBkU3MFqnfVa/g/hx3Hw6kA1c1IZeIiIhIyol7oePuxe6+Ivi8nMCFZC/gYmBu8LC5wCXB5xcDj3jAe0AnM+sJONAKyARaAi2AXbHI5O4l7r4MqDyuqTHABnff6O5HgCeDbYQlUrnqaSdumQDMrDfwdeDBcLJEOpOZdQTOBuYEjzvi7nvinSsoA2htZhlAG2BHuLlERBq2aeUAAARPSURBVEREUlHcC52azCybwCKj7wPd3b04+NZOoHvweS9ga42PbQN6ufu7wBKgOLi97O5N7RkINVNdas3a1EwRyFVXO/HO9AfgVqC6qVkilKk/UAo8HBxO96CZtY13LnffTqCXZwuB3/ped38lErlEREREUkXCFDpm1g54Bvh3d99X8z0PzIFd7zzYZjYQGAL0JlBMTDSzs+KZKVoilau+dmKdycymAiXuvrwpOSKZiUCvyenA/7j7KOAAnw8ri1uu4D08FxMoxE4E2prZt5uaS0RERCSVJEShY2YtCFz4Pe7uzwZ37woOSSP4WBLcvx3oU+PjvYP7LgXec/f97r4feAloyo3jjclUl7qyhi1CuepqJ56ZxgMXmdkmAkP8JprZY3HOtA3Y5u7HervmESh8whahXOcBRe5e6u6VwLPAuKbkEhEREUk1cS90zMwI3ANR6O6/r/HWAuDa4PNrgedq7L/GAsYSGLZTTGAYzzlmlhG8mDyHMG8cDyNTXZYBg8ysv5llErhhfEE4mSKZq5524pbJ3We6e293zybwd3rd3cPqpYhgpp3AVjM7JbhrErAmnEyRzEXgtz7WzNoE25xE0ydwEBEREUkpFhgpE8cAZhOAfwL5fH5vxk8I3LvwFNAX2Axc4e5lwQu7/wYmAweB6e6eF5zh7H4CN487gZmybo5Rph5AHtAhePx+YKi77zOzKQTuPUkHHnL3WeFkimQuAjPTfakdd18Yr0w1h3CZ2bnAj9x9amPzRDqTmZ1GYHKETGAjgd/b7gTI9UvgSgIzuX0AXO/uh8PJJSIiIpKK4l7oiIiIiIiIRFrch66JiIiIiIhEmgodERERERFJOSp0REREREQk5ajQERERERGRlKNCR0REREREUo4KnWbMzC4xMzezwfHOIiIiIiISSSp0mrdpQG7wUUREREQkZajQaabMrB0wAZgBXBXcd66ZvWFm88zsIzN7PLhAK2Y2ycw+MLN8M3vIzFoG999lZmvMbJWZ/S5uX0hEREREpIaMeAeQuLkYWOTu68zsUzP7SnD/KGAYsAN4GxhvZnnAX4FJweMfAf7VzB4FLgUGu7ubWafYfw0RERERkS9Tj07zNQ14Mvj8ST4fvrbU3be5ezWwEsgGTgGK3H1d8Ji5wNnAXqACmGNmlwEHY5RdRERERKRe6tFphsysCzARGGFmDqQDDrwIHK5xaBX1/Ebc/aiZjQEmAd8EfhBsV0REREQkrtSj0zx9E3jU3fu5e7a79wGKgLPqOH4tkG1mA4OvvwO8GbzPp6O7LwRuAkZGO7iIiIiISChU6DRP04D5x+17hjpmX3P3CmA68LSZ5QPVwJ+A9sALZraKwOxtN0ctsYiIiIhII5i7xzuDiIiIiIhIRKlHR0REREREUo4KHRERERERSTkqdEREREREJOWo0BERERERkZSjQkdERERERFKOCh0REREREUk5KnRERERERCTl/C/UqkeCeadI9gAAAABJRU5ErkJggg==\n",
            "text/plain": [
              "<Figure size 1008x720 with 7 Axes>"
            ]
          },
          "metadata": {
            "tags": [],
            "needs_background": "light"
          }
        }
      ]
    },
    {
      "cell_type": "markdown",
      "metadata": {
        "id": "H5RVRQxg-rpF",
        "colab_type": "text"
      },
      "source": [
        "**-Observando os gráficos, vemos que em em cinco estados da região norte houve aumento da taxa de feminicídio no periodo entre 2008 e 2018.**\n",
        "\n",
        "**-O destaque vai para o estado de Roraima, onde se observa uma variação brusca entre 2008 e 2018; a taxa passa de aproximadamente 7.0 mortes para cada 100 mil mulheres em 2008 para aproximadamente 20.0 mulheres assassinadas a cada 100 mil no ano de 2018.**\n",
        "\n",
        "**-Em seguida temos os estados de Pará e Acre com as maiores variações positivas e com as maiores taxas em 2018. Em 2008 o estado do Pará apresentou uma taxa de aproximadamente 4.0 homicídios de mulheres a cada 100 mil, mas no ano de 2018 essa taxa duplica e alcança aproximadamente 8.0 dessas mortes a cada 100 mil mulheres, sendo que a partir do ano de 2013 é expressivamente observável essa tendência de aumento da taxa no estado. Uma variação decenal semelhante ocorreu no estado Acre: a taxa em 2018 de aproximadamente 8.5 mortes a cada 100 mil mulheres alcança o dobro da observada em 2008 – 4.0 mortes a cada 100 mil mulheres, com uma tendência de elevação observável a partir do ano de 2015, logo após uma tendência de queda anteriormente observada.**\n",
        "\n",
        "**-Os estados do Amazonas e Tocantins também apresentaram elevação das taxas ao longo da série. Em amazonas a variação é mais expressiva: a taxa duplica, indo de aproximadamente 3.5 mortes de mulheres a cada 100mil em 2008 para aproximadamente 6.5 mortes a cada 100 mil mulheres em 2018, alcançando o maior registro dessas mortes. Em Tocantins, a mesma taxa alcança um pouco menos de 6.0 mortes a cada 100mil mulheres em 2018, ante aproximadamente 3.0 das mesmas mortes em 2008, porém o maior valor observado no estado é no ano de 2012, no qual a taxa se situou em aproximadamente 7.0 homicidios violentos de mulheres a cada 100 mil mulheres.**\n",
        "\n",
        "**-Em Rondônia e no Amapá as taxas em 2018 apresentaram um valor menor que o observado em 2008. No estado de Amapá, após uma tendência de elevação da taxa nos primeiros anos da série, com o maior valor observado no ano de 2017 de aproximadamente 7.0 homicídios violentos de mulheres a cada 100 mil mulheres, a taxa se situou em 3.5 homicídios violentos de mulheres a cada 100 mil mulheres em 2018, ante uma taxa de 4.0 para cem mil mulheres em 2008. Em Rondônia a diminuição é mais branda; apesar de coexistir ao longo da série tendências de elevação, a taxa em 2018 alcança um valor menor que o observado em 2008. De aproximadamente 4.8 mortes para aproximadamente 4.5 mortes a cada 100 mil mulheres; o maior valor registrado ocorreu no ano de 2015, ano no qual a taxa se situou em aproximadamente 7.5 mortes violentas a cada 100 mil mulheres.**"
      ]
    },
    {
      "cell_type": "markdown",
      "metadata": {
        "id": "5LsWiWx3CfjV",
        "colab_type": "text"
      },
      "source": [
        "**Região Nordeste.**\n",
        "\n",
        "**Novamente optei por dividir o espaço para a geração dos graficos em 9 quadrantes distribuidos em 3 linhas e 3 colunas.**"
      ]
    },
    {
      "cell_type": "code",
      "metadata": {
        "id": "nsDMPAb645qa",
        "colab_type": "code",
        "colab": {
          "base_uri": "https://localhost:8080/",
          "height": 746
        },
        "outputId": "62c4c9cc-c409-4db1-be69-84eba784f61d"
      },
      "source": [
        "#obs: o eixo X ja fora definido no código anterior\n",
        "\n",
        "#eixo Y: nove valores para o eixo que correspondem aos nove estados da região nordeste.\n",
        "y1=tx_nordeste.loc['Alagoas','tx_regional_homicidios']\n",
        "y2=tx_nordeste.loc['Bahia','tx_regional_homicidios']\n",
        "y3=tx_nordeste.loc['Ceara','tx_regional_homicidios']\n",
        "y4=tx_nordeste.loc['Maranhão','tx_regional_homicidios']\n",
        "y5=tx_nordeste.loc['Paraiba','tx_regional_homicidios']\n",
        "y6=tx_nordeste.loc['Pernambuco','tx_regional_homicidios']\n",
        "y7=tx_nordeste.loc['Piaui','tx_regional_homicidios']\n",
        "y8=tx_nordeste.loc['Rio_Grande_do_Norte','tx_regional_homicidios']\n",
        "y9=tx_nordeste.loc['Sergipe','tx_regional_homicidios']\n",
        "\n",
        "\n",
        "#definindo a largura e altura de cada gráfico, bem como o espaçamento lateral e horizontal entre cada um deles. \n",
        "figura=plt.figure(figsize=(15,12))\n",
        "figura.subplots_adjust(hspace = 0.6,wspace = 0.4)\n",
        "\n",
        "#subplotagem de cada um dos nove gráficos\n",
        "figura.add_subplot(3,3,1)\n",
        "plt.plot(x,y1,marker='^')\n",
        "plt.title('Alagoas')\n",
        "plt.xlabel('Anos')\n",
        "plt.ylabel('Taxa de feminicidio')\n",
        "\n",
        "figura.add_subplot(3,3,2)\n",
        "plt.plot(x,y2,marker='^')\n",
        "plt.title('Bahia')\n",
        "plt.xlabel('Anos')\n",
        "\n",
        "figura.add_subplot(3,3,3)\n",
        "plt.plot(x,y3,marker='^')\n",
        "plt.title('Ceara')\n",
        "plt.xlabel('Anos')\n",
        "\n",
        "figura.add_subplot(3,3,4)\n",
        "plt.plot(x,y4,marker='^')\n",
        "plt.title('Maranhão')\n",
        "plt.xlabel('Anos')\n",
        "plt.ylabel('Taxa de Feminicidio')\n",
        "\n",
        "figura.add_subplot(3,3,5)\n",
        "plt.plot(x,y5,marker='^')\n",
        "plt.title('Paraiba')\n",
        "plt.xlabel('Anos')\n",
        "\n",
        "figura.add_subplot(3,3,6)\n",
        "plt.plot(x,y6,marker='^')\n",
        "plt.title('Pernambuco')\n",
        "plt.xlabel('Anos')\n",
        "\n",
        "figura.add_subplot(3,3,7)\n",
        "plt.plot(x,y7,marker='^')\n",
        "plt.title('Piaui')\n",
        "plt.xlabel('Anos')\n",
        "plt.ylabel('Taxa de Feminicidio')\n",
        "\n",
        "figura.add_subplot(3,3,8)\n",
        "plt.plot(x,y8,marker='^')\n",
        "plt.title('Rio Grande do Norte')\n",
        "plt.xlabel('Anos')\n",
        "\n",
        "figura.add_subplot(3,3,9)\n",
        "plt.plot(x,y9,marker='^')\n",
        "plt.title('Sergipe')\n",
        "plt.xlabel('Anos')\n",
        "\n",
        "\n",
        "\n"
      ],
      "execution_count": 116,
      "outputs": [
        {
          "output_type": "execute_result",
          "data": {
            "text/plain": [
              "Text(0.5, 0, 'Anos')"
            ]
          },
          "metadata": {
            "tags": []
          },
          "execution_count": 116
        },
        {
          "output_type": "display_data",
          "data": {
            "image/png": "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\n",
            "text/plain": [
              "<Figure size 1080x864 with 9 Axes>"
            ]
          },
          "metadata": {
            "tags": [],
            "needs_background": "light"
          }
        }
      ]
    },
    {
      "cell_type": "markdown",
      "metadata": {
        "id": "6PhSF1ysh_ol",
        "colab_type": "text"
      },
      "source": [
        "**No nordeste brasileiro os estados de Alagoas, Paraíba, Pernambuco e Sergipe apresentaram em 2018 uma taxa menor que a observada em 2008, enquanto que nos estados da Bahia, Ceara, Maranhão, Rio Grande do Norte e Piauí ocorreu o inverso.** \n",
        "\n",
        "**O estado do Ceará registrou a maior taxa de homicídios de mulheres a cada 100 mil mulheres bem como a maior variação decenal da mesma. Em 2008 fora registrada uma taxa de aproximadamente 3.0 homicídios violentos de mulheres a cada 100 mil mulheres, e no ano de 2018 essa taxa subiu para aproximadamente 10 mortes a cada 100 mil mulheres. A tendência de elevação é constante até o ano de 2014, a partir de então é registrado pelos dois anos seguintes duas leves quedas anuais e novamente uma elevação constante até o ano de 2018.**\n",
        "\n",
        "**Na Bahia a taxa vai de aproximadamente 4.0 homicídios de mulheres a cada 100 mil mulheres em 2008 para um registro de aproximadamente 5.3 dos mesmos tipos de homicídios em 2018; porém o maior registro no estado ocorreu no ano de 2017, ano em que a taxa alcançou 6.5 homicídios a cada 100 mil mulheres. No Maranhão foram registradas 2.5 homicídios femininos a cada 100 mil mulheres em 2008 e aproximadamente 3.4 mortes a cada 100 mil mulheres em 2018; o maior registro ocorreu no ano de 2016, uma taxa de 4.5 mortes a cada 100 mil mulheres. No Rio Grande do Norte e no Piauí a elevação é mais branda. No primeiro caso a taxa vai de aproximadamente 3.8 em 2008 para aproximadamente 5.5 em 2018. No Piauí a taxa vai de 2.5 em 2008 para aproximadamente 3.2 em 2018.**\n",
        "\n",
        "**Em Alagoas, apesar de até o ano de 2013 ocorrer uma tendência de elevação da taxa de feminicídio, o estado registrou em 2018 uma taxa de aproximadamente 4.0 homicídios violentos de mulheres a cada 100 mil mulheres, um menor valor que o registrado em 2008 – uma ocorrência de 5.0 homicídios violentos a cada 100 mil mulheres. No estado da Paraíba ocorreu uma trajetória semelhante. Há até 2011 uma tendência de elevação da taxa de feminicídio para cada 100 mil mulheres, mas a partir do ano seguinte há uma tendência inversa e o estado registra em 2018 uma taxa menor que a observada em 20018 – aproximadamente 4.0 homicídios a cada 100 mil mulheres, ante aproximadamente 4.5 homicídios a cada 100 mil mulheres em 2008.**\n",
        "\n",
        "**No estado do Pernambuco não ocorreu uma tendência bem definida. A taxa de 2008 registra aproximadamente 6.5 homicídios violentos de mulheres a cada 100 mil mulheres, atinge o seu menor valor em 2012 de 4.5 mortes a cada 100 mil mulheres e apresenta em 2018 uma taxa de 5.0 homicídios de mulheres por 100 mil mulheres, um valor menor que o observado em 2008. No Estado do Sergipe, após uma série de variações que tenderam mais a um aumento da taxa em dez anos, em 2018 a taxa registrada foi de 3.0 mortes a cada 100 mil mulheres, a mesma taxa registrada em 2008, sendo que o maior valor registrado fora no ano de 2017 – aproximadamente 6.8 mortes a cada 100 mil mulheres.**\n"
      ]
    },
    {
      "cell_type": "markdown",
      "metadata": {
        "id": "uGivlJfGrldC",
        "colab_type": "text"
      },
      "source": [
        "**Sudeste**\n",
        "\n",
        "**Para os quatro estados na região sudeste, foram utilizados quatro quadrantes com duas linhas e duas colunas para a subplotagem dos gráficos.**"
      ]
    },
    {
      "cell_type": "code",
      "metadata": {
        "id": "DgHlwHNuIs6X",
        "colab_type": "code",
        "colab": {
          "base_uri": "https://localhost:8080/",
          "height": 637
        },
        "outputId": "2a33927c-4a2f-4c33-f18b-e81ea79c7202"
      },
      "source": [
        "#Quatro valores diferentes para o eixo Y, que correspondem aos dados dos quatro estados da região sudeste.\n",
        "y1=tx_sudeste.loc['Espirito_Santo','tx_regional_homicidios']\n",
        "y2=tx_sudeste.loc['Minas_Gerais','tx_regional_homicidios']\n",
        "y3=tx_sudeste.loc['Rio_de_Janeiro','tx_regional_homicidios']\n",
        "y4=tx_sudeste.loc['São_Paulo','tx_regional_homicidios']\n",
        "\n",
        "#definindo a largura e altura de cada gráfico, bem como o espaçamento lateral e horizontal entre cada um deles. \n",
        "figura=plt.figure(figsize=(10,10))\n",
        "figura.subplots_adjust(hspace=0.4,wspace=0.2)\n",
        "\n",
        "#subplotagem de cada um dos quatro gráficos\n",
        "figura.add_subplot(2,2,1)\n",
        "plt.plot(x,y1,marker='^')\n",
        "plt.title('Espirito Santo')\n",
        "plt.xlabel('Anos')\n",
        "plt.ylabel('Taxa de Feminicidio')\n",
        "\n",
        "figura.add_subplot(2,2,2)\n",
        "plt.plot(x,y2,marker='^')\n",
        "plt.title('Minas Gerais')\n",
        "plt.xlabel('Anos')\n",
        "\n",
        "figura.add_subplot(2,2,3)\n",
        "plt.plot(x,y3,marker='^')\n",
        "plt.title('Rio de Janeiro')\n",
        "plt.xlabel('Anos')\n",
        "plt.ylabel('Taxa de feminicidio')\n",
        "\n",
        "figura.add_subplot(2,2,4)\n",
        "plt.plot(x,y4,marker='^')\n",
        "plt.title('São Paulo')\n",
        "plt.xlabel('Anos')\n"
      ],
      "execution_count": 117,
      "outputs": [
        {
          "output_type": "execute_result",
          "data": {
            "text/plain": [
              "Text(0.5, 0, 'Anos')"
            ]
          },
          "metadata": {
            "tags": []
          },
          "execution_count": 117
        },
        {
          "output_type": "display_data",
          "data": {
            "image/png": "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\n",
            "text/plain": [
              "<Figure size 720x720 with 4 Axes>"
            ]
          },
          "metadata": {
            "tags": [],
            "needs_background": "light"
          }
        }
      ]
    },
    {
      "cell_type": "markdown",
      "metadata": {
        "id": "Tv9SD25O95kL",
        "colab_type": "text"
      },
      "source": [
        "**A região sudeste é a única na qual todos os estados apresentaram uma variação negativa da taxa de homicídio na série decenal. No Espirito Santo a taxa é reduzida de aproximadamente 10.5 homicídios de mulheres a cada 1000 mil em 2008 para aproximadamente 5.0 mortes em 2018. A tendência de diminuição dessa taxa é observável logo após o ano de 2009. Em São Paulo essa tendência fora continuamente semelhante. O estado apresenta em 2008 uma taxa de homicídio de 3.2 a cada 100 mil mulheres e, no ano de 2018, essa taxa chega a aproximadamente 1.8 a cada 100 mil mulheres.**\n",
        "\n",
        "**No Rio de Janeiro, mesmo após simultâneas tendências de diminuição e aumento da taxa de homicídios de mulheres a cada 100 mil, o estado registra em 2018 uma taxa menor que a registrada em 2008; 4.3 homicídios femininos a cada 100 mil mulheres ante 4.6 homicídios no primeiro ano da série. Em minas gerais, a partir do ano de 2012, no qual o estado registrou sua maior taxa ao longo da série – 4.6 homicídios de mulheres a cada 100 mil – a tendência de diminuição é quase totalmente constante e em 2018 a taxa de aproximadamente 3.2 homicídios a cada 100 mil mulheres é a menor da série; em 2008 a taxa fora de aproximadamente 3.7 mortes de mulheres a cada 100 mil.**  \n"
      ]
    },
    {
      "cell_type": "markdown",
      "metadata": {
        "id": "xRAy4GtNrpZI",
        "colab_type": "text"
      },
      "source": [
        "**Sul**\n",
        "\n",
        "**Gráficos distribuidos em três quadrantes subplotados em uma única linha.**"
      ]
    },
    {
      "cell_type": "code",
      "metadata": {
        "id": "KCaRVBSTxiSI",
        "colab_type": "code",
        "colab": {
          "base_uri": "https://localhost:8080/",
          "height": 366
        },
        "outputId": "f7f54e8e-d2c5-485c-ebe5-7bfa09ce9175"
      },
      "source": [
        "#eixo Y:  três diferentes valores para o eixo que correspondem aos três estados da região Sul\n",
        "y1=tx_sul.loc['Parana','tx_regional_homicidios']\n",
        "y2=tx_sul.loc['Rio_Grande_do_Sul','tx_regional_homicidios']\n",
        "y3=tx_sul.loc['Santa_Catarina','tx_regional_homicidios']\n",
        "\n",
        "#definindo a largura e altura de cada gráfico, bem como o espaçamento lateral e horizontal entre cada um deles. \n",
        "figura=plt.figure(figsize=(15,5))\n",
        "figura.subplots_adjust(wspace=0.2)\n",
        "\n",
        "#subplotagem de cada um dos três gráficos\n",
        "figura.add_subplot(1,3,1)\n",
        "plt.plot(x,y1,marker='^')\n",
        "plt.title('Paraná')\n",
        "plt.xlabel('Anos')\n",
        "plt.ylabel('Taxa de Feminicidio')\n",
        "\n",
        "figura.add_subplot(1,3,2)\n",
        "plt.plot(x,y2,marker='^')\n",
        "plt.title('Rio Grande do Sul')\n",
        "plt.xlabel('Anos')\n",
        "\n",
        "figura.add_subplot(1,3,3)\n",
        "plt.plot(x,y3,marker='^')\n",
        "plt.title('Santa Catarina')\n",
        "plt.xlabel('Anos')"
      ],
      "execution_count": 118,
      "outputs": [
        {
          "output_type": "execute_result",
          "data": {
            "text/plain": [
              "Text(0.5, 0, 'Anos')"
            ]
          },
          "metadata": {
            "tags": []
          },
          "execution_count": 118
        },
        {
          "output_type": "display_data",
          "data": {
            "image/png": "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\n",
            "text/plain": [
              "<Figure size 1080x360 with 3 Axes>"
            ]
          },
          "metadata": {
            "tags": [],
            "needs_background": "light"
          }
        }
      ]
    },
    {
      "cell_type": "markdown",
      "metadata": {
        "id": "saMSP6rlHe_O",
        "colab_type": "text"
      },
      "source": [
        "**Na região Sul os estados do Paraná e Santa Catarina apresentaram uma diminuição da taxa de homicídios de mulheres a cada 100 mil mulheres, enquanto que no estado do Rio Grande do Sul houve um aumento em dez anos. No Paraná, apesar de nos primeiros anos da série existir duas tendências de elevação, a partir do ano de 2012 há uma tendência observável de diminuição da taxa nos anos posteriores. O menor registro é justamente no ano de 2018, uma taxa de aproximadamente 3.6 homicídios de mulheres a cada 100 mil mulheres; em 2008 a taxa registrada fora de aproximadamente 5.8 homicídios femininos a cada 100 mil mulheres. Em Santa Catarina, após tendências sincrônicas de elevação e diminuição da taxa de homicídios de mulheres a cada 100 mil mulheres, o registro em 2018 de 2.7 homicídios de mulheres a cada 100 mil mulheres é menor que o registro no ano de 2008 – 2.8 homicídios a cada 100 mil mulheres.**\n",
        "\n",
        "**No Rio Grande do Sul, apesar de a taxa em 2018 de aproximadamente 4.3 homicídios de mulheres a cada 100 mil mulheres não ser a maior registrada na série, ela é ainda maior que a registrada em 2008 de aproximadamente 3.9 homicídios de mulheres a cada 100 mil mulheres. A maior taxa registrada fora no ano de 2016, de aproximadamente 5.4 homicídios violentos de mulheres a cada 100 mil mulheres.** \n"
      ]
    },
    {
      "cell_type": "markdown",
      "metadata": {
        "id": "_qPEBssRrsCT",
        "colab_type": "text"
      },
      "source": [
        "**Centro Oeste**\n",
        "\n",
        "**Quatro quadrantes separados em duas linhas com duas colunas cada.**"
      ]
    },
    {
      "cell_type": "code",
      "metadata": {
        "id": "xZXjjDY8z3-G",
        "colab_type": "code",
        "colab": {
          "base_uri": "https://localhost:8080/",
          "height": 637
        },
        "outputId": "8092c08b-ba21-4bb7-a79f-4f56badd78e1"
      },
      "source": [
        "#eixo Y: quatro diferentes valores para o eixo, que correspondem aos quatro estados da região centro-oeste.\n",
        "y1=tx_centro_oeste.loc['Distrito_Federal','tx_regional_homicidios']\n",
        "y2=tx_centro_oeste.loc['Goias','tx_regional_homicidios']\n",
        "y3=tx_centro_oeste.loc['Mato_Grosso','tx_regional_homicidios']\n",
        "y4=tx_centro_oeste.loc['Mato_Grosso_do_Sul','tx_regional_homicidios']\n",
        "\n",
        "#definindo a largura, altura de cada gráfico, bem como o espaçamento lateral e horizontal entre cada um deles. \n",
        "figura=plt.figure(figsize=(10,10))\n",
        "figura.subplots_adjust(hspace=0.4,wspace=0.2)\n",
        "\n",
        "figura.add_subplot(2,2,1)\n",
        "plt.plot(x,y1,marker='^')\n",
        "plt.title('Distrito Federal')\n",
        "plt.xlabel('Anos')\n",
        "plt.ylabel('Taxa de Feminicidio')\n",
        "\n",
        "figura.add_subplot(2,2,2)\n",
        "plt.plot(x,y2,marker='^')\n",
        "plt.title('Goias')\n",
        "plt.xlabel('Anos')\n",
        "\n",
        "figura.add_subplot(2,2,3)\n",
        "plt.plot(x,y3,marker='^')\n",
        "plt.title('Mato Grosso')\n",
        "plt.xlabel('Anos')\n",
        "plt.ylabel('Taxa de feminicidio')\n",
        "\n",
        "figura.add_subplot(2,2,4)\n",
        "plt.plot(x,y4,marker='^')\n",
        "plt.title('Mato Grosso do Sul')\n",
        "plt.xlabel('Anos')"
      ],
      "execution_count": 119,
      "outputs": [
        {
          "output_type": "execute_result",
          "data": {
            "text/plain": [
              "Text(0.5, 0, 'Anos')"
            ]
          },
          "metadata": {
            "tags": []
          },
          "execution_count": 119
        },
        {
          "output_type": "display_data",
          "data": {
            "image/png": "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\n",
            "text/plain": [
              "<Figure size 720x720 with 4 Axes>"
            ]
          },
          "metadata": {
            "tags": [],
            "needs_background": "light"
          }
        }
      ]
    },
    {
      "cell_type": "markdown",
      "metadata": {
        "id": "uQ0IYpRApBoS",
        "colab_type": "text"
      },
      "source": [
        "**Na região Centro-Oeste, somente o estado de Goiás apresentou uma elevação da taxa de homicídios de mulheres nos dez anos da série, os demais estados, Distrito Federal, Mato Grosso e Mato Grosso do Sul apresentaram uma diminuição de suas taxas de homicídios. No caso de Goiás, a taxa de 2008 fora de aproximadamente 5.4 homicídios de mulheres a cada 100 mil mulheres e em 2018 essa taxa aumentou para 6.5 homicídios do mesmo tipo; o maior valor registrado no estado fora nos anos de 2013 e 2014, aproximadamente 8.4 homicídios violentos de mulheres a cada 100 mil mulheres.**\n",
        "\n",
        "**No Distrito Federal a tendência de diminuição é expressiva. A taxa em 2008 de 5.5 homicídios de mulheres a cada 100 mil mulheres inicialmente apresenta um aumento no ano de 2009, mas a partir de então há constantes diminuições. A menor taxa é registrada em 2017: aproximadamente 2.9 homicídios de mulheres a cada 100 mil mulheres e em 2018 há um leve aumento para aproximadamente 3.3 homicídios de mulheres a cada 100 mil mulheres No estado do Mato Grosso, há simultâneas tendências de elevação e diminuição da taxa de homicídios de mulheres a cada 100 mil mulheres, mas ainda assim o valor m 2018 é menor que o observado em 2008; foram aproximadamente 5.2 homicídios violentos de mulheres a cada 100 mil mulheres em 2018 ante aproximadamente 5.9 homicídios de mulheres a cada 100 mil mulheres em 2008. Em Mato Grosso do Sul a taxa em 2018 de aproximadamente 4.7 homicídios de mulheres a cada 100 mil mulheres é menor que a taxa de aproximadamente 4.9 homicídios de mulheres a cada 100 mil mulheres, a menor taxa registrada na série analisada fora no ano de 2015, aproximadamente 4.3 homicídios de mulheres a cada 100 mil mulheres.** \n"
      ]
    },
    {
      "cell_type": "markdown",
      "metadata": {
        "id": "PKJTTiRgohnq",
        "colab_type": "text"
      },
      "source": [
        "#**Estados com variação positiva e estados com variação negativa das taxas de feminicídio.**\n",
        "\n",
        "**Levando em consideração a série decenal analisada, temos então dois grupos: os estados que apresentaram uma diminuição da taxa de feminicidio ao longo da série e os estados que apresentaram uma elevação dessa mesma taxa.** \n",
        "\n",
        "**Vamos então separa-los em dois datasets:**\n",
        "\n",
        "- Para os que tiveram uma variação positiva da taxa, encontraremos os três estados com as maiores taxas de feminicidio no ano de 2018 e visualizar suas trajetórias graficamente. \n",
        "\n",
        "- Para aqueles que apresentaram uma queda da taxa, encontraremos os três estados com as menores taxas também em 2018 para desse modo fazermos graficamente a mesma visualização.\n",
        "\n",
        "\n",
        "- Doze estados apresentaram um crescimento da taxa nesses 10 anos. Lançando mão novamente do conceito de tabela da verdade, agruparemos estes estados no dataset 'ufs_variação_positiva'. \n",
        "\n",
        "- Quinze estados apresentaram uma diminuição da taxa, e da mesma forma, agruparemos tais estados em uma variável, denominada de 'ufs_variação_negativa; segue o código."
      ]
    },
    {
      "cell_type": "code",
      "metadata": {
        "id": "gWbv56ti5JPB",
        "colab_type": "code",
        "colab": {}
      },
      "source": [
        "ufs_variacao_positiva=dados_ufs[(dados_ufs.ufs=='Acre')|(dados_ufs.ufs=='Amazonas')|(dados_ufs.ufs=='Para')|\n",
        "                            (dados_ufs.ufs=='Roraima')|(dados_ufs.ufs=='Tocantins')|(dados_ufs.ufs=='Bahia')|\n",
        "                            (dados_ufs.ufs=='Ceara')|(dados_ufs.ufs=='Maranhão')|(dados_ufs.ufs=='Piaui')|\n",
        "                            (dados_ufs.ufs=='Rio_Grande_do_Norte')|(dados_ufs.ufs=='Rio_Grande_do_Sul')|\n",
        "                            (dados_ufs.ufs=='Goias')]\n",
        "ufs_variação_negativa=dados_ufs[(dados_ufs.ufs=='Rondonia')|(dados_ufs.ufs=='Amapa')|(dados_ufs.ufs=='Pernambuco')|\n",
        "                            (dados_ufs.ufs=='Sergipe')|(dados_ufs.ufs=='Paraiba')|(dados_ufs.ufs=='Alagoas')|\n",
        "                            (dados_ufs.ufs=='São_Paulo')|(dados_ufs.ufs=='Rio_de_Janeiro')|\n",
        "                            (dados_ufs.ufs=='Minas_Gerais')|(dados_ufs.ufs=='Espirito_Santo')|\n",
        "                            (dados_ufs.ufs=='Distrito_Federal')|(dados_ufs.ufs=='Mato_Grosso')|\n",
        "                            (dados_ufs.ufs=='Mato_Grosso_do_Sul')|(dados_ufs.ufs=='Parana')|\n",
        "                            (dados_ufs.ufs=='Santa_Catarina')]"
      ],
      "execution_count": 120,
      "outputs": []
    },
    {
      "cell_type": "markdown",
      "metadata": {
        "id": "GNNDZe1xVP9c",
        "colab_type": "text"
      },
      "source": [
        "**- Com os dois grupos separados, vamos então compilar somente os dados de 2018 de cada um dos grupos.**\n",
        "\n",
        "**- Então vamos ordenar essas taxas em forma descendente para os estados com variação positiva e de forma ascendente para os estados com variação negativa.**\n",
        "\n",
        "**- Dessa forma é possível identificar os três estados mais violentos em 2018 dentre os que tiveram um aumento das taxas de feminicídios e os três estados menos violentos em 2018 dentre aqueles que tiveram uma variação negativa dessa mesma taxa.**"
      ]
    },
    {
      "cell_type": "code",
      "metadata": {
        "id": "wybYPmaFk4-A",
        "colab_type": "code",
        "colab": {
          "base_uri": "https://localhost:8080/",
          "height": 245
        },
        "outputId": "b03fd6b0-3184-4942-9813-de8d8590fccd"
      },
      "source": [
        "#UF'S com variação positiva\n",
        "\n",
        "#filtrando somente os dados de 2018.\n",
        "maior_taxa=ufs_variacao_positiva[(ufs_variacao_positiva.ano==2018)]\n",
        "\n",
        "#indexando-os pelos nomes das uf's.\n",
        "maior_taxa=maior_taxa.set_index('ufs')\n",
        "\n",
        "#ordenando esses dados de forma descendente.\n",
        "maior_taxa.tx_regional_homicidios.sort_values(ascending=False)"
      ],
      "execution_count": 121,
      "outputs": [
        {
          "output_type": "execute_result",
          "data": {
            "text/plain": [
              "ufs\n",
              "Roraima                20.5\n",
              "Ceara                  10.3\n",
              "Acre                    8.4\n",
              "Para                    7.7\n",
              "Goias                   6.4\n",
              "Amazonas                6.2\n",
              "Tocantins               5.9\n",
              "Rio_Grande_do_Norte     5.7\n",
              "Bahia                   5.4\n",
              "Rio_Grande_do_Sul       4.4\n",
              "Maranhão                3.4\n",
              "Piaui                   3.2\n",
              "Name: tx_regional_homicidios, dtype: float64"
            ]
          },
          "metadata": {
            "tags": []
          },
          "execution_count": 121
        }
      ]
    },
    {
      "cell_type": "code",
      "metadata": {
        "id": "j3hQK-yclr5k",
        "colab_type": "code",
        "colab": {
          "base_uri": "https://localhost:8080/",
          "height": 293
        },
        "outputId": "e18aaba5-74e7-4831-86ca-89cae16ce0fc"
      },
      "source": [
        "#UFS com variação negativa\n",
        "\n",
        "#filtrando somente os dados de 2018.\n",
        "menor_taxa=ufs_variação_negativa[(ufs_variação_negativa.ano==2018)]\n",
        "\n",
        "##indexando-os pelos nomes das uf's.\n",
        "menor_taxa=menor_taxa.set_index('ufs')\n",
        "\n",
        "#ordenando esses dados de forma ascendente\n",
        "menor_taxa.tx_regional_homicidios.sort_values()"
      ],
      "execution_count": 122,
      "outputs": [
        {
          "output_type": "execute_result",
          "data": {
            "text/plain": [
              "ufs\n",
              "São_Paulo             1.9\n",
              "Santa_Catarina        2.7\n",
              "Sergipe               3.3\n",
              "Minas_Gerais          3.3\n",
              "Distrito_Federal      3.4\n",
              "Parana                3.6\n",
              "Amapa                 3.7\n",
              "Alagoas               3.9\n",
              "Paraiba               4.0\n",
              "Rio_de_Janeiro        4.3\n",
              "Rondonia              4.7\n",
              "Mato_Grosso_do_Sul    4.7\n",
              "Espirito_Santo        4.9\n",
              "Pernambuco            5.0\n",
              "Mato_Grosso           5.3\n",
              "Name: tx_regional_homicidios, dtype: float64"
            ]
          },
          "metadata": {
            "tags": []
          },
          "execution_count": 122
        }
      ]
    },
    {
      "cell_type": "markdown",
      "metadata": {
        "id": "elWFyhfdYX90",
        "colab_type": "text"
      },
      "source": [
        "**- Do grupo de estados que apresentaram elevação das taxas de feminicídio, temos que em 2018, as três ufs mais violentas para as mulheres foram, de forma decrescente: Roraima, Ceará e o Acre. Como visto, a taxa em Roraima alcançou 20 homicídios violentos de mulheres a cada 100 mil; no estado do Ceará essa taxa chegou a 10 mortes; e em Acre aproximadamente 8.0 mulheres a cada 100 mil morreram de forma violenta.** \n",
        "\n",
        "**- No grupo de estados com diminuições dessas taxas ao longo da série, as três menores taxas em 2018 pertenceram, de forma ascendente, aos estados de São Paulo - 1.9 homicídio violento feminino a cada 100 mil mulheres, Santa Catarina - 2.7 mortes do mesmo tipo - e Sergipe - 3.3 homicídios violentos a cada 100 mil mulheres.**\n",
        "\n",
        "**- Vamos então a plotagem dos gráficos. Primeiro a visualização das trajetórias das taxas de homicídios dos três estados mais violentos em 2018, em seguida a visualização das trajetórias das mesmas taxas dos estados menos violentos.**"
      ]
    },
    {
      "cell_type": "markdown",
      "metadata": {
        "id": "buWZ9MptGGf6",
        "colab_type": "text"
      },
      "source": [
        "**Avaliando a trajetória das taxas de feminicídios destes estados em gráficos múltiplos.**\n",
        "\n",
        "**Estados que apresentaram variação positiva.**"
      ]
    },
    {
      "cell_type": "code",
      "metadata": {
        "id": "kmUyxsJqBWDO",
        "colab_type": "code",
        "colab": {
          "base_uri": "https://localhost:8080/",
          "height": 313
        },
        "outputId": "00f5b242-61e8-4135-d530-05536cbf1dc5"
      },
      "source": [
        "#definindo os valores dos eixo X e Y.\n",
        "x=[2008,2009,2010,2011,2012,2013,2014,2015,2016,2017,2018]\n",
        "y1=tx_norte.loc['Roraima','tx_regional_homicidios']\n",
        "y2=tx_norte.loc['Acre','tx_regional_homicidios']\n",
        "y3=tx_nordeste.loc['Ceara','tx_regional_homicidios']\n",
        "\n",
        "#plotando o gráfico de multilinhas - x são os anos de estudo dos dados; \n",
        "#para cada um deles teremos tres valores correspondentes no eixo y, que se referem cada linha a um estado.\n",
        "plt.plot(x,y1,ls='-',label='Roraima')\n",
        "plt.plot(x,y2,ls='-',label='Acre')\n",
        "plt.plot(x,y3,ls='-',label='Ceara')\n",
        "\n",
        "#plotando uma linha horizontal com a média naciopnal dos homicidios de mulheres a cada 100 mil na série analisada, visando efeitos de comparação.\n",
        "plt.axhline(y=dados_brasil.tx_nacional_homicidios.mean(), color='r', linestyle='-',label='Média Brasil')\n",
        "\n",
        "#Definindo os titulos do gráfico, eixo X e eixo Y.\n",
        "plt.title('Evolução das taxas de feminicidio das tres ufs com maior taxa em 2018',fontsize=13)\n",
        "plt.xlabel('Anos',fontsize=12)\n",
        "plt.ylabel('Taxa de feminicidio',fontsize=12)\n",
        "plt.legend(loc=0)\n"
      ],
      "execution_count": 123,
      "outputs": [
        {
          "output_type": "execute_result",
          "data": {
            "text/plain": [
              "<matplotlib.legend.Legend at 0x7f639c1a6588>"
            ]
          },
          "metadata": {
            "tags": []
          },
          "execution_count": 123
        },
        {
          "output_type": "display_data",
          "data": {
            "image/png": "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\n",
            "text/plain": [
              "<Figure size 432x288 with 1 Axes>"
            ]
          },
          "metadata": {
            "tags": [],
            "needs_background": "light"
          }
        }
      ]
    },
    {
      "cell_type": "markdown",
      "metadata": {
        "id": "Vq3vxcQsG-dx",
        "colab_type": "text"
      },
      "source": [
        "**Estados que apresentaram variação negativa.**"
      ]
    },
    {
      "cell_type": "code",
      "metadata": {
        "id": "2z3c7d48tAg9",
        "colab_type": "code",
        "colab": {
          "base_uri": "https://localhost:8080/",
          "height": 311
        },
        "outputId": "08e67a0b-1a9c-4d50-ff86-d57004ccdf48"
      },
      "source": [
        "#definindo os valores do eixo y \n",
        "y1=tx_sudeste.loc['São_Paulo','tx_regional_homicidios']\n",
        "y2=tx_sul.loc['Santa_Catarina','tx_regional_homicidios']\n",
        "y3=tx_nordeste.loc['Sergipe','tx_regional_homicidios']\n",
        "\n",
        "#plotando o gráfico de multilinhas - x são os anos de estudo dos dados; \n",
        "#para cada um deles teremos tres valores correspondentes no eixo y, que se referem cada linha a um estado.\n",
        "plt.plot(x,y1,ls='-',label='São Paulo')\n",
        "plt.plot(x,y2,ls='-',label='Santa Catarina')\n",
        "plt.plot(x,y3,ls='-',label='Sergipe')\n",
        "#plotando uma linha horizontal com a média naciopnal dos homicidios de mulheres a cada 100 mil na série analisada, visando efeitos de comparação.\n",
        "plt.axhline(y=dados_brasil.tx_nacional_homicidios.mean(), color='r', linestyle='-',label='Média Brasil')\n",
        "#Definindo os titulos do gráfico, eixo X e eixo Y.\n",
        "plt.xlabel('Anos')\n",
        "plt.ylabel('Taxa de Feminicidio')\n",
        "plt.title('Trajetória das taxas de feminicidio nas três ufs menos violentas em 2018')\n",
        "plt.legend(loc=0)"
      ],
      "execution_count": 128,
      "outputs": [
        {
          "output_type": "execute_result",
          "data": {
            "text/plain": [
              "<matplotlib.legend.Legend at 0x7f639c95e470>"
            ]
          },
          "metadata": {
            "tags": []
          },
          "execution_count": 128
        },
        {
          "output_type": "display_data",
          "data": {
            "image/png": "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\n",
            "text/plain": [
              "<Figure size 432x288 with 1 Axes>"
            ]
          },
          "metadata": {
            "tags": [],
            "needs_background": "light"
          }
        }
      ]
    },
    {
      "cell_type": "markdown",
      "metadata": {
        "id": "-h2UrFDcIKfo",
        "colab_type": "text"
      },
      "source": [
        "#**Homicídios de mulheres por raça**\n",
        "\n",
        " **Sabemos que no Brasil há uma desigualdade racial em diversos setores, pois as denúncias e os casos públicos de racismo, as diferenças entre raças em ocupações de cargos importantes, entre outros aspectos, infelizmente são comuns em nosso dia a dia, e com os casos de feminicídio não é diferente. Na próxima sessão iremos visualizar a trajetória dos dados sobre homicídios de mulheres nos ultimos dez anos em relação a raça das vítimas e dessa forma veremos que esse tipo de violência é muito mais comum entre mulheres negras.**"
      ]
    },
    {
      "cell_type": "code",
      "metadata": {
        "id": "4bJqk-KllLn3",
        "colab_type": "code",
        "colab": {
          "base_uri": "https://localhost:8080/",
          "height": 790
        },
        "outputId": "13dc148a-2916-4b59-d53f-7d62fc302bea"
      },
      "source": [
        "#fazendo a leitura do aquivo csv, definindo o formato, o separador e o cabeçalho vazio.\n",
        "fem_por_raca=pd.read_csv('/content/feminicidios_raca.csv',encoding='latin-1',sep='/t',header=None)\n",
        "fem_por_raca.head(25)"
      ],
      "execution_count": 129,
      "outputs": [
        {
          "output_type": "stream",
          "text": [
            "/usr/local/lib/python3.6/dist-packages/ipykernel_launcher.py:2: ParserWarning: Falling back to the 'python' engine because the 'c' engine does not support regex separators (separators > 1 char and different from '\\s+' are interpreted as regex); you can avoid this warning by specifying engine='python'.\n",
            "  \n"
          ],
          "name": "stderr"
        },
        {
          "output_type": "execute_result",
          "data": {
            "text/html": [
              "<div>\n",
              "<style scoped>\n",
              "    .dataframe tbody tr th:only-of-type {\n",
              "        vertical-align: middle;\n",
              "    }\n",
              "\n",
              "    .dataframe tbody tr th {\n",
              "        vertical-align: top;\n",
              "    }\n",
              "\n",
              "    .dataframe thead th {\n",
              "        text-align: right;\n",
              "    }\n",
              "</style>\n",
              "<table border=\"1\" class=\"dataframe\">\n",
              "  <thead>\n",
              "    <tr style=\"text-align: right;\">\n",
              "      <th></th>\n",
              "      <th>0</th>\n",
              "    </tr>\n",
              "  </thead>\n",
              "  <tbody>\n",
              "    <tr>\n",
              "      <th>0</th>\n",
              "      <td>Óbitos por Causas Externas - Brasil</td>\n",
              "    </tr>\n",
              "    <tr>\n",
              "      <th>1</th>\n",
              "      <td>Óbitos p/Ocorrênc por Ano do Óbito e Cor/raça</td>\n",
              "    </tr>\n",
              "    <tr>\n",
              "      <th>2</th>\n",
              "      <td>Grande Grupo CID10: X85-Y09 Agressões</td>\n",
              "    </tr>\n",
              "    <tr>\n",
              "      <th>3</th>\n",
              "      <td>Sexo: Fem</td>\n",
              "    </tr>\n",
              "    <tr>\n",
              "      <th>4</th>\n",
              "      <td>Período:2008-2018</td>\n",
              "    </tr>\n",
              "    <tr>\n",
              "      <th>5</th>\n",
              "      <td>\"Ano do Óbito\";\"Branca\";\"Preta\";\"Amarela\";\"Par...</td>\n",
              "    </tr>\n",
              "    <tr>\n",
              "      <th>6</th>\n",
              "      <td>\"2008\";1544;279;13;1974;21;192;4023</td>\n",
              "    </tr>\n",
              "    <tr>\n",
              "      <th>7</th>\n",
              "      <td>\"2009\";1591;273;15;2143;28;210;4260</td>\n",
              "    </tr>\n",
              "    <tr>\n",
              "      <th>8</th>\n",
              "      <td>\"2010\";1590;284;12;2319;22;238;4465</td>\n",
              "    </tr>\n",
              "    <tr>\n",
              "      <th>9</th>\n",
              "      <td>\"2011\";1522;314;8;2397;23;248;4512</td>\n",
              "    </tr>\n",
              "    <tr>\n",
              "      <th>10</th>\n",
              "      <td>\"2012\";1535;369;5;2545;40;225;4719</td>\n",
              "    </tr>\n",
              "    <tr>\n",
              "      <th>11</th>\n",
              "      <td>\"2013\";1576;337;14;2538;51;246;4762</td>\n",
              "    </tr>\n",
              "    <tr>\n",
              "      <th>12</th>\n",
              "      <td>\"2014\";1569;320;7;2670;42;224;4832</td>\n",
              "    </tr>\n",
              "    <tr>\n",
              "      <th>13</th>\n",
              "      <td>\"2015\";1492;325;13;2572;34;180;4616</td>\n",
              "    </tr>\n",
              "    <tr>\n",
              "      <th>14</th>\n",
              "      <td>\"2016\";1432;329;6;2670;46;152;4635</td>\n",
              "    </tr>\n",
              "    <tr>\n",
              "      <th>15</th>\n",
              "      <td>\"2017\";1490;319;13;2963;39;104;4928</td>\n",
              "    </tr>\n",
              "    <tr>\n",
              "      <th>16</th>\n",
              "      <td>\"2018\";1301;322;9;2742;47;91;4512</td>\n",
              "    </tr>\n",
              "    <tr>\n",
              "      <th>17</th>\n",
              "      <td>\"Total\";16642;3471;115;27533;393;2110;50264</td>\n",
              "    </tr>\n",
              "    <tr>\n",
              "      <th>18</th>\n",
              "      <td>Fonte: MS/SVS/CGIAE - Sistema de Informações s...</td>\n",
              "    </tr>\n",
              "    <tr>\n",
              "      <th>19</th>\n",
              "      <td>Nota:</td>\n",
              "    </tr>\n",
              "    <tr>\n",
              "      <th>20</th>\n",
              "      <td>Em 2011, houve uma mudança no conteúdo da Decl...</td>\n",
              "    </tr>\n",
              "    <tr>\n",
              "      <th>21</th>\n",
              "      <td>utilizados simultaneamente os dois formulários...</td>\n",
              "    </tr>\n",
              "    <tr>\n",
              "      <th>22</th>\n",
              "      <td>\"Sistema de Informações sobre Mortalidade - SI...</td>\n",
              "    </tr>\n",
              "    <tr>\n",
              "      <th>23</th>\n",
              "      <td>No dia 13/06/2019, os arquivos do SIM referent...</td>\n",
              "    </tr>\n",
              "  </tbody>\n",
              "</table>\n",
              "</div>"
            ],
            "text/plain": [
              "                                                    0\n",
              "0                 Óbitos por Causas Externas - Brasil\n",
              "1       Óbitos p/Ocorrênc por Ano do Óbito e Cor/raça\n",
              "2               Grande Grupo CID10: X85-Y09 Agressões\n",
              "3                                           Sexo: Fem\n",
              "4                                   Período:2008-2018\n",
              "5   \"Ano do Óbito\";\"Branca\";\"Preta\";\"Amarela\";\"Par...\n",
              "6                 \"2008\";1544;279;13;1974;21;192;4023\n",
              "7                 \"2009\";1591;273;15;2143;28;210;4260\n",
              "8                 \"2010\";1590;284;12;2319;22;238;4465\n",
              "9                  \"2011\";1522;314;8;2397;23;248;4512\n",
              "10                 \"2012\";1535;369;5;2545;40;225;4719\n",
              "11                \"2013\";1576;337;14;2538;51;246;4762\n",
              "12                 \"2014\";1569;320;7;2670;42;224;4832\n",
              "13                \"2015\";1492;325;13;2572;34;180;4616\n",
              "14                 \"2016\";1432;329;6;2670;46;152;4635\n",
              "15                \"2017\";1490;319;13;2963;39;104;4928\n",
              "16                  \"2018\";1301;322;9;2742;47;91;4512\n",
              "17        \"Total\";16642;3471;115;27533;393;2110;50264\n",
              "18  Fonte: MS/SVS/CGIAE - Sistema de Informações s...\n",
              "19                                              Nota:\n",
              "20  Em 2011, houve uma mudança no conteúdo da Decl...\n",
              "21  utilizados simultaneamente os dois formulários...\n",
              "22  \"Sistema de Informações sobre Mortalidade - SI...\n",
              "23  No dia 13/06/2019, os arquivos do SIM referent..."
            ]
          },
          "metadata": {
            "tags": []
          },
          "execution_count": 129
        }
      ]
    },
    {
      "cell_type": "markdown",
      "metadata": {
        "id": "WWp0ZF0jCPsY",
        "colab_type": "text"
      },
      "source": [
        "**- O arquivo traz os homicidios de mulheres por agressão levando em consideração a raça das vitimas no momento em que a morte fora registrada.**\n",
        "\n",
        "**- Então temos o múmero total de mulheres pardas, pretas, brancas, indigenas e amarelas que tiveram seus obitos decretados por razão de agressão em cada ano da série.**\n",
        "\n",
        "**- Entretanto vemos que é necessário fazer alguns tratamentos na leitura do DATASET; vamos então definir no código abaixo os cabeçalhos do DATASET no momento da leitura do arquivo, escolher o separador dos dados e excluir as linhas indesejadas.**"
      ]
    },
    {
      "cell_type": "code",
      "metadata": {
        "id": "Ln63xXsmHMzB",
        "colab_type": "code",
        "colab": {
          "base_uri": "https://localhost:8080/",
          "height": 478
        },
        "outputId": "36bc90b8-d7aa-4b85-f3c4-3b4390b969cf"
      },
      "source": [
        "#fazendo a leitura do aquivo csv, definindo o formato, separador e as colunas do DATASET\n",
        "fem_por_raca=pd.read_csv('/content/feminicidios_raca.csv',encoding='latin-1',sep=';',header=None,\n",
        "                         names=['Ano','Branca','Preta','Amarela','Parda','Indigena','Ignorado','Total'])\n",
        "fem_por_raca.head(15)"
      ],
      "execution_count": 130,
      "outputs": [
        {
          "output_type": "execute_result",
          "data": {
            "text/html": [
              "<div>\n",
              "<style scoped>\n",
              "    .dataframe tbody tr th:only-of-type {\n",
              "        vertical-align: middle;\n",
              "    }\n",
              "\n",
              "    .dataframe tbody tr th {\n",
              "        vertical-align: top;\n",
              "    }\n",
              "\n",
              "    .dataframe thead th {\n",
              "        text-align: right;\n",
              "    }\n",
              "</style>\n",
              "<table border=\"1\" class=\"dataframe\">\n",
              "  <thead>\n",
              "    <tr style=\"text-align: right;\">\n",
              "      <th></th>\n",
              "      <th>Ano</th>\n",
              "      <th>Branca</th>\n",
              "      <th>Preta</th>\n",
              "      <th>Amarela</th>\n",
              "      <th>Parda</th>\n",
              "      <th>Indigena</th>\n",
              "      <th>Ignorado</th>\n",
              "      <th>Total</th>\n",
              "    </tr>\n",
              "  </thead>\n",
              "  <tbody>\n",
              "    <tr>\n",
              "      <th>0</th>\n",
              "      <td>Óbitos por Causas Externas - Brasil</td>\n",
              "      <td>NaN</td>\n",
              "      <td>NaN</td>\n",
              "      <td>NaN</td>\n",
              "      <td>NaN</td>\n",
              "      <td>NaN</td>\n",
              "      <td>NaN</td>\n",
              "      <td>NaN</td>\n",
              "    </tr>\n",
              "    <tr>\n",
              "      <th>1</th>\n",
              "      <td>Óbitos p/Ocorrênc por Ano do Óbito e Cor/raça</td>\n",
              "      <td>NaN</td>\n",
              "      <td>NaN</td>\n",
              "      <td>NaN</td>\n",
              "      <td>NaN</td>\n",
              "      <td>NaN</td>\n",
              "      <td>NaN</td>\n",
              "      <td>NaN</td>\n",
              "    </tr>\n",
              "    <tr>\n",
              "      <th>2</th>\n",
              "      <td>Grande Grupo CID10: X85-Y09 Agressões</td>\n",
              "      <td>NaN</td>\n",
              "      <td>NaN</td>\n",
              "      <td>NaN</td>\n",
              "      <td>NaN</td>\n",
              "      <td>NaN</td>\n",
              "      <td>NaN</td>\n",
              "      <td>NaN</td>\n",
              "    </tr>\n",
              "    <tr>\n",
              "      <th>3</th>\n",
              "      <td>Sexo: Fem</td>\n",
              "      <td>NaN</td>\n",
              "      <td>NaN</td>\n",
              "      <td>NaN</td>\n",
              "      <td>NaN</td>\n",
              "      <td>NaN</td>\n",
              "      <td>NaN</td>\n",
              "      <td>NaN</td>\n",
              "    </tr>\n",
              "    <tr>\n",
              "      <th>4</th>\n",
              "      <td>Período:2008-2018</td>\n",
              "      <td>NaN</td>\n",
              "      <td>NaN</td>\n",
              "      <td>NaN</td>\n",
              "      <td>NaN</td>\n",
              "      <td>NaN</td>\n",
              "      <td>NaN</td>\n",
              "      <td>NaN</td>\n",
              "    </tr>\n",
              "    <tr>\n",
              "      <th>5</th>\n",
              "      <td>Ano do Óbito</td>\n",
              "      <td>Branca</td>\n",
              "      <td>Preta</td>\n",
              "      <td>Amarela</td>\n",
              "      <td>Parda</td>\n",
              "      <td>Indígena</td>\n",
              "      <td>Ignorado</td>\n",
              "      <td>Total</td>\n",
              "    </tr>\n",
              "    <tr>\n",
              "      <th>6</th>\n",
              "      <td>2008</td>\n",
              "      <td>1544</td>\n",
              "      <td>279</td>\n",
              "      <td>13</td>\n",
              "      <td>1974</td>\n",
              "      <td>21</td>\n",
              "      <td>192</td>\n",
              "      <td>4023</td>\n",
              "    </tr>\n",
              "    <tr>\n",
              "      <th>7</th>\n",
              "      <td>2009</td>\n",
              "      <td>1591</td>\n",
              "      <td>273</td>\n",
              "      <td>15</td>\n",
              "      <td>2143</td>\n",
              "      <td>28</td>\n",
              "      <td>210</td>\n",
              "      <td>4260</td>\n",
              "    </tr>\n",
              "    <tr>\n",
              "      <th>8</th>\n",
              "      <td>2010</td>\n",
              "      <td>1590</td>\n",
              "      <td>284</td>\n",
              "      <td>12</td>\n",
              "      <td>2319</td>\n",
              "      <td>22</td>\n",
              "      <td>238</td>\n",
              "      <td>4465</td>\n",
              "    </tr>\n",
              "    <tr>\n",
              "      <th>9</th>\n",
              "      <td>2011</td>\n",
              "      <td>1522</td>\n",
              "      <td>314</td>\n",
              "      <td>8</td>\n",
              "      <td>2397</td>\n",
              "      <td>23</td>\n",
              "      <td>248</td>\n",
              "      <td>4512</td>\n",
              "    </tr>\n",
              "    <tr>\n",
              "      <th>10</th>\n",
              "      <td>2012</td>\n",
              "      <td>1535</td>\n",
              "      <td>369</td>\n",
              "      <td>5</td>\n",
              "      <td>2545</td>\n",
              "      <td>40</td>\n",
              "      <td>225</td>\n",
              "      <td>4719</td>\n",
              "    </tr>\n",
              "    <tr>\n",
              "      <th>11</th>\n",
              "      <td>2013</td>\n",
              "      <td>1576</td>\n",
              "      <td>337</td>\n",
              "      <td>14</td>\n",
              "      <td>2538</td>\n",
              "      <td>51</td>\n",
              "      <td>246</td>\n",
              "      <td>4762</td>\n",
              "    </tr>\n",
              "    <tr>\n",
              "      <th>12</th>\n",
              "      <td>2014</td>\n",
              "      <td>1569</td>\n",
              "      <td>320</td>\n",
              "      <td>7</td>\n",
              "      <td>2670</td>\n",
              "      <td>42</td>\n",
              "      <td>224</td>\n",
              "      <td>4832</td>\n",
              "    </tr>\n",
              "    <tr>\n",
              "      <th>13</th>\n",
              "      <td>2015</td>\n",
              "      <td>1492</td>\n",
              "      <td>325</td>\n",
              "      <td>13</td>\n",
              "      <td>2572</td>\n",
              "      <td>34</td>\n",
              "      <td>180</td>\n",
              "      <td>4616</td>\n",
              "    </tr>\n",
              "    <tr>\n",
              "      <th>14</th>\n",
              "      <td>2016</td>\n",
              "      <td>1432</td>\n",
              "      <td>329</td>\n",
              "      <td>6</td>\n",
              "      <td>2670</td>\n",
              "      <td>46</td>\n",
              "      <td>152</td>\n",
              "      <td>4635</td>\n",
              "    </tr>\n",
              "  </tbody>\n",
              "</table>\n",
              "</div>"
            ],
            "text/plain": [
              "                                              Ano  Branca  ...  Ignorado  Total\n",
              "0             Óbitos por Causas Externas - Brasil     NaN  ...       NaN    NaN\n",
              "1   Óbitos p/Ocorrênc por Ano do Óbito e Cor/raça     NaN  ...       NaN    NaN\n",
              "2           Grande Grupo CID10: X85-Y09 Agressões     NaN  ...       NaN    NaN\n",
              "3                                       Sexo: Fem     NaN  ...       NaN    NaN\n",
              "4                               Período:2008-2018     NaN  ...       NaN    NaN\n",
              "5                                    Ano do Óbito  Branca  ...  Ignorado  Total\n",
              "6                                            2008    1544  ...       192   4023\n",
              "7                                            2009    1591  ...       210   4260\n",
              "8                                            2010    1590  ...       238   4465\n",
              "9                                            2011    1522  ...       248   4512\n",
              "10                                           2012    1535  ...       225   4719\n",
              "11                                           2013    1576  ...       246   4762\n",
              "12                                           2014    1569  ...       224   4832\n",
              "13                                           2015    1492  ...       180   4616\n",
              "14                                           2016    1432  ...       152   4635\n",
              "\n",
              "[15 rows x 8 columns]"
            ]
          },
          "metadata": {
            "tags": []
          },
          "execution_count": 130
        }
      ]
    },
    {
      "cell_type": "code",
      "metadata": {
        "id": "qhlxGG6ZIMkQ",
        "colab_type": "code",
        "colab": {
          "base_uri": "https://localhost:8080/",
          "height": 363
        },
        "outputId": "c392e5c4-2fcf-4af7-e0e0-50f882295298"
      },
      "source": [
        "#dropando as linhas indesejadas\n",
        "fem_por_raca=fem_por_raca.drop([0,1,2,3,4,5,17,18,19,20,21,22,23],axis=0)\n",
        "fem_por_raca.head(15)"
      ],
      "execution_count": 131,
      "outputs": [
        {
          "output_type": "execute_result",
          "data": {
            "text/html": [
              "<div>\n",
              "<style scoped>\n",
              "    .dataframe tbody tr th:only-of-type {\n",
              "        vertical-align: middle;\n",
              "    }\n",
              "\n",
              "    .dataframe tbody tr th {\n",
              "        vertical-align: top;\n",
              "    }\n",
              "\n",
              "    .dataframe thead th {\n",
              "        text-align: right;\n",
              "    }\n",
              "</style>\n",
              "<table border=\"1\" class=\"dataframe\">\n",
              "  <thead>\n",
              "    <tr style=\"text-align: right;\">\n",
              "      <th></th>\n",
              "      <th>Ano</th>\n",
              "      <th>Branca</th>\n",
              "      <th>Preta</th>\n",
              "      <th>Amarela</th>\n",
              "      <th>Parda</th>\n",
              "      <th>Indigena</th>\n",
              "      <th>Ignorado</th>\n",
              "      <th>Total</th>\n",
              "    </tr>\n",
              "  </thead>\n",
              "  <tbody>\n",
              "    <tr>\n",
              "      <th>6</th>\n",
              "      <td>2008</td>\n",
              "      <td>1544</td>\n",
              "      <td>279</td>\n",
              "      <td>13</td>\n",
              "      <td>1974</td>\n",
              "      <td>21</td>\n",
              "      <td>192</td>\n",
              "      <td>4023</td>\n",
              "    </tr>\n",
              "    <tr>\n",
              "      <th>7</th>\n",
              "      <td>2009</td>\n",
              "      <td>1591</td>\n",
              "      <td>273</td>\n",
              "      <td>15</td>\n",
              "      <td>2143</td>\n",
              "      <td>28</td>\n",
              "      <td>210</td>\n",
              "      <td>4260</td>\n",
              "    </tr>\n",
              "    <tr>\n",
              "      <th>8</th>\n",
              "      <td>2010</td>\n",
              "      <td>1590</td>\n",
              "      <td>284</td>\n",
              "      <td>12</td>\n",
              "      <td>2319</td>\n",
              "      <td>22</td>\n",
              "      <td>238</td>\n",
              "      <td>4465</td>\n",
              "    </tr>\n",
              "    <tr>\n",
              "      <th>9</th>\n",
              "      <td>2011</td>\n",
              "      <td>1522</td>\n",
              "      <td>314</td>\n",
              "      <td>8</td>\n",
              "      <td>2397</td>\n",
              "      <td>23</td>\n",
              "      <td>248</td>\n",
              "      <td>4512</td>\n",
              "    </tr>\n",
              "    <tr>\n",
              "      <th>10</th>\n",
              "      <td>2012</td>\n",
              "      <td>1535</td>\n",
              "      <td>369</td>\n",
              "      <td>5</td>\n",
              "      <td>2545</td>\n",
              "      <td>40</td>\n",
              "      <td>225</td>\n",
              "      <td>4719</td>\n",
              "    </tr>\n",
              "    <tr>\n",
              "      <th>11</th>\n",
              "      <td>2013</td>\n",
              "      <td>1576</td>\n",
              "      <td>337</td>\n",
              "      <td>14</td>\n",
              "      <td>2538</td>\n",
              "      <td>51</td>\n",
              "      <td>246</td>\n",
              "      <td>4762</td>\n",
              "    </tr>\n",
              "    <tr>\n",
              "      <th>12</th>\n",
              "      <td>2014</td>\n",
              "      <td>1569</td>\n",
              "      <td>320</td>\n",
              "      <td>7</td>\n",
              "      <td>2670</td>\n",
              "      <td>42</td>\n",
              "      <td>224</td>\n",
              "      <td>4832</td>\n",
              "    </tr>\n",
              "    <tr>\n",
              "      <th>13</th>\n",
              "      <td>2015</td>\n",
              "      <td>1492</td>\n",
              "      <td>325</td>\n",
              "      <td>13</td>\n",
              "      <td>2572</td>\n",
              "      <td>34</td>\n",
              "      <td>180</td>\n",
              "      <td>4616</td>\n",
              "    </tr>\n",
              "    <tr>\n",
              "      <th>14</th>\n",
              "      <td>2016</td>\n",
              "      <td>1432</td>\n",
              "      <td>329</td>\n",
              "      <td>6</td>\n",
              "      <td>2670</td>\n",
              "      <td>46</td>\n",
              "      <td>152</td>\n",
              "      <td>4635</td>\n",
              "    </tr>\n",
              "    <tr>\n",
              "      <th>15</th>\n",
              "      <td>2017</td>\n",
              "      <td>1490</td>\n",
              "      <td>319</td>\n",
              "      <td>13</td>\n",
              "      <td>2963</td>\n",
              "      <td>39</td>\n",
              "      <td>104</td>\n",
              "      <td>4928</td>\n",
              "    </tr>\n",
              "    <tr>\n",
              "      <th>16</th>\n",
              "      <td>2018</td>\n",
              "      <td>1301</td>\n",
              "      <td>322</td>\n",
              "      <td>9</td>\n",
              "      <td>2742</td>\n",
              "      <td>47</td>\n",
              "      <td>91</td>\n",
              "      <td>4512</td>\n",
              "    </tr>\n",
              "  </tbody>\n",
              "</table>\n",
              "</div>"
            ],
            "text/plain": [
              "     Ano Branca Preta Amarela Parda Indigena Ignorado Total\n",
              "6   2008   1544   279      13  1974       21      192  4023\n",
              "7   2009   1591   273      15  2143       28      210  4260\n",
              "8   2010   1590   284      12  2319       22      238  4465\n",
              "9   2011   1522   314       8  2397       23      248  4512\n",
              "10  2012   1535   369       5  2545       40      225  4719\n",
              "11  2013   1576   337      14  2538       51      246  4762\n",
              "12  2014   1569   320       7  2670       42      224  4832\n",
              "13  2015   1492   325      13  2572       34      180  4616\n",
              "14  2016   1432   329       6  2670       46      152  4635\n",
              "15  2017   1490   319      13  2963       39      104  4928\n",
              "16  2018   1301   322       9  2742       47       91  4512"
            ]
          },
          "metadata": {
            "tags": []
          },
          "execution_count": 131
        }
      ]
    },
    {
      "cell_type": "markdown",
      "metadata": {
        "id": "g-69dso9Kz6K",
        "colab_type": "text"
      },
      "source": [
        "**O DataSet traz em sua ultima coluna anualmente os dados totais de homicidios de mulheres por qualquer tipo de agressão ocorridos no Brasil durante os anos de 2008 a 2018, registrando nas colunas anteriores os totais de casos em que as vitimas eram autodeclaradas como brancas, pretas, amarelas, pardas, indígenas ou os casos em que a raça das vítimas foram ignoradas nos registros.**\n",
        "\n",
        "\n",
        "**Observamos, em um pirmeiro momento, que as três raças com mais registros dessas mortes em todos os anos foram a das mulheres autodeclaradas como Pardas, Brancas e pretas, nesta ordem decrescente.**"
      ]
    },
    {
      "cell_type": "code",
      "metadata": {
        "id": "Q-jOmn5fW19-",
        "colab_type": "code",
        "colab": {
          "base_uri": "https://localhost:8080/",
          "height": 163
        },
        "outputId": "5c0aba12-6125-4e41-ccbf-fc874fd835f6"
      },
      "source": [
        "#conhecendo o formato com que os dados foram tratados\n",
        "fem_por_raca.dtypes"
      ],
      "execution_count": 132,
      "outputs": [
        {
          "output_type": "execute_result",
          "data": {
            "text/plain": [
              "Ano         object\n",
              "Branca      object\n",
              "Preta       object\n",
              "Amarela     object\n",
              "Parda       object\n",
              "Indigena    object\n",
              "Ignorado    object\n",
              "Total       object\n",
              "dtype: object"
            ]
          },
          "metadata": {
            "tags": []
          },
          "execution_count": 132
        }
      ]
    },
    {
      "cell_type": "code",
      "metadata": {
        "id": "C12bbuYheoL9",
        "colab_type": "code",
        "colab": {
          "base_uri": "https://localhost:8080/",
          "height": 163
        },
        "outputId": "0df74196-cd3d-40ff-da55-7955d0191552"
      },
      "source": [
        "#verifca-se que as colunas trazem conjuntos de strings, mesmo com os dados escritos em formato numérico.\n",
        "#transformando todo o  DataSet em séries de numeros inteiros.\n",
        "fem_por_raca=fem_por_raca.astype(int)\n",
        "#visualizando a alteração\n",
        "fem_por_raca.dtypes"
      ],
      "execution_count": 133,
      "outputs": [
        {
          "output_type": "execute_result",
          "data": {
            "text/plain": [
              "Ano         int64\n",
              "Branca      int64\n",
              "Preta       int64\n",
              "Amarela     int64\n",
              "Parda       int64\n",
              "Indigena    int64\n",
              "Ignorado    int64\n",
              "Total       int64\n",
              "dtype: object"
            ]
          },
          "metadata": {
            "tags": []
          },
          "execution_count": 133
        }
      ]
    },
    {
      "cell_type": "markdown",
      "metadata": {
        "id": "2DBa30PTKEEb",
        "colab_type": "text"
      },
      "source": [
        "**Para melhor visualização e compreensão dos dados, iremos separar todo o Dataset em dois grupos: as mulheres vítimas de raça negra, que será a soma das mulheres autodeclaradas como pardas e pretas, e as mulheres vitimas de raça branca ou outra raça, que somarão o grupo das vitimas autodeclaradas como brancas, indígenas e amarelas.**"
      ]
    },
    {
      "cell_type": "code",
      "metadata": {
        "id": "PheGu0wj6PfW",
        "colab_type": "code",
        "colab": {
          "base_uri": "https://localhost:8080/",
          "height": 191
        },
        "outputId": "9098c1ce-5fec-419d-9a60-fc3d1d757fb9"
      },
      "source": [
        "#somando as raças para criarmos duas colunas com novas listas: 'vitimas_negras' e 'vitimas_outras_raças'\n",
        "fem_por_raca['vitimas_negras']=fem_por_raca['Branca']+fem_por_raca['Amarela']+fem_por_raca['Indigena']\n",
        "fem_por_raca['vitimas_outras_raças']=fem_por_raca['Parda']+fem_por_raca['Preta']\n",
        "\n",
        "#excluindo as antigas colunas não mais necessárias para a análise\n",
        "fem_por_raca=fem_por_raca.drop(columns=['Branca','Parda','Preta','Amarela','Indigena','Ignorado','Total'])\n",
        "fem_por_raca.head()"
      ],
      "execution_count": 134,
      "outputs": [
        {
          "output_type": "execute_result",
          "data": {
            "text/html": [
              "<div>\n",
              "<style scoped>\n",
              "    .dataframe tbody tr th:only-of-type {\n",
              "        vertical-align: middle;\n",
              "    }\n",
              "\n",
              "    .dataframe tbody tr th {\n",
              "        vertical-align: top;\n",
              "    }\n",
              "\n",
              "    .dataframe thead th {\n",
              "        text-align: right;\n",
              "    }\n",
              "</style>\n",
              "<table border=\"1\" class=\"dataframe\">\n",
              "  <thead>\n",
              "    <tr style=\"text-align: right;\">\n",
              "      <th></th>\n",
              "      <th>Ano</th>\n",
              "      <th>vitimas_negras</th>\n",
              "      <th>vitimas_outras_raças</th>\n",
              "    </tr>\n",
              "  </thead>\n",
              "  <tbody>\n",
              "    <tr>\n",
              "      <th>6</th>\n",
              "      <td>2008</td>\n",
              "      <td>1578</td>\n",
              "      <td>2253</td>\n",
              "    </tr>\n",
              "    <tr>\n",
              "      <th>7</th>\n",
              "      <td>2009</td>\n",
              "      <td>1634</td>\n",
              "      <td>2416</td>\n",
              "    </tr>\n",
              "    <tr>\n",
              "      <th>8</th>\n",
              "      <td>2010</td>\n",
              "      <td>1624</td>\n",
              "      <td>2603</td>\n",
              "    </tr>\n",
              "    <tr>\n",
              "      <th>9</th>\n",
              "      <td>2011</td>\n",
              "      <td>1553</td>\n",
              "      <td>2711</td>\n",
              "    </tr>\n",
              "    <tr>\n",
              "      <th>10</th>\n",
              "      <td>2012</td>\n",
              "      <td>1580</td>\n",
              "      <td>2914</td>\n",
              "    </tr>\n",
              "  </tbody>\n",
              "</table>\n",
              "</div>"
            ],
            "text/plain": [
              "     Ano  vitimas_negras  vitimas_outras_raças\n",
              "6   2008            1578                  2253\n",
              "7   2009            1634                  2416\n",
              "8   2010            1624                  2603\n",
              "9   2011            1553                  2711\n",
              "10  2012            1580                  2914"
            ]
          },
          "metadata": {
            "tags": []
          },
          "execution_count": 134
        }
      ]
    },
    {
      "cell_type": "markdown",
      "metadata": {
        "id": "-t4jRxH5dg_u",
        "colab_type": "text"
      },
      "source": [
        "**No próximo passo criarei no DATASET uma coluna com o total de mortes em cada ano, ou seja, a soma dos homicidios por agressão de mulheres negras e outras raças, pois a última coluna com esse dado levava em conta os casos ignorados.**"
      ]
    },
    {
      "cell_type": "code",
      "metadata": {
        "id": "9ukoyeKYnHXo",
        "colab_type": "code",
        "colab": {
          "base_uri": "https://localhost:8080/",
          "height": 191
        },
        "outputId": "046dae0e-70a7-4f2d-deb1-08ef65d583f2"
      },
      "source": [
        "#criando uma lista que recebera todas series de 'fem_por_raca' e logo depois removendo a coluna 'ano', que não iremos usar.\n",
        "lista_colunas=list(fem_por_raca)\n",
        "lista_colunas.remove('Ano')\n",
        "#adicionando essa lista ao DataSet na variável 'Total', que por sua vez, leva a soma de cada linha das vítimas negras e de outras raças. \n",
        "fem_por_raca['Total']=fem_por_raca[lista_colunas].sum(axis=1)\n",
        "fem_por_raca.head()"
      ],
      "execution_count": 135,
      "outputs": [
        {
          "output_type": "execute_result",
          "data": {
            "text/html": [
              "<div>\n",
              "<style scoped>\n",
              "    .dataframe tbody tr th:only-of-type {\n",
              "        vertical-align: middle;\n",
              "    }\n",
              "\n",
              "    .dataframe tbody tr th {\n",
              "        vertical-align: top;\n",
              "    }\n",
              "\n",
              "    .dataframe thead th {\n",
              "        text-align: right;\n",
              "    }\n",
              "</style>\n",
              "<table border=\"1\" class=\"dataframe\">\n",
              "  <thead>\n",
              "    <tr style=\"text-align: right;\">\n",
              "      <th></th>\n",
              "      <th>Ano</th>\n",
              "      <th>vitimas_negras</th>\n",
              "      <th>vitimas_outras_raças</th>\n",
              "      <th>Total</th>\n",
              "    </tr>\n",
              "  </thead>\n",
              "  <tbody>\n",
              "    <tr>\n",
              "      <th>6</th>\n",
              "      <td>2008</td>\n",
              "      <td>1578</td>\n",
              "      <td>2253</td>\n",
              "      <td>3831</td>\n",
              "    </tr>\n",
              "    <tr>\n",
              "      <th>7</th>\n",
              "      <td>2009</td>\n",
              "      <td>1634</td>\n",
              "      <td>2416</td>\n",
              "      <td>4050</td>\n",
              "    </tr>\n",
              "    <tr>\n",
              "      <th>8</th>\n",
              "      <td>2010</td>\n",
              "      <td>1624</td>\n",
              "      <td>2603</td>\n",
              "      <td>4227</td>\n",
              "    </tr>\n",
              "    <tr>\n",
              "      <th>9</th>\n",
              "      <td>2011</td>\n",
              "      <td>1553</td>\n",
              "      <td>2711</td>\n",
              "      <td>4264</td>\n",
              "    </tr>\n",
              "    <tr>\n",
              "      <th>10</th>\n",
              "      <td>2012</td>\n",
              "      <td>1580</td>\n",
              "      <td>2914</td>\n",
              "      <td>4494</td>\n",
              "    </tr>\n",
              "  </tbody>\n",
              "</table>\n",
              "</div>"
            ],
            "text/plain": [
              "     Ano  vitimas_negras  vitimas_outras_raças  Total\n",
              "6   2008            1578                  2253   3831\n",
              "7   2009            1634                  2416   4050\n",
              "8   2010            1624                  2603   4227\n",
              "9   2011            1553                  2711   4264\n",
              "10  2012            1580                  2914   4494"
            ]
          },
          "metadata": {
            "tags": []
          },
          "execution_count": 135
        }
      ]
    },
    {
      "cell_type": "markdown",
      "metadata": {
        "id": "V1fvwgicfjyx",
        "colab_type": "text"
      },
      "source": [
        "\n",
        "**Vamos então visualizar as trajetorias das mortes desses dois grupos de mulheres.**\n",
        "\n",
        "**Primeiramente vamos ver quantas mortes por grupo racial foram registradas nessa série decenal em sua totalidade.**"
      ]
    },
    {
      "cell_type": "code",
      "metadata": {
        "id": "QsIM3SewxMx-",
        "colab_type": "code",
        "colab": {
          "base_uri": "https://localhost:8080/",
          "height": 50
        },
        "outputId": "8a578891-e525-4714-d482-e799506dbee2"
      },
      "source": [
        "print('Nos dez anos de observação desses dados foram registrados',(fem_por_raca.vitimas_negras.sum()),'homicidios por agressão de mulheres negras.')\n",
        "print('Para o grupo de mulheres brancas/indigenas/amarelas foram registrados',(fem_por_raca.vitimas_outras_raças.sum()), 'homicidios por agressão.')"
      ],
      "execution_count": 136,
      "outputs": [
        {
          "output_type": "stream",
          "text": [
            "Nos dez anos de observação desses dados foram registrados 17150 homicidios por agressão de mulheres negras.\n",
            "Para o grupo de mulheres brancas/indigenas/amarelas foram registrados 31004 homicidios por agressão.\n"
          ],
          "name": "stdout"
        }
      ]
    },
    {
      "cell_type": "markdown",
      "metadata": {
        "id": "9QcMz6H9MdXu",
        "colab_type": "text"
      },
      "source": [
        "#**As mulheres negras morrem mais, compõem 64% do total de homicídios por agressão registrados em nosso sistema durante a série decenal.**"
      ]
    },
    {
      "cell_type": "markdown",
      "metadata": {
        "id": "tLNvdzdKX5VD",
        "colab_type": "text"
      },
      "source": [
        "**Abaixo conseguimos visualizar graficamente essa disparidade.**\n",
        "\n",
        "**Observamos uma forte tendência de aumento dos homicídios de mulheres negras ao longo dos anos, enquanto que para o grupo de mulheres de outras raças, observa-se uma leve tendência de queda.**"
      ]
    },
    {
      "cell_type": "code",
      "metadata": {
        "id": "z9hQUAWmAQjN",
        "colab_type": "code",
        "colab": {
          "base_uri": "https://localhost:8080/",
          "height": 311
        },
        "outputId": "bfbc7654-cf18-47e5-d6cd-8f8267c9af81"
      },
      "source": [
        "#definindo o eixo X - os anos de observação\n",
        "x=[2008,2009,2010,2011,2012,2013,2014,2015,2016,2017,2018]\n",
        "\n",
        "#definindo as variaveis do eixo Y: os homicídios por agressão de mulheres negras e os homicídios por agressão de mulheres de outras raças.\n",
        "y1=fem_por_raca.vitimas_negras\n",
        "y2=fem_por_raca.vitimas_outras_raças\n",
        "\n",
        "#plotando as duas trajetórias\n",
        "\n",
        "figura=plt.figure(figsize=(7,4))\n",
        "figura=plt.plot(x,y1,ls='-',label='Mulheres brancas/indigenas/amarelas')\n",
        "plt.plot(x,y2,ls='-',label='Mulheres negras')\n",
        "plt.title('Homicidios anuais de mulheres discriminados por raça/ 2008 a 2018')\n",
        "plt.xlabel('Anos')\n",
        "plt.ylabel('Homicidios de mulheres por agressão')\n",
        "\n",
        "plt.legend()\n"
      ],
      "execution_count": 153,
      "outputs": [
        {
          "output_type": "execute_result",
          "data": {
            "text/plain": [
              "<matplotlib.legend.Legend at 0x7f639bbf0898>"
            ]
          },
          "metadata": {
            "tags": []
          },
          "execution_count": 153
        },
        {
          "output_type": "display_data",
          "data": {
            "image/png": "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\n",
            "text/plain": [
              "<Figure size 504x288 with 1 Axes>"
            ]
          },
          "metadata": {
            "tags": [],
            "needs_background": "light"
          }
        }
      ]
    },
    {
      "cell_type": "markdown",
      "metadata": {
        "id": "W5T8TpFkNU_6",
        "colab_type": "text"
      },
      "source": [
        "**Importante ressaltar que observar os dados com tais discriminações tem um único objetivo: nos questionarmos! Pois o fato é que ao longo dos anos as autoridades brasileiras vem implementando diversas medidas para diminuir suas taxas de feminicídio, o que é importante, mas observar tais dados nos incita a questionar se essas tomadas de decisão estão sendo universalizadas para todos os grupos de mulheres.**
        
        "** É dessa forma que podemos cobrar mudanças ou melhorias de políticas, programas e leis públicas que tratam do tema.**\n",
        "\n",
   
      ]
    },
    {
      "cell_type": "markdown",
      "metadata": {
        "id": "A1589T2AHMkT",
        "colab_type": "text"
      },
      "source": [
        "**Outras considerações**\n",
        "\n",
        "**Não se sabe se essas trajetórias de crescimento das taxas de homicídio por agressão refletem um real aumento das taxas de feminicídio, uma vez que a classificação internacional de doenças (CID), utilizada pelo Ministério da Saúde para gerar os dados, não lida com questões de tipificação legal dos crimes e muito menos com a motivação que gerou a agressão ocorrida de morte. Além disso, o aumento dos registros pode refletir efetivamente um aumento do número de casos ou uma diminuição das subnotificações por parte das polícias, que são os responsáveis por gerarem os dados locais.**\n",
        "\n",
        "**Entretanto, microdados da saúde disponíveis a sociedade que indicam o número de mortes violentas intencionais dentro das residências das próprias vítimas é uma boa proxy para medir o feminicídio, uma vez que a literatura internacional reconhece que a maioria dessas mortes violentas dentro das residências são perpetradas por conhecidos ou íntimos das vítimas. E mesmo que o numero real de feminicídios não seja igual ao número de mulheres mortas dentro das residências, uma vez que muitas das ocorrências ocorrem fora das residências, tal proxy pode servir como base para a evolução das taxas de feminicídio no país.**\n",
        "\n",
        "**Vamos então analisar esses dados.**"
      ]
    },
    {
      "cell_type": "code",
      "metadata": {
        "id": "uV3Qwn4y280u",
        "colab_type": "code",
        "colab": {
          "base_uri": "https://localhost:8080/",
          "height": 593
        },
        "outputId": "e623e0af-5fa3-4f61-a48c-2d6ac46b4004"
      },
      "source": [
        "#lendo o banco de dados, definindo a leitura do dataset em forma de dados tabulares, versão latino americana e sem um cabeçalho\n",
        "fem_por_local=pd.read_csv('/content/fem_por_local.csv',encoding='latin-1',sep='\\t',header=None)\n",
        "fem_por_local.head(20)"
      ],
      "execution_count": 138,
      "outputs": [
        {
          "output_type": "execute_result",
          "data": {
            "text/html": [
              "<div>\n",
              "<style scoped>\n",
              "    .dataframe tbody tr th:only-of-type {\n",
              "        vertical-align: middle;\n",
              "    }\n",
              "\n",
              "    .dataframe tbody tr th {\n",
              "        vertical-align: top;\n",
              "    }\n",
              "\n",
              "    .dataframe thead th {\n",
              "        text-align: right;\n",
              "    }\n",
              "</style>\n",
              "<table border=\"1\" class=\"dataframe\">\n",
              "  <thead>\n",
              "    <tr style=\"text-align: right;\">\n",
              "      <th></th>\n",
              "      <th>0</th>\n",
              "    </tr>\n",
              "  </thead>\n",
              "  <tbody>\n",
              "    <tr>\n",
              "      <th>0</th>\n",
              "      <td>Óbitos por Causas Externas - Brasil</td>\n",
              "    </tr>\n",
              "    <tr>\n",
              "      <th>1</th>\n",
              "      <td>Óbitos p/Residênc por Local ocorrência e Ano d...</td>\n",
              "    </tr>\n",
              "    <tr>\n",
              "      <th>2</th>\n",
              "      <td>Grande Grupo CID10: X85-Y09 Agressões</td>\n",
              "    </tr>\n",
              "    <tr>\n",
              "      <th>3</th>\n",
              "      <td>Sexo: Fem</td>\n",
              "    </tr>\n",
              "    <tr>\n",
              "      <th>4</th>\n",
              "      <td>Período:2008-2018</td>\n",
              "    </tr>\n",
              "    <tr>\n",
              "      <th>5</th>\n",
              "      <td>Local ocorrência;\"2008\";\"2009\";\"2010\";\"2011\";\"...</td>\n",
              "    </tr>\n",
              "    <tr>\n",
              "      <th>6</th>\n",
              "      <td>Hospital;1002;1031;1071;1028;1139;1123;1121;10...</td>\n",
              "    </tr>\n",
              "    <tr>\n",
              "      <th>7</th>\n",
              "      <td>Outro estabelecimento de saúde;58;74;61;68;87;...</td>\n",
              "    </tr>\n",
              "    <tr>\n",
              "      <th>8</th>\n",
              "      <td>Domicílio;1164;1199;1293;1295;1311;1290;1319;1...</td>\n",
              "    </tr>\n",
              "    <tr>\n",
              "      <th>9</th>\n",
              "      <td>Via pública;1179;1310;1339;1430;1405;1488;1462...</td>\n",
              "    </tr>\n",
              "    <tr>\n",
              "      <th>10</th>\n",
              "      <td>Outros;568;599;657;656;753;748;792;759;751;960...</td>\n",
              "    </tr>\n",
              "    <tr>\n",
              "      <th>11</th>\n",
              "      <td>Ignorado;52;47;44;35;24;36;41;31;37;31;15;393</td>\n",
              "    </tr>\n",
              "    <tr>\n",
              "      <th>12</th>\n",
              "      <td>Total;4023;4260;4465;4512;4719;4762;4832;4616;...</td>\n",
              "    </tr>\n",
              "    <tr>\n",
              "      <th>13</th>\n",
              "      <td>Fonte: MS/SVS/CGIAE - Sistema de Informações ...</td>\n",
              "    </tr>\n",
              "    <tr>\n",
              "      <th>14</th>\n",
              "      <td>Nota:</td>\n",
              "    </tr>\n",
              "    <tr>\n",
              "      <th>15</th>\n",
              "      <td>Em 2011, houve uma mudança no conteúdo da Dec...</td>\n",
              "    </tr>\n",
              "    <tr>\n",
              "      <th>16</th>\n",
              "      <td>utilizados simultaneamente os dois formulário...</td>\n",
              "    </tr>\n",
              "    <tr>\n",
              "      <th>17</th>\n",
              "      <td>\"Sistema de Informações sobre Mortalidade - S...</td>\n",
              "    </tr>\n",
              "    <tr>\n",
              "      <th>18</th>\n",
              "      <td>No dia 13/06/2019, os arquivos do SIM referen...</td>\n",
              "    </tr>\n",
              "  </tbody>\n",
              "</table>\n",
              "</div>"
            ],
            "text/plain": [
              "                                                    0\n",
              "0                 Óbitos por Causas Externas - Brasil\n",
              "1   Óbitos p/Residênc por Local ocorrência e Ano d...\n",
              "2               Grande Grupo CID10: X85-Y09 Agressões\n",
              "3                                           Sexo: Fem\n",
              "4                                   Período:2008-2018\n",
              "5   Local ocorrência;\"2008\";\"2009\";\"2010\";\"2011\";\"...\n",
              "6   Hospital;1002;1031;1071;1028;1139;1123;1121;10...\n",
              "7   Outro estabelecimento de saúde;58;74;61;68;87;...\n",
              "8   Domicílio;1164;1199;1293;1295;1311;1290;1319;1...\n",
              "9   Via pública;1179;1310;1339;1430;1405;1488;1462...\n",
              "10  Outros;568;599;657;656;753;748;792;759;751;960...\n",
              "11      Ignorado;52;47;44;35;24;36;41;31;37;31;15;393\n",
              "12  Total;4023;4260;4465;4512;4719;4762;4832;4616;...\n",
              "13   Fonte: MS/SVS/CGIAE - Sistema de Informações ...\n",
              "14                                              Nota:\n",
              "15   Em 2011, houve uma mudança no conteúdo da Dec...\n",
              "16   utilizados simultaneamente os dois formulário...\n",
              "17   \"Sistema de Informações sobre Mortalidade - S...\n",
              "18   No dia 13/06/2019, os arquivos do SIM referen..."
            ]
          },
          "metadata": {
            "tags": []
          },
          "execution_count": 138
        }
      ]
    },
    {
      "cell_type": "markdown",
      "metadata": {
        "id": "ChnLaGHiNGLw",
        "colab_type": "text"
      },
      "source": [
        "**- Antes de tratar os dados corretamente, verifica-se que cada coluna se refere a um ano de observação dos dados.**\n",
        "\n",
        "**- Já nas linhas temos o local de registro dos homicídios.**\n",
        "\n",
        "**- Logo vamos ler o arquivo de forma a definir o cabeçalho como o local das mortes e os anos de observação, definir o separador dos dados e a versão de leitura latino-americana.**"
      ]
    },
    {
      "cell_type": "code",
      "metadata": {
        "id": "zqX0wFVb3ZGc",
        "colab_type": "code",
        "colab": {
          "base_uri": "https://localhost:8080/",
          "height": 593
        },
        "outputId": "6a48711d-0ef4-454c-a57f-3fbc6d357ae4"
      },
      "source": [
        "#definindo na leitura dos dados um cabeçalho, que serão os anos de registro dessas mortes por local de ocorrência, o separador e a versão de leitura.\n",
        "fem_por_local=pd.read_csv('/content/fem_por_local.csv',encoding='latin-1',sep=';',\n",
        "                          header=None,names=['Local_morte','2008','2009','2010','2011','2012','2013','2014','2015','2016','2017','2018'])\n",
        "fem_por_local.head(20)"
      ],
      "execution_count": 140,
      "outputs": [
        {
          "output_type": "execute_result",
          "data": {
            "text/html": [
              "<div>\n",
              "<style scoped>\n",
              "    .dataframe tbody tr th:only-of-type {\n",
              "        vertical-align: middle;\n",
              "    }\n",
              "\n",
              "    .dataframe tbody tr th {\n",
              "        vertical-align: top;\n",
              "    }\n",
              "\n",
              "    .dataframe thead th {\n",
              "        text-align: right;\n",
              "    }\n",
              "</style>\n",
              "<table border=\"1\" class=\"dataframe\">\n",
              "  <thead>\n",
              "    <tr style=\"text-align: right;\">\n",
              "      <th></th>\n",
              "      <th>Local_morte</th>\n",
              "      <th>2008</th>\n",
              "      <th>2009</th>\n",
              "      <th>2010</th>\n",
              "      <th>2011</th>\n",
              "      <th>2012</th>\n",
              "      <th>2013</th>\n",
              "      <th>2014</th>\n",
              "      <th>2015</th>\n",
              "      <th>2016</th>\n",
              "      <th>2017</th>\n",
              "      <th>2018</th>\n",
              "    </tr>\n",
              "  </thead>\n",
              "  <tbody>\n",
              "    <tr>\n",
              "      <th>0</th>\n",
              "      <td>Óbitos por Causas Externas - Brasil</td>\n",
              "      <td>NaN</td>\n",
              "      <td>NaN</td>\n",
              "      <td>NaN</td>\n",
              "      <td>NaN</td>\n",
              "      <td>NaN</td>\n",
              "      <td>NaN</td>\n",
              "      <td>NaN</td>\n",
              "      <td>NaN</td>\n",
              "      <td>NaN</td>\n",
              "      <td>NaN</td>\n",
              "      <td>NaN</td>\n",
              "    </tr>\n",
              "    <tr>\n",
              "      <th>1</th>\n",
              "      <td>Óbitos p/Residênc por Local ocorrência e Ano d...</td>\n",
              "      <td>NaN</td>\n",
              "      <td>NaN</td>\n",
              "      <td>NaN</td>\n",
              "      <td>NaN</td>\n",
              "      <td>NaN</td>\n",
              "      <td>NaN</td>\n",
              "      <td>NaN</td>\n",
              "      <td>NaN</td>\n",
              "      <td>NaN</td>\n",
              "      <td>NaN</td>\n",
              "      <td>NaN</td>\n",
              "    </tr>\n",
              "    <tr>\n",
              "      <th>2</th>\n",
              "      <td>Grande Grupo CID10: X85-Y09 Agressões</td>\n",
              "      <td>NaN</td>\n",
              "      <td>NaN</td>\n",
              "      <td>NaN</td>\n",
              "      <td>NaN</td>\n",
              "      <td>NaN</td>\n",
              "      <td>NaN</td>\n",
              "      <td>NaN</td>\n",
              "      <td>NaN</td>\n",
              "      <td>NaN</td>\n",
              "      <td>NaN</td>\n",
              "      <td>NaN</td>\n",
              "    </tr>\n",
              "    <tr>\n",
              "      <th>3</th>\n",
              "      <td>Sexo: Fem</td>\n",
              "      <td>NaN</td>\n",
              "      <td>NaN</td>\n",
              "      <td>NaN</td>\n",
              "      <td>NaN</td>\n",
              "      <td>NaN</td>\n",
              "      <td>NaN</td>\n",
              "      <td>NaN</td>\n",
              "      <td>NaN</td>\n",
              "      <td>NaN</td>\n",
              "      <td>NaN</td>\n",
              "      <td>NaN</td>\n",
              "    </tr>\n",
              "    <tr>\n",
              "      <th>4</th>\n",
              "      <td>Período:2008-2018</td>\n",
              "      <td>NaN</td>\n",
              "      <td>NaN</td>\n",
              "      <td>NaN</td>\n",
              "      <td>NaN</td>\n",
              "      <td>NaN</td>\n",
              "      <td>NaN</td>\n",
              "      <td>NaN</td>\n",
              "      <td>NaN</td>\n",
              "      <td>NaN</td>\n",
              "      <td>NaN</td>\n",
              "      <td>NaN</td>\n",
              "    </tr>\n",
              "    <tr>\n",
              "      <th>5</th>\n",
              "      <td>Local ocorrência</td>\n",
              "      <td>2008.0</td>\n",
              "      <td>2009.0</td>\n",
              "      <td>2010.0</td>\n",
              "      <td>2011.0</td>\n",
              "      <td>2012.0</td>\n",
              "      <td>2013.0</td>\n",
              "      <td>2014.0</td>\n",
              "      <td>2015.0</td>\n",
              "      <td>2016.0</td>\n",
              "      <td>2017.0</td>\n",
              "      <td>2018.0</td>\n",
              "    </tr>\n",
              "    <tr>\n",
              "      <th>6</th>\n",
              "      <td>Hospital</td>\n",
              "      <td>1002.0</td>\n",
              "      <td>1031.0</td>\n",
              "      <td>1071.0</td>\n",
              "      <td>1028.0</td>\n",
              "      <td>1139.0</td>\n",
              "      <td>1123.0</td>\n",
              "      <td>1121.0</td>\n",
              "      <td>1041.0</td>\n",
              "      <td>1044.0</td>\n",
              "      <td>1022.0</td>\n",
              "      <td>905.0</td>\n",
              "    </tr>\n",
              "    <tr>\n",
              "      <th>7</th>\n",
              "      <td>Outro estabelecimento de saúde</td>\n",
              "      <td>58.0</td>\n",
              "      <td>74.0</td>\n",
              "      <td>61.0</td>\n",
              "      <td>68.0</td>\n",
              "      <td>87.0</td>\n",
              "      <td>77.0</td>\n",
              "      <td>97.0</td>\n",
              "      <td>83.0</td>\n",
              "      <td>93.0</td>\n",
              "      <td>95.0</td>\n",
              "      <td>102.0</td>\n",
              "    </tr>\n",
              "    <tr>\n",
              "      <th>8</th>\n",
              "      <td>Domicílio</td>\n",
              "      <td>1164.0</td>\n",
              "      <td>1199.0</td>\n",
              "      <td>1293.0</td>\n",
              "      <td>1295.0</td>\n",
              "      <td>1311.0</td>\n",
              "      <td>1290.0</td>\n",
              "      <td>1319.0</td>\n",
              "      <td>1307.0</td>\n",
              "      <td>1393.0</td>\n",
              "      <td>1383.0</td>\n",
              "      <td>1322.0</td>\n",
              "    </tr>\n",
              "    <tr>\n",
              "      <th>9</th>\n",
              "      <td>Via pública</td>\n",
              "      <td>1179.0</td>\n",
              "      <td>1310.0</td>\n",
              "      <td>1339.0</td>\n",
              "      <td>1430.0</td>\n",
              "      <td>1405.0</td>\n",
              "      <td>1488.0</td>\n",
              "      <td>1462.0</td>\n",
              "      <td>1395.0</td>\n",
              "      <td>1317.0</td>\n",
              "      <td>1437.0</td>\n",
              "      <td>1384.0</td>\n",
              "    </tr>\n",
              "    <tr>\n",
              "      <th>10</th>\n",
              "      <td>Outros</td>\n",
              "      <td>568.0</td>\n",
              "      <td>599.0</td>\n",
              "      <td>657.0</td>\n",
              "      <td>656.0</td>\n",
              "      <td>753.0</td>\n",
              "      <td>748.0</td>\n",
              "      <td>792.0</td>\n",
              "      <td>759.0</td>\n",
              "      <td>751.0</td>\n",
              "      <td>960.0</td>\n",
              "      <td>784.0</td>\n",
              "    </tr>\n",
              "    <tr>\n",
              "      <th>11</th>\n",
              "      <td>Ignorado</td>\n",
              "      <td>52.0</td>\n",
              "      <td>47.0</td>\n",
              "      <td>44.0</td>\n",
              "      <td>35.0</td>\n",
              "      <td>24.0</td>\n",
              "      <td>36.0</td>\n",
              "      <td>41.0</td>\n",
              "      <td>31.0</td>\n",
              "      <td>37.0</td>\n",
              "      <td>31.0</td>\n",
              "      <td>15.0</td>\n",
              "    </tr>\n",
              "    <tr>\n",
              "      <th>12</th>\n",
              "      <td>Total</td>\n",
              "      <td>4023.0</td>\n",
              "      <td>4260.0</td>\n",
              "      <td>4465.0</td>\n",
              "      <td>4512.0</td>\n",
              "      <td>4719.0</td>\n",
              "      <td>4762.0</td>\n",
              "      <td>4832.0</td>\n",
              "      <td>4616.0</td>\n",
              "      <td>4635.0</td>\n",
              "      <td>4928.0</td>\n",
              "      <td>4512.0</td>\n",
              "    </tr>\n",
              "    <tr>\n",
              "      <th>13</th>\n",
              "      <td>Fonte: MS/SVS/CGIAE - Sistema de Informações ...</td>\n",
              "      <td>NaN</td>\n",
              "      <td>NaN</td>\n",
              "      <td>NaN</td>\n",
              "      <td>NaN</td>\n",
              "      <td>NaN</td>\n",
              "      <td>NaN</td>\n",
              "      <td>NaN</td>\n",
              "      <td>NaN</td>\n",
              "      <td>NaN</td>\n",
              "      <td>NaN</td>\n",
              "      <td>NaN</td>\n",
              "    </tr>\n",
              "    <tr>\n",
              "      <th>14</th>\n",
              "      <td>Nota:</td>\n",
              "      <td>NaN</td>\n",
              "      <td>NaN</td>\n",
              "      <td>NaN</td>\n",
              "      <td>NaN</td>\n",
              "      <td>NaN</td>\n",
              "      <td>NaN</td>\n",
              "      <td>NaN</td>\n",
              "      <td>NaN</td>\n",
              "      <td>NaN</td>\n",
              "      <td>NaN</td>\n",
              "      <td>NaN</td>\n",
              "    </tr>\n",
              "    <tr>\n",
              "      <th>15</th>\n",
              "      <td>Em 2011, houve uma mudança no conteúdo da Dec...</td>\n",
              "      <td>NaN</td>\n",
              "      <td>NaN</td>\n",
              "      <td>NaN</td>\n",
              "      <td>NaN</td>\n",
              "      <td>NaN</td>\n",
              "      <td>NaN</td>\n",
              "      <td>NaN</td>\n",
              "      <td>NaN</td>\n",
              "      <td>NaN</td>\n",
              "      <td>NaN</td>\n",
              "      <td>NaN</td>\n",
              "    </tr>\n",
              "    <tr>\n",
              "      <th>16</th>\n",
              "      <td>utilizados simultaneamente os dois formulário...</td>\n",
              "      <td>NaN</td>\n",
              "      <td>NaN</td>\n",
              "      <td>NaN</td>\n",
              "      <td>NaN</td>\n",
              "      <td>NaN</td>\n",
              "      <td>NaN</td>\n",
              "      <td>NaN</td>\n",
              "      <td>NaN</td>\n",
              "      <td>NaN</td>\n",
              "      <td>NaN</td>\n",
              "      <td>NaN</td>\n",
              "    </tr>\n",
              "    <tr>\n",
              "      <th>17</th>\n",
              "      <td>\"Sistema de Informações sobre Mortalidade - S...</td>\n",
              "      <td>NaN</td>\n",
              "      <td>NaN</td>\n",
              "      <td>NaN</td>\n",
              "      <td>NaN</td>\n",
              "      <td>NaN</td>\n",
              "      <td>NaN</td>\n",
              "      <td>NaN</td>\n",
              "      <td>NaN</td>\n",
              "      <td>NaN</td>\n",
              "      <td>NaN</td>\n",
              "      <td>NaN</td>\n",
              "    </tr>\n",
              "    <tr>\n",
              "      <th>18</th>\n",
              "      <td>No dia 13/06/2019, os arquivos do SIM referen...</td>\n",
              "      <td>NaN</td>\n",
              "      <td>NaN</td>\n",
              "      <td>NaN</td>\n",
              "      <td>NaN</td>\n",
              "      <td>NaN</td>\n",
              "      <td>NaN</td>\n",
              "      <td>NaN</td>\n",
              "      <td>NaN</td>\n",
              "      <td>NaN</td>\n",
              "      <td>NaN</td>\n",
              "      <td>NaN</td>\n",
              "    </tr>\n",
              "  </tbody>\n",
              "</table>\n",
              "</div>"
            ],
            "text/plain": [
              "                                          Local_morte    2008  ...    2017    2018\n",
              "0                 Óbitos por Causas Externas - Brasil     NaN  ...     NaN     NaN\n",
              "1   Óbitos p/Residênc por Local ocorrência e Ano d...     NaN  ...     NaN     NaN\n",
              "2               Grande Grupo CID10: X85-Y09 Agressões     NaN  ...     NaN     NaN\n",
              "3                                           Sexo: Fem     NaN  ...     NaN     NaN\n",
              "4                                   Período:2008-2018     NaN  ...     NaN     NaN\n",
              "5                                    Local ocorrência  2008.0  ...  2017.0  2018.0\n",
              "6                                            Hospital  1002.0  ...  1022.0   905.0\n",
              "7                      Outro estabelecimento de saúde    58.0  ...    95.0   102.0\n",
              "8                                           Domicílio  1164.0  ...  1383.0  1322.0\n",
              "9                                         Via pública  1179.0  ...  1437.0  1384.0\n",
              "10                                             Outros   568.0  ...   960.0   784.0\n",
              "11                                           Ignorado    52.0  ...    31.0    15.0\n",
              "12                                              Total  4023.0  ...  4928.0  4512.0\n",
              "13   Fonte: MS/SVS/CGIAE - Sistema de Informações ...     NaN  ...     NaN     NaN\n",
              "14                                              Nota:     NaN  ...     NaN     NaN\n",
              "15   Em 2011, houve uma mudança no conteúdo da Dec...     NaN  ...     NaN     NaN\n",
              "16   utilizados simultaneamente os dois formulário...     NaN  ...     NaN     NaN\n",
              "17   \"Sistema de Informações sobre Mortalidade - S...     NaN  ...     NaN     NaN\n",
              "18   No dia 13/06/2019, os arquivos do SIM referen...     NaN  ...     NaN     NaN\n",
              "\n",
              "[19 rows x 12 columns]"
            ]
          },
          "metadata": {
            "tags": []
          },
          "execution_count": 140
        }
      ]
    },
    {
      "cell_type": "code",
      "metadata": {
        "id": "yaWI4g-EORGe",
        "colab_type": "code",
        "colab": {
          "base_uri": "https://localhost:8080/",
          "height": 248
        },
        "outputId": "f0b109df-01ca-47f9-a19b-44869cbbc70c"
      },
      "source": [
        "#excluindo as linhas desnecessárias a análise\n",
        "fem_por_local=fem_por_local.drop([0,1,2,3,4,5,13,14,15,16,17,18],axis=0)\n",
        "fem_por_local.head(15)"
      ],
      "execution_count": 141,
      "outputs": [
        {
          "output_type": "execute_result",
          "data": {
            "text/html": [
              "<div>\n",
              "<style scoped>\n",
              "    .dataframe tbody tr th:only-of-type {\n",
              "        vertical-align: middle;\n",
              "    }\n",
              "\n",
              "    .dataframe tbody tr th {\n",
              "        vertical-align: top;\n",
              "    }\n",
              "\n",
              "    .dataframe thead th {\n",
              "        text-align: right;\n",
              "    }\n",
              "</style>\n",
              "<table border=\"1\" class=\"dataframe\">\n",
              "  <thead>\n",
              "    <tr style=\"text-align: right;\">\n",
              "      <th></th>\n",
              "      <th>Local_morte</th>\n",
              "      <th>2008</th>\n",
              "      <th>2009</th>\n",
              "      <th>2010</th>\n",
              "      <th>2011</th>\n",
              "      <th>2012</th>\n",
              "      <th>2013</th>\n",
              "      <th>2014</th>\n",
              "      <th>2015</th>\n",
              "      <th>2016</th>\n",
              "      <th>2017</th>\n",
              "      <th>2018</th>\n",
              "    </tr>\n",
              "  </thead>\n",
              "  <tbody>\n",
              "    <tr>\n",
              "      <th>6</th>\n",
              "      <td>Hospital</td>\n",
              "      <td>1002.0</td>\n",
              "      <td>1031.0</td>\n",
              "      <td>1071.0</td>\n",
              "      <td>1028.0</td>\n",
              "      <td>1139.0</td>\n",
              "      <td>1123.0</td>\n",
              "      <td>1121.0</td>\n",
              "      <td>1041.0</td>\n",
              "      <td>1044.0</td>\n",
              "      <td>1022.0</td>\n",
              "      <td>905.0</td>\n",
              "    </tr>\n",
              "    <tr>\n",
              "      <th>7</th>\n",
              "      <td>Outro estabelecimento de saúde</td>\n",
              "      <td>58.0</td>\n",
              "      <td>74.0</td>\n",
              "      <td>61.0</td>\n",
              "      <td>68.0</td>\n",
              "      <td>87.0</td>\n",
              "      <td>77.0</td>\n",
              "      <td>97.0</td>\n",
              "      <td>83.0</td>\n",
              "      <td>93.0</td>\n",
              "      <td>95.0</td>\n",
              "      <td>102.0</td>\n",
              "    </tr>\n",
              "    <tr>\n",
              "      <th>8</th>\n",
              "      <td>Domicílio</td>\n",
              "      <td>1164.0</td>\n",
              "      <td>1199.0</td>\n",
              "      <td>1293.0</td>\n",
              "      <td>1295.0</td>\n",
              "      <td>1311.0</td>\n",
              "      <td>1290.0</td>\n",
              "      <td>1319.0</td>\n",
              "      <td>1307.0</td>\n",
              "      <td>1393.0</td>\n",
              "      <td>1383.0</td>\n",
              "      <td>1322.0</td>\n",
              "    </tr>\n",
              "    <tr>\n",
              "      <th>9</th>\n",
              "      <td>Via pública</td>\n",
              "      <td>1179.0</td>\n",
              "      <td>1310.0</td>\n",
              "      <td>1339.0</td>\n",
              "      <td>1430.0</td>\n",
              "      <td>1405.0</td>\n",
              "      <td>1488.0</td>\n",
              "      <td>1462.0</td>\n",
              "      <td>1395.0</td>\n",
              "      <td>1317.0</td>\n",
              "      <td>1437.0</td>\n",
              "      <td>1384.0</td>\n",
              "    </tr>\n",
              "    <tr>\n",
              "      <th>10</th>\n",
              "      <td>Outros</td>\n",
              "      <td>568.0</td>\n",
              "      <td>599.0</td>\n",
              "      <td>657.0</td>\n",
              "      <td>656.0</td>\n",
              "      <td>753.0</td>\n",
              "      <td>748.0</td>\n",
              "      <td>792.0</td>\n",
              "      <td>759.0</td>\n",
              "      <td>751.0</td>\n",
              "      <td>960.0</td>\n",
              "      <td>784.0</td>\n",
              "    </tr>\n",
              "    <tr>\n",
              "      <th>11</th>\n",
              "      <td>Ignorado</td>\n",
              "      <td>52.0</td>\n",
              "      <td>47.0</td>\n",
              "      <td>44.0</td>\n",
              "      <td>35.0</td>\n",
              "      <td>24.0</td>\n",
              "      <td>36.0</td>\n",
              "      <td>41.0</td>\n",
              "      <td>31.0</td>\n",
              "      <td>37.0</td>\n",
              "      <td>31.0</td>\n",
              "      <td>15.0</td>\n",
              "    </tr>\n",
              "    <tr>\n",
              "      <th>12</th>\n",
              "      <td>Total</td>\n",
              "      <td>4023.0</td>\n",
              "      <td>4260.0</td>\n",
              "      <td>4465.0</td>\n",
              "      <td>4512.0</td>\n",
              "      <td>4719.0</td>\n",
              "      <td>4762.0</td>\n",
              "      <td>4832.0</td>\n",
              "      <td>4616.0</td>\n",
              "      <td>4635.0</td>\n",
              "      <td>4928.0</td>\n",
              "      <td>4512.0</td>\n",
              "    </tr>\n",
              "  </tbody>\n",
              "</table>\n",
              "</div>"
            ],
            "text/plain": [
              "                       Local_morte    2008    2009  ...    2016    2017    2018\n",
              "6                         Hospital  1002.0  1031.0  ...  1044.0  1022.0   905.0\n",
              "7   Outro estabelecimento de saúde    58.0    74.0  ...    93.0    95.0   102.0\n",
              "8                        Domicílio  1164.0  1199.0  ...  1393.0  1383.0  1322.0\n",
              "9                      Via pública  1179.0  1310.0  ...  1317.0  1437.0  1384.0\n",
              "10                          Outros   568.0   599.0  ...   751.0   960.0   784.0\n",
              "11                        Ignorado    52.0    47.0  ...    37.0    31.0    15.0\n",
              "12                           Total  4023.0  4260.0  ...  4635.0  4928.0  4512.0\n",
              "\n",
              "[7 rows x 12 columns]"
            ]
          },
          "metadata": {
            "tags": []
          },
          "execution_count": 141
        }
      ]
    },
    {
      "cell_type": "markdown",
      "metadata": {
        "id": "mbOrGX16OXIf",
        "colab_type": "text"
      },
      "source": [
        "**Reparemos um erro: os dados foram extraídos como se fossem números flutuantes. Para corrigir tal problema foi conveniente usar a função round para arredondar esses dados, o que significa cortar a casa decimal depois do ponto, e então trasnformar o formato desses dados para séries de inteiros.**"
      ]
    },
    {
      "cell_type": "code",
      "metadata": {
        "id": "-VPvLtYn47vh",
        "colab_type": "code",
        "colab": {
          "base_uri": "https://localhost:8080/",
          "height": 228
        },
        "outputId": "9450485e-3c1d-4352-e7a3-b088f10d606d"
      },
      "source": [
        "#visualizando o formato dos dados de cada coluna\n",
        "fem_por_local.dtypes"
      ],
      "execution_count": 142,
      "outputs": [
        {
          "output_type": "execute_result",
          "data": {
            "text/plain": [
              "Local_morte     object\n",
              "2008           float64\n",
              "2009           float64\n",
              "2010           float64\n",
              "2011           float64\n",
              "2012           float64\n",
              "2013           float64\n",
              "2014           float64\n",
              "2015           float64\n",
              "2016           float64\n",
              "2017           float64\n",
              "2018           float64\n",
              "dtype: object"
            ]
          },
          "metadata": {
            "tags": []
          },
          "execution_count": 142
        }
      ]
    },
    {
      "cell_type": "code",
      "metadata": {
        "id": "28zL-wrZWVOd",
        "colab_type": "code",
        "colab": {
          "base_uri": "https://localhost:8080/",
          "height": 248
        },
        "outputId": "c4ae2ce1-c352-4904-e055-db50ad88eb40"
      },
      "source": [
        "#utilizando a biblioteca numpy, arredondamos os dados e logo após os transformamos em séries de inteiros. Coluna por coluna. \n",
        "fem_por_local['2008']=(round(fem_por_local['2008'])).values.astype(np.int64)\n",
        "fem_por_local['2009']=(round(fem_por_local['2009'])).values.astype(np.int64)\n",
        "fem_por_local['2010']=(round(fem_por_local['2010'])).values.astype(np.int64)\n",
        "fem_por_local['2011']=(round(fem_por_local['2011'])).values.astype(np.int64)\n",
        "fem_por_local['2012']=(round(fem_por_local['2012'])).values.astype(np.int64)\n",
        "fem_por_local['2013']=(round(fem_por_local['2013'])).values.astype(np.int64)\n",
        "fem_por_local['2014']=(round(fem_por_local['2014'])).values.astype(np.int64)\n",
        "fem_por_local['2015']=(round(fem_por_local['2015'])).values.astype(np.int64)\n",
        "fem_por_local['2016']=(round(fem_por_local['2016'])).values.astype(np.int64)\n",
        "fem_por_local['2017']=(round(fem_por_local['2017'])).values.astype(np.int64)\n",
        "fem_por_local['2018']=(round(fem_por_local['2018'])).values.astype(np.int64)\n",
        "\n",
        "#visualizando o novo DataSet\n",
        "fem_por_local.head(10)"
      ],
      "execution_count": 143,
      "outputs": [
        {
          "output_type": "execute_result",
          "data": {
            "text/html": [
              "<div>\n",
              "<style scoped>\n",
              "    .dataframe tbody tr th:only-of-type {\n",
              "        vertical-align: middle;\n",
              "    }\n",
              "\n",
              "    .dataframe tbody tr th {\n",
              "        vertical-align: top;\n",
              "    }\n",
              "\n",
              "    .dataframe thead th {\n",
              "        text-align: right;\n",
              "    }\n",
              "</style>\n",
              "<table border=\"1\" class=\"dataframe\">\n",
              "  <thead>\n",
              "    <tr style=\"text-align: right;\">\n",
              "      <th></th>\n",
              "      <th>Local_morte</th>\n",
              "      <th>2008</th>\n",
              "      <th>2009</th>\n",
              "      <th>2010</th>\n",
              "      <th>2011</th>\n",
              "      <th>2012</th>\n",
              "      <th>2013</th>\n",
              "      <th>2014</th>\n",
              "      <th>2015</th>\n",
              "      <th>2016</th>\n",
              "      <th>2017</th>\n",
              "      <th>2018</th>\n",
              "    </tr>\n",
              "  </thead>\n",
              "  <tbody>\n",
              "    <tr>\n",
              "      <th>6</th>\n",
              "      <td>Hospital</td>\n",
              "      <td>1002</td>\n",
              "      <td>1031</td>\n",
              "      <td>1071</td>\n",
              "      <td>1028</td>\n",
              "      <td>1139</td>\n",
              "      <td>1123</td>\n",
              "      <td>1121</td>\n",
              "      <td>1041</td>\n",
              "      <td>1044</td>\n",
              "      <td>1022</td>\n",
              "      <td>905</td>\n",
              "    </tr>\n",
              "    <tr>\n",
              "      <th>7</th>\n",
              "      <td>Outro estabelecimento de saúde</td>\n",
              "      <td>58</td>\n",
              "      <td>74</td>\n",
              "      <td>61</td>\n",
              "      <td>68</td>\n",
              "      <td>87</td>\n",
              "      <td>77</td>\n",
              "      <td>97</td>\n",
              "      <td>83</td>\n",
              "      <td>93</td>\n",
              "      <td>95</td>\n",
              "      <td>102</td>\n",
              "    </tr>\n",
              "    <tr>\n",
              "      <th>8</th>\n",
              "      <td>Domicílio</td>\n",
              "      <td>1164</td>\n",
              "      <td>1199</td>\n",
              "      <td>1293</td>\n",
              "      <td>1295</td>\n",
              "      <td>1311</td>\n",
              "      <td>1290</td>\n",
              "      <td>1319</td>\n",
              "      <td>1307</td>\n",
              "      <td>1393</td>\n",
              "      <td>1383</td>\n",
              "      <td>1322</td>\n",
              "    </tr>\n",
              "    <tr>\n",
              "      <th>9</th>\n",
              "      <td>Via pública</td>\n",
              "      <td>1179</td>\n",
              "      <td>1310</td>\n",
              "      <td>1339</td>\n",
              "      <td>1430</td>\n",
              "      <td>1405</td>\n",
              "      <td>1488</td>\n",
              "      <td>1462</td>\n",
              "      <td>1395</td>\n",
              "      <td>1317</td>\n",
              "      <td>1437</td>\n",
              "      <td>1384</td>\n",
              "    </tr>\n",
              "    <tr>\n",
              "      <th>10</th>\n",
              "      <td>Outros</td>\n",
              "      <td>568</td>\n",
              "      <td>599</td>\n",
              "      <td>657</td>\n",
              "      <td>656</td>\n",
              "      <td>753</td>\n",
              "      <td>748</td>\n",
              "      <td>792</td>\n",
              "      <td>759</td>\n",
              "      <td>751</td>\n",
              "      <td>960</td>\n",
              "      <td>784</td>\n",
              "    </tr>\n",
              "    <tr>\n",
              "      <th>11</th>\n",
              "      <td>Ignorado</td>\n",
              "      <td>52</td>\n",
              "      <td>47</td>\n",
              "      <td>44</td>\n",
              "      <td>35</td>\n",
              "      <td>24</td>\n",
              "      <td>36</td>\n",
              "      <td>41</td>\n",
              "      <td>31</td>\n",
              "      <td>37</td>\n",
              "      <td>31</td>\n",
              "      <td>15</td>\n",
              "    </tr>\n",
              "    <tr>\n",
              "      <th>12</th>\n",
              "      <td>Total</td>\n",
              "      <td>4023</td>\n",
              "      <td>4260</td>\n",
              "      <td>4465</td>\n",
              "      <td>4512</td>\n",
              "      <td>4719</td>\n",
              "      <td>4762</td>\n",
              "      <td>4832</td>\n",
              "      <td>4616</td>\n",
              "      <td>4635</td>\n",
              "      <td>4928</td>\n",
              "      <td>4512</td>\n",
              "    </tr>\n",
              "  </tbody>\n",
              "</table>\n",
              "</div>"
            ],
            "text/plain": [
              "                       Local_morte  2008  2009  2010  ...  2015  2016  2017  2018\n",
              "6                         Hospital  1002  1031  1071  ...  1041  1044  1022   905\n",
              "7   Outro estabelecimento de saúde    58    74    61  ...    83    93    95   102\n",
              "8                        Domicílio  1164  1199  1293  ...  1307  1393  1383  1322\n",
              "9                      Via pública  1179  1310  1339  ...  1395  1317  1437  1384\n",
              "10                          Outros   568   599   657  ...   759   751   960   784\n",
              "11                        Ignorado    52    47    44  ...    31    37    31    15\n",
              "12                           Total  4023  4260  4465  ...  4616  4635  4928  4512\n",
              "\n",
              "[7 rows x 12 columns]"
            ]
          },
          "metadata": {
            "tags": []
          },
          "execution_count": 143
        }
      ]
    },
    {
      "cell_type": "markdown",
      "metadata": {
        "id": "NK-pm58_PFIF",
        "colab_type": "text"
      },
      "source": [
        "**Em um primeiro momento conseguimos observar e concluir que a maioria dos crimes ocorreram em vias públicas, seguidos exatamente dos crimes que ocorreram nas próprias residências das vítimas com diferenças não muito significativas; eis a nossa proxy.**\n",
        "\n",
        "**E para que possamos visualizar melhor essa comparação, Vamos criar uma coluna que irá conter o total de mortes na série decenal por cada local de ocorrência.** "
      ]
    },
    {
      "cell_type": "code",
      "metadata": {
        "id": "hiCMt7h1ox5A",
        "colab_type": "code",
        "colab": {
          "base_uri": "https://localhost:8080/",
          "height": 248
        },
        "outputId": "c4b97c2a-0c18-4c6b-fc26-2d50e7e3bc9a"
      },
      "source": [
        "#criando uma lista que recebera todo o DATASET\n",
        "lista_colunas=list(fem_por_local)\n",
        "#criando uma coluna 'Total' no DATASET, que receberá os dados da lista criada e somados linha por linha. \n",
        "fem_por_local['Total']=fem_por_local[lista_colunas].sum(axis=1)\n",
        "fem_por_local.head(10)\n"
      ],
      "execution_count": 144,
      "outputs": [
        {
          "output_type": "execute_result",
          "data": {
            "text/html": [
              "<div>\n",
              "<style scoped>\n",
              "    .dataframe tbody tr th:only-of-type {\n",
              "        vertical-align: middle;\n",
              "    }\n",
              "\n",
              "    .dataframe tbody tr th {\n",
              "        vertical-align: top;\n",
              "    }\n",
              "\n",
              "    .dataframe thead th {\n",
              "        text-align: right;\n",
              "    }\n",
              "</style>\n",
              "<table border=\"1\" class=\"dataframe\">\n",
              "  <thead>\n",
              "    <tr style=\"text-align: right;\">\n",
              "      <th></th>\n",
              "      <th>Local_morte</th>\n",
              "      <th>2008</th>\n",
              "      <th>2009</th>\n",
              "      <th>2010</th>\n",
              "      <th>2011</th>\n",
              "      <th>2012</th>\n",
              "      <th>2013</th>\n",
              "      <th>2014</th>\n",
              "      <th>2015</th>\n",
              "      <th>2016</th>\n",
              "      <th>2017</th>\n",
              "      <th>2018</th>\n",
              "      <th>Total</th>\n",
              "    </tr>\n",
              "  </thead>\n",
              "  <tbody>\n",
              "    <tr>\n",
              "      <th>6</th>\n",
              "      <td>Hospital</td>\n",
              "      <td>1002</td>\n",
              "      <td>1031</td>\n",
              "      <td>1071</td>\n",
              "      <td>1028</td>\n",
              "      <td>1139</td>\n",
              "      <td>1123</td>\n",
              "      <td>1121</td>\n",
              "      <td>1041</td>\n",
              "      <td>1044</td>\n",
              "      <td>1022</td>\n",
              "      <td>905</td>\n",
              "      <td>11527</td>\n",
              "    </tr>\n",
              "    <tr>\n",
              "      <th>7</th>\n",
              "      <td>Outro estabelecimento de saúde</td>\n",
              "      <td>58</td>\n",
              "      <td>74</td>\n",
              "      <td>61</td>\n",
              "      <td>68</td>\n",
              "      <td>87</td>\n",
              "      <td>77</td>\n",
              "      <td>97</td>\n",
              "      <td>83</td>\n",
              "      <td>93</td>\n",
              "      <td>95</td>\n",
              "      <td>102</td>\n",
              "      <td>895</td>\n",
              "    </tr>\n",
              "    <tr>\n",
              "      <th>8</th>\n",
              "      <td>Domicílio</td>\n",
              "      <td>1164</td>\n",
              "      <td>1199</td>\n",
              "      <td>1293</td>\n",
              "      <td>1295</td>\n",
              "      <td>1311</td>\n",
              "      <td>1290</td>\n",
              "      <td>1319</td>\n",
              "      <td>1307</td>\n",
              "      <td>1393</td>\n",
              "      <td>1383</td>\n",
              "      <td>1322</td>\n",
              "      <td>14276</td>\n",
              "    </tr>\n",
              "    <tr>\n",
              "      <th>9</th>\n",
              "      <td>Via pública</td>\n",
              "      <td>1179</td>\n",
              "      <td>1310</td>\n",
              "      <td>1339</td>\n",
              "      <td>1430</td>\n",
              "      <td>1405</td>\n",
              "      <td>1488</td>\n",
              "      <td>1462</td>\n",
              "      <td>1395</td>\n",
              "      <td>1317</td>\n",
              "      <td>1437</td>\n",
              "      <td>1384</td>\n",
              "      <td>15146</td>\n",
              "    </tr>\n",
              "    <tr>\n",
              "      <th>10</th>\n",
              "      <td>Outros</td>\n",
              "      <td>568</td>\n",
              "      <td>599</td>\n",
              "      <td>657</td>\n",
              "      <td>656</td>\n",
              "      <td>753</td>\n",
              "      <td>748</td>\n",
              "      <td>792</td>\n",
              "      <td>759</td>\n",
              "      <td>751</td>\n",
              "      <td>960</td>\n",
              "      <td>784</td>\n",
              "      <td>8027</td>\n",
              "    </tr>\n",
              "    <tr>\n",
              "      <th>11</th>\n",
              "      <td>Ignorado</td>\n",
              "      <td>52</td>\n",
              "      <td>47</td>\n",
              "      <td>44</td>\n",
              "      <td>35</td>\n",
              "      <td>24</td>\n",
              "      <td>36</td>\n",
              "      <td>41</td>\n",
              "      <td>31</td>\n",
              "      <td>37</td>\n",
              "      <td>31</td>\n",
              "      <td>15</td>\n",
              "      <td>393</td>\n",
              "    </tr>\n",
              "    <tr>\n",
              "      <th>12</th>\n",
              "      <td>Total</td>\n",
              "      <td>4023</td>\n",
              "      <td>4260</td>\n",
              "      <td>4465</td>\n",
              "      <td>4512</td>\n",
              "      <td>4719</td>\n",
              "      <td>4762</td>\n",
              "      <td>4832</td>\n",
              "      <td>4616</td>\n",
              "      <td>4635</td>\n",
              "      <td>4928</td>\n",
              "      <td>4512</td>\n",
              "      <td>50264</td>\n",
              "    </tr>\n",
              "  </tbody>\n",
              "</table>\n",
              "</div>"
            ],
            "text/plain": [
              "                       Local_morte  2008  2009  2010  ...  2016  2017  2018  Total\n",
              "6                         Hospital  1002  1031  1071  ...  1044  1022   905  11527\n",
              "7   Outro estabelecimento de saúde    58    74    61  ...    93    95   102    895\n",
              "8                        Domicílio  1164  1199  1293  ...  1393  1383  1322  14276\n",
              "9                      Via pública  1179  1310  1339  ...  1317  1437  1384  15146\n",
              "10                          Outros   568   599   657  ...   751   960   784   8027\n",
              "11                        Ignorado    52    47    44  ...    37    31    15    393\n",
              "12                           Total  4023  4260  4465  ...  4635  4928  4512  50264\n",
              "\n",
              "[7 rows x 13 columns]"
            ]
          },
          "metadata": {
            "tags": []
          },
          "execution_count": 144
        }
      ]
    },
    {
      "cell_type": "code",
      "metadata": {
        "id": "hlYJvLAFpWLj",
        "colab_type": "code",
        "colab": {
          "base_uri": "https://localhost:8080/",
          "height": 163
        },
        "outputId": "7ab08b7c-bb4a-413e-ef12-2dd08e4d08ad"
      },
      "source": [
        "#verificando as ordens descendentes de tais dados\n",
        "\n",
        "#definindo os locais das mortes como indexador para melhor visualização\n",
        "fem_por_local=fem_por_local.set_index('Local_morte')\n",
        "\n",
        "#visualizando os dados de forma descendente\n",
        "fem_por_local.Total.sort_values(ascending=False)\n"
      ],
      "execution_count": 145,
      "outputs": [
        {
          "output_type": "execute_result",
          "data": {
            "text/plain": [
              "Local_morte\n",
              "Total                             50264\n",
              "Via pública                       15146\n",
              "Domicílio                         14276\n",
              "Hospital                          11527\n",
              "Outros                             8027\n",
              "Outro estabelecimento de saúde      895\n",
              "Ignorado                            393\n",
              "Name: Total, dtype: int64"
            ]
          },
          "metadata": {
            "tags": []
          },
          "execution_count": 145
        }
      ]
    },
    {
      "cell_type": "code",
      "metadata": {
        "id": "qkPb415jWwJv",
        "colab_type": "code",
        "colab": {
          "base_uri": "https://localhost:8080/",
          "height": 53
        },
        "outputId": "cade1405-3808-4759-a285-ad1e4824db35"
      },
      "source": [
        "print('De um total de 50.264 mortes de mulheres por motivos de agressão,',(\"{:.2f}\".format((14276/50264)*100)),\n",
        "      '% ocorreram dentro dos proprios domicilios dessas mulheres, o que somam 14.276 mortes desse tipo.')"
      ],
      "execution_count": 146,
      "outputs": [
        {
          "output_type": "stream",
          "text": [
            "De um total de 50.264 mortes de mulheres por motivos de agressão, 28.40 % ocorreram dentro dos proprios domicilios dessas mulheres, o que somam 14.276 mortes desse tipo.\n"
          ],
          "name": "stdout"
        }
      ]
    },
    {
      "cell_type": "markdown",
      "metadata": {
        "id": "qUgia44V0LA2",
        "colab_type": "text"
      },
      "source": [
        "**Considerações finais.**\n",
        "\n",
        "**O feminicidio é um problema socioeconômico que recebe cada vez mais apelo por mudanças no cenário brasileiro, um dos países mais violentos para uma mulher viver, e trabalhos analíticos desse tipo podem orientar tomadas de decisão que visam combater o fenômeno em nossa sociedade, bem como colaborar com estudos sociais aplicados que tentam identificar a efetividade dos diferentes programas e leis voltadas ao combate do feminicídio.**"
      ]
    },
    {
      "cell_type": "code",
      "metadata": {
        "id": "ozlozk5UOiqq",
        "colab_type": "code",
        "colab": {}
      },
      "source": [
        ""
      ],
      "execution_count": null,
      "outputs": []
    }
  ]
}
